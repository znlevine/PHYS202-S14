{
 "metadata": {
  "name": "",
  "signature": "sha256:1df8d2e9e7a488441959b1ebd6df940a17f03077d9cab9b23e1ae349340f9171"
 },
 "nbformat": 3,
 "nbformat_minor": 0,
 "worksheets": [
  {
   "cells": [
    {
     "cell_type": "markdown",
     "metadata": {},
     "source": [
      "If the numbers 1 to 5 are written out in words: one, two, three, four, five, then there are 3 + 3 + 5 + 4 + 4 = 19 letters used in total.\n",
      "\n",
      "If all the numbers from 1 to 1000 (one thousand) inclusive were written out in words, how many letters would be used?\n",
      "\n",
      "\n",
      "NOTE: Do not count spaces or hyphens. For example, 342 (three hundred and forty-two) contains 23 letters and 115 (one hundred and fifteen) contains 20 letters. The use of \"and\" when writing out numbers is in compliance with British usage."
     ]
    },
    {
     "cell_type": "code",
     "collapsed": false,
     "input": [
      "ones=[0,3,3,5,4,4,3,5,5,4,3,6,6,8,8,7,7,9,8,8] \n",
      "tens=[0,3,6,6,5,5,5,7,6,6]\n",
      "hundred=7\n",
      "thousand=8\n",
      "\n",
      "total=0\n",
      "for number in range(1,6):#test case\n",
      "    c=number%10 #ones digit\n",
      "    b=((number%100)-c)/10 #tens digit\n",
      "    a=((number%1000)-(b*10)-c)/100 #hundreds\n",
      "    \n",
      "    if a!=0:\n",
      "        total+=ones[a]+hundred\n",
      "        if b!=0 or c!=0: \n",
      "            total+=3 #AND\n",
      "    if b==0 or b==1:\n",
      "        total+=ones[b*10+c]\n",
      "    else:\n",
      "        total+=tens[b]+ones[c]\n",
      "        \n",
      "print total\n",
      "      \n",
      "total=0\n",
      "for number in range(1,1000):#test case\n",
      "    c=number%10 #ones digit\n",
      "    b=((number%100)-c)/10 #tens digit\n",
      "    a=((number%1000)-(b*10)-c)/100 #hundreds\n",
      "    \n",
      "    if a!=0:\n",
      "        total+=ones[a]+hundred\n",
      "        if b!=0 or c!=0: \n",
      "            total+=3 #AND\n",
      "    if b==0 or b==1:\n",
      "        total+=ones[b*10+c]\n",
      "    else:\n",
      "        total+=tens[b]+ones[c]\n",
      "        \n",
      "total+=ones[1]+thousand\n",
      "print total\n",
      "\n"
     ],
     "language": "python",
     "metadata": {},
     "outputs": [
      {
       "output_type": "stream",
       "stream": "stdout",
       "text": [
        "19\n",
        "21124\n"
       ]
      }
     ],
     "prompt_number": 13
    },
    {
     "cell_type": "code",
     "collapsed": false,
     "input": [],
     "language": "python",
     "metadata": {},
     "outputs": []
    }
   ],
   "metadata": {}
  }
 ]
}