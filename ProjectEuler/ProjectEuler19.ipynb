{
 "metadata": {
  "name": "",
  "signature": "sha256:dec8dba9770ef4bb4dfc3f8838ae1d091e6574d3e819f20f3e96e0c5c5d28b14"
 },
 "nbformat": 3,
 "nbformat_minor": 0,
 "worksheets": [
  {
   "cells": [
    {
     "cell_type": "heading",
     "level": 1,
     "metadata": {},
     "source": [
      "Counting Sundays "
     ]
    },
    {
     "cell_type": "heading",
     "level": 4,
     "metadata": {},
     "source": [
      "Problem 19"
     ]
    },
    {
     "cell_type": "markdown",
     "metadata": {},
     "source": [
      "You are given the following information, but you may prefer to do some research for yourself.\n",
      "\n",
      "1 Jan 1900 was a Monday.\n",
      "\n",
      "Thirty days has September,\n",
      "\n",
      "April, June and November.\n",
      "\n",
      "All the rest have thirty-one,\n",
      "\n",
      "Saving February alone,\n",
      "\n",
      "Which has twenty-eight, rain or shine.\n",
      "\n",
      "And on leap years, twenty-nine.\n",
      "\n",
      "A leap year occurs on any year evenly divisible by 4, but not on a century \n",
      "unless it is divisible by 400.\n",
      "\n",
      "How many Sundays fell on the first of the month during the twentieth century (1 Jan 1901 to 31 Dec 2000)?"
     ]
    },
    {
     "cell_type": "code",
     "collapsed": false,
     "input": [
      "month=1\n",
      "Day=1\n",
      "Year=1900\n",
      "DaysAdded=0\n",
      "FirstSundays=0\n",
      "while Year<2001:\n",
      "    if month==1 or month==3 or month==5 or month==7 or month==8 or month==10 or month==12:\n",
      "        DaysAdded=31\n",
      "    if month==4 or month==6 or month==9 or month==11:\n",
      "        DaysAdded=30\n",
      "    if month==2:\n",
      "        if (Year-1900)%4==0 and Year!=1900:\n",
      "            DaysAdded=29\n",
      "        else:\n",
      "            DaysAdded=28\n",
      "    month+=1\n",
      "    Day+=DaysAdded\n",
      "    Day=Day%7\n",
      "    if Year!=1900 and Day==0:\n",
      "        FirstSundays+=1\n",
      "    if month==13:\n",
      "        month=1\n",
      "        Year+=1\n",
      "print FirstSundays"
     ],
     "language": "python",
     "metadata": {},
     "outputs": [
      {
       "output_type": "stream",
       "stream": "stdout",
       "text": [
        "171\n"
       ]
      }
     ],
     "prompt_number": 9
    },
    {
     "cell_type": "code",
     "collapsed": false,
     "input": [],
     "language": "python",
     "metadata": {},
     "outputs": [],
     "prompt_number": 3
    },
    {
     "cell_type": "code",
     "collapsed": false,
     "input": [],
     "language": "python",
     "metadata": {},
     "outputs": []
    }
   ],
   "metadata": {}
  }
 ]
}