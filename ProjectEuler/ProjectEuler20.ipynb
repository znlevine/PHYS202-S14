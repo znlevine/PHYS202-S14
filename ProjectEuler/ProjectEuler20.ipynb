{
 "metadata": {
  "name": "",
  "signature": "sha256:f0071e01186a3d5ded888226f287eb468b85584410d5a5b8550d7c9ebb95fed0"
 },
 "nbformat": 3,
 "nbformat_minor": 0,
 "worksheets": [
  {
   "cells": [
    {
     "cell_type": "markdown",
     "metadata": {},
     "source": [
      "n! means n \u00d7 (n \u2212 1) \u00d7 ... \u00d7 3 \u00d7 2 \u00d7 1\n",
      "\n",
      "For example, 10! = 10 \u00d7 9 \u00d7 ... \u00d7 3 \u00d7 2 \u00d7 1 = 3628800,\n",
      "and the sum of the digits in the number 10! is 3 + 6 + 2 + 8 + 8 + 0 + 0 = 27.\n",
      "\n",
      "Find the sum of the digits in the number 100!"
     ]
    },
    {
     "cell_type": "code",
     "collapsed": false,
     "input": [
      "def exclamationPoint(n):\n",
      "    total=1\n",
      "    mult=1\n",
      "    while mult<=n:\n",
      "        total=total*mult\n",
      "        mult+=1\n",
      "    return total\n",
      "\n",
      "def addDigits(n):\n",
      "    return sum([int(i) for i in str(n)])\n",
      "    \n",
      "    \n",
      "print exclamationPoint(10)\n",
      "print addDigits(exclamationPoint(10))\n",
      "print exclamationPoint(100)\n",
      "print addDigits(exclamationPoint(100))"
     ],
     "language": "python",
     "metadata": {},
     "outputs": [
      {
       "output_type": "stream",
       "stream": "stdout",
       "text": [
        "3628800\n",
        "27\n",
        "93326215443944152681699238856266700490715968264381621468592963895217599993229915608941463976156518286253697920827223758251185210916864000000000000000000000000\n",
        "648\n"
       ]
      }
     ],
     "prompt_number": 2
    },
    {
     "cell_type": "code",
     "collapsed": false,
     "input": [],
     "language": "python",
     "metadata": {},
     "outputs": []
    }
   ],
   "metadata": {}
  }
 ]
}