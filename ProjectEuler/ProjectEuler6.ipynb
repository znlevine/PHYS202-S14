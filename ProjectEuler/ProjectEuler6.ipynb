{
 "metadata": {
  "name": "",
  "signature": "sha256:dad66254fd6803f42b4b9c2c2d6678059422fb7450165605e39efb41af7e98db"
 },
 "nbformat": 3,
 "nbformat_minor": 0,
 "worksheets": [
  {
   "cells": [
    {
     "cell_type": "heading",
     "level": 1,
     "metadata": {},
     "source": [
      "Sum Square Difference"
     ]
    },
    {
     "cell_type": "heading",
     "level": 4,
     "metadata": {},
     "source": [
      "Problem 6"
     ]
    },
    {
     "cell_type": "markdown",
     "metadata": {},
     "source": [
      "The sum of the squares of the first ten natural numbers is,\n",
      "\n",
      "1^2 + 2^2 + ... + 10^2 = 385\n",
      "The square of the sum of the first ten natural numbers is,\n",
      "\n",
      "(1 + 2 + ... + 10)^2 = 55^2 = 3025\n",
      "Hence the difference between the sum of the squares of the first ten natural numbers and the square of the sum is 3025 \u2212 385 = 2640.\n",
      "\n",
      "Find the difference between the sum of the squares of the first one hundred natural numbers and the square of the sum."
     ]
    },
    {
     "cell_type": "code",
     "collapsed": false,
     "input": [
      "def sumsquare(maximum):\n",
      "    numbers = range(1,maximum+1)\n",
      "    squareds = []\n",
      "    for i in numbers:\n",
      "        squareds.append(i**2)\n",
      "    \n",
      "    print sum(numbers)**2\n",
      "    print sum(squareds)\n",
      "    print sum(numbers)**2-sum(squareds)\n",
      "sumsquare(10)\n",
      "sumsquare(100)"
     ],
     "language": "python",
     "metadata": {},
     "outputs": [
      {
       "output_type": "stream",
       "stream": "stdout",
       "text": [
        "3025\n",
        "385\n",
        "2640\n",
        "25502500\n",
        "338350\n",
        "25164150\n"
       ]
      }
     ],
     "prompt_number": 6
    },
    {
     "cell_type": "code",
     "collapsed": false,
     "input": [],
     "language": "python",
     "metadata": {},
     "outputs": [],
     "prompt_number": 3
    },
    {
     "cell_type": "code",
     "collapsed": false,
     "input": [],
     "language": "python",
     "metadata": {},
     "outputs": []
    }
   ],
   "metadata": {}
  }
 ]
}