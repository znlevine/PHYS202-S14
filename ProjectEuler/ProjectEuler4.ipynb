{
 "metadata": {
  "name": "",
  "signature": "sha256:77e9a2cda3799dd46910dfa60006538aae5088c13097ef1fc5ba79180f535eb7"
 },
 "nbformat": 3,
 "nbformat_minor": 0,
 "worksheets": [
  {
   "cells": [
    {
     "cell_type": "heading",
     "level": 1,
     "metadata": {},
     "source": [
      "Largest palindrome product\n"
     ]
    },
    {
     "cell_type": "markdown",
     "metadata": {},
     "source": [
      "Problem 4\n",
      "\n",
      "A palindromic number reads the same both ways. The largest palindrome made from the product of two 2-digit numbers is 9009 = 91 \u00d7 99.\n",
      "\n",
      "Find the largest palindrome made from the product of two 3-digit numbers.\n",
      "\n"
     ]
    },
    {
     "cell_type": "code",
     "collapsed": false,
     "input": [
      "import numpy as np\n",
      "\n",
      "def Palindrome(digits):\n",
      "    x=10**(digits)\n",
      "    y=10**(digits)\n",
      "    print x,y\n",
      "    maxdrome=0\n",
      "    xlong=np.arange(1,x,1)\n",
      "    ylong=np.arange(1,y,1)\n",
      "    for test1 in xlong:\n",
      "        for test2 in ylong:\n",
      "            drome=test1*test2\n",
      "            inversedrome=int(str(drome)[::-1])\n",
      "            if drome==inversedrome and drome>maxdrome:\n",
      "                maxdrome=drome\n",
      "    \n",
      "    \n",
      "    print maxdrome\n",
      "Palindrome(2)\n",
      "Palindrome(3)\n"
     ],
     "language": "python",
     "metadata": {},
     "outputs": [
      {
       "output_type": "stream",
       "stream": "stdout",
       "text": [
        "100 100\n",
        "9009"
       ]
      },
      {
       "output_type": "stream",
       "stream": "stdout",
       "text": [
        "\n",
        "1000 1000\n",
        "906609"
       ]
      },
      {
       "output_type": "stream",
       "stream": "stdout",
       "text": [
        "\n"
       ]
      }
     ],
     "prompt_number": 13
    },
    {
     "cell_type": "code",
     "collapsed": false,
     "input": [],
     "language": "python",
     "metadata": {},
     "outputs": [],
     "prompt_number": 2
    },
    {
     "cell_type": "code",
     "collapsed": false,
     "input": [],
     "language": "python",
     "metadata": {},
     "outputs": []
    }
   ],
   "metadata": {}
  }
 ]
}