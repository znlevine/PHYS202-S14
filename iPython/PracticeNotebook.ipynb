{
 "metadata": {
  "name": "",
  "signature": "sha256:2ba1a0af55f7dcea027b7408a2f1f6c865f21b4e106fa0c5516b80d943f05e4c"
 },
 "nbformat": 3,
 "nbformat_minor": 0,
 "worksheets": [
  {
   "cells": [
    {
     "cell_type": "heading",
     "level": 1,
     "metadata": {},
     "source": [
      "PracticeNotebook"
     ]
    },
    {
     "cell_type": "heading",
     "level": 5,
     "metadata": {},
     "source": [
      "Playing with Code cells!"
     ]
    },
    {
     "cell_type": "code",
     "collapsed": false,
     "input": [],
     "language": "python",
     "metadata": {},
     "outputs": [],
     "prompt_number": 0
    },
    {
     "cell_type": "code",
     "collapsed": false,
     "input": [],
     "language": "python",
     "metadata": {},
     "outputs": [],
     "prompt_number": 0
    },
    {
     "cell_type": "code",
     "collapsed": false,
     "input": [
      "print \"Hello World\""
     ],
     "language": "python",
     "metadata": {},
     "outputs": [
      {
       "output_type": "stream",
       "stream": "stdout",
       "text": [
        "Hello World\n"
       ]
      }
     ],
     "prompt_number": 2
    },
    {
     "cell_type": "code",
     "collapsed": false,
     "input": [
      "print \"Cookies!\""
     ],
     "language": "python",
     "metadata": {},
     "outputs": [
      {
       "output_type": "stream",
       "stream": "stdout",
       "text": [
        "Cookies!\n"
       ]
      }
     ],
     "prompt_number": 3
    },
    {
     "cell_type": "code",
     "collapsed": false,
     "input": [
      "a = 10"
     ],
     "language": "python",
     "metadata": {},
     "outputs": [],
     "prompt_number": 4
    },
    {
     "cell_type": "code",
     "collapsed": false,
     "input": [
      "print a"
     ],
     "language": "python",
     "metadata": {},
     "outputs": [
      {
       "output_type": "stream",
       "stream": "stdout",
       "text": [
        "10\n"
       ]
      }
     ],
     "prompt_number": 5
    },
    {
     "cell_type": "code",
     "collapsed": false,
     "input": [
      "a = 100\n",
      "print a"
     ],
     "language": "python",
     "metadata": {},
     "outputs": [
      {
       "output_type": "stream",
       "stream": "stdout",
       "text": [
        "100\n"
       ]
      }
     ],
     "prompt_number": 6
    },
    {
     "cell_type": "code",
     "collapsed": false,
     "input": [
      "i=0\n",
      "while i<100:\n",
      "    print \"I'm hungry!\"\n",
      "    i+=1\n"
     ],
     "language": "python",
     "metadata": {},
     "outputs": [
      {
       "output_type": "stream",
       "stream": "stdout",
       "text": [
        "I'm hungry!\n",
        "I'm hungry!\n",
        "I'm hungry!\n",
        "I'm hungry!\n",
        "I'm hungry!\n",
        "I'm hungry!\n",
        "I'm hungry!\n",
        "I'm hungry!\n",
        "I'm hungry!\n",
        "I'm hungry!\n",
        "I'm hungry!\n",
        "I'm hungry!\n",
        "I'm hungry!\n",
        "I'm hungry!\n",
        "I'm hungry!\n",
        "I'm hungry!\n",
        "I'm hungry!\n",
        "I'm hungry!\n",
        "I'm hungry!\n",
        "I'm hungry!\n",
        "I'm hungry!\n",
        "I'm hungry!\n",
        "I'm hungry!\n",
        "I'm hungry!\n",
        "I'm hungry!\n",
        "I'm hungry!\n",
        "I'm hungry!\n",
        "I'm hungry!\n",
        "I'm hungry!\n",
        "I'm hungry!\n",
        "I'm hungry!\n",
        "I'm hungry!\n",
        "I'm hungry!\n",
        "I'm hungry!\n",
        "I'm hungry!\n",
        "I'm hungry!\n",
        "I'm hungry!\n",
        "I'm hungry!\n",
        "I'm hungry!\n",
        "I'm hungry!\n",
        "I'm hungry!\n",
        "I'm hungry!\n",
        "I'm hungry!\n",
        "I'm hungry!\n",
        "I'm hungry!\n",
        "I'm hungry!\n",
        "I'm hungry!\n",
        "I'm hungry!\n",
        "I'm hungry!\n",
        "I'm hungry!\n",
        "I'm hungry!\n",
        "I'm hungry!\n",
        "I'm hungry!\n",
        "I'm hungry!\n",
        "I'm hungry!\n",
        "I'm hungry!\n",
        "I'm hungry!\n",
        "I'm hungry!\n",
        "I'm hungry!\n",
        "I'm hungry!\n",
        "I'm hungry!\n",
        "I'm hungry!\n",
        "I'm hungry!\n",
        "I'm hungry!\n",
        "I'm hungry!\n",
        "I'm hungry!\n",
        "I'm hungry!\n",
        "I'm hungry!\n",
        "I'm hungry!\n",
        "I'm hungry!\n",
        "I'm hungry!\n",
        "I'm hungry!\n",
        "I'm hungry!\n",
        "I'm hungry!\n",
        "I'm hungry!\n",
        "I'm hungry!\n",
        "I'm hungry!\n",
        "I'm hungry!\n",
        "I'm hungry!\n",
        "I'm hungry!\n",
        "I'm hungry!\n",
        "I'm hungry!\n",
        "I'm hungry!\n",
        "I'm hungry!\n",
        "I'm hungry!\n",
        "I'm hungry!\n",
        "I'm hungry!\n",
        "I'm hungry!\n",
        "I'm hungry!\n",
        "I'm hungry!\n",
        "I'm hungry!\n",
        "I'm hungry!\n",
        "I'm hungry!\n",
        "I'm hungry!\n",
        "I'm hungry!\n",
        "I'm hungry!\n",
        "I'm hungry!\n",
        "I'm hungry!\n",
        "I'm hungry!\n",
        "I'm hungry!\n"
       ]
      }
     ],
     "prompt_number": 7
    },
    {
     "cell_type": "code",
     "collapsed": false,
     "input": [
      "i = 1"
     ],
     "language": "python",
     "metadata": {},
     "outputs": [],
     "prompt_number": 8
    },
    {
     "cell_type": "code",
     "collapsed": false,
     "input": [],
     "language": "python",
     "metadata": {},
     "outputs": [],
     "prompt_number": 11
    },
    {
     "cell_type": "code",
     "collapsed": false,
     "input": [
      "for i in range(a):\n",
      "    print i\n"
     ],
     "language": "python",
     "metadata": {},
     "outputs": [
      {
       "output_type": "stream",
       "stream": "stdout",
       "text": [
        "0\n",
        "1\n",
        "2\n",
        "3\n",
        "4\n",
        "5\n",
        "6\n",
        "7\n",
        "8\n",
        "9\n",
        "10\n",
        "11\n",
        "12\n",
        "13\n",
        "14\n",
        "15\n",
        "16\n",
        "17\n",
        "18\n",
        "19\n",
        "20\n",
        "21\n",
        "22\n",
        "23\n",
        "24\n",
        "25\n",
        "26\n",
        "27\n",
        "28\n",
        "29\n",
        "30\n",
        "31\n",
        "32\n",
        "33\n",
        "34\n",
        "35\n",
        "36\n",
        "37\n",
        "38\n",
        "39\n",
        "40\n",
        "41\n",
        "42\n",
        "43\n",
        "44\n",
        "45\n",
        "46\n",
        "47\n",
        "48\n",
        "49\n",
        "50\n",
        "51\n",
        "52\n",
        "53\n",
        "54\n",
        "55\n",
        "56\n",
        "57\n",
        "58\n",
        "59\n",
        "60\n",
        "61\n",
        "62\n",
        "63\n",
        "64\n",
        "65\n",
        "66\n",
        "67\n",
        "68\n",
        "69\n",
        "70\n",
        "71\n",
        "72\n",
        "73\n",
        "74\n",
        "75\n",
        "76\n",
        "77\n",
        "78\n",
        "79\n",
        "80\n",
        "81\n",
        "82\n",
        "83\n",
        "84\n",
        "85\n",
        "86\n",
        "87\n",
        "88\n",
        "89\n",
        "90\n",
        "91\n",
        "92\n",
        "93\n",
        "94\n",
        "95\n",
        "96\n",
        "97\n",
        "98\n",
        "99\n"
       ]
      }
     ],
     "prompt_number": 12
    },
    {
     "cell_type": "heading",
     "level": 3,
     "metadata": {},
     "source": [
      "Playing with Markdown"
     ]
    },
    {
     "cell_type": "markdown",
     "metadata": {},
     "source": [
      "My Favorite Text\n",
      "\n",
      "*More fun thingers!"
     ]
    },
    {
     "cell_type": "markdown",
     "metadata": {},
     "source": [
      "**To boldy gowhere no man has gone before!"
     ]
    }
   ],
   "metadata": {}
  }
 ]
}