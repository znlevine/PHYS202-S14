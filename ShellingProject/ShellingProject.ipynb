{
 "metadata": {
  "name": "",
  "signature": "sha256:f418fc261e389c8e98e1a4585c507ebe9ad637ccd56a5e6b64c0778424da3442"
 },
 "nbformat": 3,
 "nbformat_minor": 0,
 "worksheets": [
  {
   "cells": [
    {
     "cell_type": "code",
     "collapsed": false,
     "input": [
      "from ipythonblocks import BlockGrid\n",
      "import ipythonblocks\n",
      "import random\n",
      "height=8\n",
      "width=8\n",
      "\n",
      "grid=BlockGrid(height,width,(0,0,0))\n",
      "empty=.20\n",
      "split=.50\n",
      "sqnum=grid.height*grid.width\n",
      "fillempty=sqnum*empty\n",
      "while fillempty>0:\n",
      "    targetrow=random.randrange(0,grid.height,1)\n",
      "    targetcol=random.randrange(0,grid.width,1)\n",
      "    square=grid[targetrow,targetcol]\n",
      "    if square.green==0:\n",
      "        square.green=200\n",
      "        fillempty-=1\n",
      "fillempty=split*sqnum\n",
      "while fillempty>0:\n",
      "    targetrow=random.randrange(0,grid.height,1)\n",
      "    targetcol=random.randrange(0,grid.width,1)\n",
      "    square=grid[targetrow,targetcol]\n",
      "    if square.red==0 and square.green==0:\n",
      "        square.red=200\n",
      "        fillempty-=1\n",
      "for row in range(grid.height):\n",
      "    for col in range(grid.width):\n",
      "        square = grid[row,col]\n",
      "        if square.red==0 and square.green==0 and square.blue==0:\n",
      "            square.blue=200\n",
      "\n",
      "#To test for similarity; find color, sum up surrounding square's value in that color\n",
      "grid.show()"
     ],
     "language": "python",
     "metadata": {},
     "outputs": [
      {
       "html": [
        "<style type=\"text/css\">table.blockgrid {border: none;} .blockgrid tr {border: none;} .blockgrid td {padding: 0px;} #blocks23999cf6-80bc-497b-b8b8-001b5357d96e td {border: 1px solid white;}</style><table id=\"blocks23999cf6-80bc-497b-b8b8-001b5357d96e\" class=\"blockgrid\"><tbody><tr><td title=\"Index: [0, 0]&#10;Color: (0, 0, 200)\" style=\"width: 20px; height: 20px;background-color: rgb(0, 0, 200);\"></td><td title=\"Index: [0, 1]&#10;Color: (0, 200, 0)\" style=\"width: 20px; height: 20px;background-color: rgb(0, 200, 0);\"></td><td title=\"Index: [0, 2]&#10;Color: (0, 0, 200)\" style=\"width: 20px; height: 20px;background-color: rgb(0, 0, 200);\"></td><td title=\"Index: [0, 3]&#10;Color: (200, 0, 0)\" style=\"width: 20px; height: 20px;background-color: rgb(200, 0, 0);\"></td><td title=\"Index: [0, 4]&#10;Color: (200, 0, 0)\" style=\"width: 20px; height: 20px;background-color: rgb(200, 0, 0);\"></td><td title=\"Index: [0, 5]&#10;Color: (200, 0, 0)\" style=\"width: 20px; height: 20px;background-color: rgb(200, 0, 0);\"></td><td title=\"Index: [0, 6]&#10;Color: (0, 0, 200)\" style=\"width: 20px; height: 20px;background-color: rgb(0, 0, 200);\"></td><td title=\"Index: [0, 7]&#10;Color: (0, 0, 200)\" style=\"width: 20px; height: 20px;background-color: rgb(0, 0, 200);\"></td></tr><tr><td title=\"Index: [1, 0]&#10;Color: (200, 0, 0)\" style=\"width: 20px; height: 20px;background-color: rgb(200, 0, 0);\"></td><td title=\"Index: [1, 1]&#10;Color: (200, 0, 0)\" style=\"width: 20px; height: 20px;background-color: rgb(200, 0, 0);\"></td><td title=\"Index: [1, 2]&#10;Color: (0, 200, 0)\" style=\"width: 20px; height: 20px;background-color: rgb(0, 200, 0);\"></td><td title=\"Index: [1, 3]&#10;Color: (200, 0, 0)\" style=\"width: 20px; height: 20px;background-color: rgb(200, 0, 0);\"></td><td title=\"Index: [1, 4]&#10;Color: (0, 200, 0)\" style=\"width: 20px; height: 20px;background-color: rgb(0, 200, 0);\"></td><td title=\"Index: [1, 5]&#10;Color: (0, 0, 200)\" style=\"width: 20px; height: 20px;background-color: rgb(0, 0, 200);\"></td><td title=\"Index: [1, 6]&#10;Color: (0, 0, 200)\" style=\"width: 20px; height: 20px;background-color: rgb(0, 0, 200);\"></td><td title=\"Index: [1, 7]&#10;Color: (200, 0, 0)\" style=\"width: 20px; height: 20px;background-color: rgb(200, 0, 0);\"></td></tr><tr><td title=\"Index: [2, 0]&#10;Color: (0, 0, 200)\" style=\"width: 20px; height: 20px;background-color: rgb(0, 0, 200);\"></td><td title=\"Index: [2, 1]&#10;Color: (0, 200, 0)\" style=\"width: 20px; height: 20px;background-color: rgb(0, 200, 0);\"></td><td title=\"Index: [2, 2]&#10;Color: (200, 0, 0)\" style=\"width: 20px; height: 20px;background-color: rgb(200, 0, 0);\"></td><td title=\"Index: [2, 3]&#10;Color: (0, 200, 0)\" style=\"width: 20px; height: 20px;background-color: rgb(0, 200, 0);\"></td><td title=\"Index: [2, 4]&#10;Color: (200, 0, 0)\" style=\"width: 20px; height: 20px;background-color: rgb(200, 0, 0);\"></td><td title=\"Index: [2, 5]&#10;Color: (200, 0, 0)\" style=\"width: 20px; height: 20px;background-color: rgb(200, 0, 0);\"></td><td title=\"Index: [2, 6]&#10;Color: (0, 0, 200)\" style=\"width: 20px; height: 20px;background-color: rgb(0, 0, 200);\"></td><td title=\"Index: [2, 7]&#10;Color: (200, 0, 0)\" style=\"width: 20px; height: 20px;background-color: rgb(200, 0, 0);\"></td></tr><tr><td title=\"Index: [3, 0]&#10;Color: (0, 200, 0)\" style=\"width: 20px; height: 20px;background-color: rgb(0, 200, 0);\"></td><td title=\"Index: [3, 1]&#10;Color: (200, 0, 0)\" style=\"width: 20px; height: 20px;background-color: rgb(200, 0, 0);\"></td><td title=\"Index: [3, 2]&#10;Color: (200, 0, 0)\" style=\"width: 20px; height: 20px;background-color: rgb(200, 0, 0);\"></td><td title=\"Index: [3, 3]&#10;Color: (0, 0, 200)\" style=\"width: 20px; height: 20px;background-color: rgb(0, 0, 200);\"></td><td title=\"Index: [3, 4]&#10;Color: (200, 0, 0)\" style=\"width: 20px; height: 20px;background-color: rgb(200, 0, 0);\"></td><td title=\"Index: [3, 5]&#10;Color: (200, 0, 0)\" style=\"width: 20px; height: 20px;background-color: rgb(200, 0, 0);\"></td><td title=\"Index: [3, 6]&#10;Color: (200, 0, 0)\" style=\"width: 20px; height: 20px;background-color: rgb(200, 0, 0);\"></td><td title=\"Index: [3, 7]&#10;Color: (0, 0, 200)\" style=\"width: 20px; height: 20px;background-color: rgb(0, 0, 200);\"></td></tr><tr><td title=\"Index: [4, 0]&#10;Color: (200, 0, 0)\" style=\"width: 20px; height: 20px;background-color: rgb(200, 0, 0);\"></td><td title=\"Index: [4, 1]&#10;Color: (200, 0, 0)\" style=\"width: 20px; height: 20px;background-color: rgb(200, 0, 0);\"></td><td title=\"Index: [4, 2]&#10;Color: (200, 0, 0)\" style=\"width: 20px; height: 20px;background-color: rgb(200, 0, 0);\"></td><td title=\"Index: [4, 3]&#10;Color: (200, 0, 0)\" style=\"width: 20px; height: 20px;background-color: rgb(200, 0, 0);\"></td><td title=\"Index: [4, 4]&#10;Color: (0, 0, 200)\" style=\"width: 20px; height: 20px;background-color: rgb(0, 0, 200);\"></td><td title=\"Index: [4, 5]&#10;Color: (0, 200, 0)\" style=\"width: 20px; height: 20px;background-color: rgb(0, 200, 0);\"></td><td title=\"Index: [4, 6]&#10;Color: (0, 200, 0)\" style=\"width: 20px; height: 20px;background-color: rgb(0, 200, 0);\"></td><td title=\"Index: [4, 7]&#10;Color: (0, 200, 0)\" style=\"width: 20px; height: 20px;background-color: rgb(0, 200, 0);\"></td></tr><tr><td title=\"Index: [5, 0]&#10;Color: (0, 0, 200)\" style=\"width: 20px; height: 20px;background-color: rgb(0, 0, 200);\"></td><td title=\"Index: [5, 1]&#10;Color: (200, 0, 0)\" style=\"width: 20px; height: 20px;background-color: rgb(200, 0, 0);\"></td><td title=\"Index: [5, 2]&#10;Color: (200, 0, 0)\" style=\"width: 20px; height: 20px;background-color: rgb(200, 0, 0);\"></td><td title=\"Index: [5, 3]&#10;Color: (0, 0, 200)\" style=\"width: 20px; height: 20px;background-color: rgb(0, 0, 200);\"></td><td title=\"Index: [5, 4]&#10;Color: (0, 0, 200)\" style=\"width: 20px; height: 20px;background-color: rgb(0, 0, 200);\"></td><td title=\"Index: [5, 5]&#10;Color: (200, 0, 0)\" style=\"width: 20px; height: 20px;background-color: rgb(200, 0, 0);\"></td><td title=\"Index: [5, 6]&#10;Color: (0, 0, 200)\" style=\"width: 20px; height: 20px;background-color: rgb(0, 0, 200);\"></td><td title=\"Index: [5, 7]&#10;Color: (0, 200, 0)\" style=\"width: 20px; height: 20px;background-color: rgb(0, 200, 0);\"></td></tr><tr><td title=\"Index: [6, 0]&#10;Color: (200, 0, 0)\" style=\"width: 20px; height: 20px;background-color: rgb(200, 0, 0);\"></td><td title=\"Index: [6, 1]&#10;Color: (200, 0, 0)\" style=\"width: 20px; height: 20px;background-color: rgb(200, 0, 0);\"></td><td title=\"Index: [6, 2]&#10;Color: (0, 200, 0)\" style=\"width: 20px; height: 20px;background-color: rgb(0, 200, 0);\"></td><td title=\"Index: [6, 3]&#10;Color: (200, 0, 0)\" style=\"width: 20px; height: 20px;background-color: rgb(200, 0, 0);\"></td><td title=\"Index: [6, 4]&#10;Color: (200, 0, 0)\" style=\"width: 20px; height: 20px;background-color: rgb(200, 0, 0);\"></td><td title=\"Index: [6, 5]&#10;Color: (200, 0, 0)\" style=\"width: 20px; height: 20px;background-color: rgb(200, 0, 0);\"></td><td title=\"Index: [6, 6]&#10;Color: (0, 200, 0)\" style=\"width: 20px; height: 20px;background-color: rgb(0, 200, 0);\"></td><td title=\"Index: [6, 7]&#10;Color: (0, 0, 200)\" style=\"width: 20px; height: 20px;background-color: rgb(0, 0, 200);\"></td></tr><tr><td title=\"Index: [7, 0]&#10;Color: (200, 0, 0)\" style=\"width: 20px; height: 20px;background-color: rgb(200, 0, 0);\"></td><td title=\"Index: [7, 1]&#10;Color: (0, 0, 200)\" style=\"width: 20px; height: 20px;background-color: rgb(0, 0, 200);\"></td><td title=\"Index: [7, 2]&#10;Color: (200, 0, 0)\" style=\"width: 20px; height: 20px;background-color: rgb(200, 0, 0);\"></td><td title=\"Index: [7, 3]&#10;Color: (0, 200, 0)\" style=\"width: 20px; height: 20px;background-color: rgb(0, 200, 0);\"></td><td title=\"Index: [7, 4]&#10;Color: (0, 0, 200)\" style=\"width: 20px; height: 20px;background-color: rgb(0, 0, 200);\"></td><td title=\"Index: [7, 5]&#10;Color: (200, 0, 0)\" style=\"width: 20px; height: 20px;background-color: rgb(200, 0, 0);\"></td><td title=\"Index: [7, 6]&#10;Color: (200, 0, 0)\" style=\"width: 20px; height: 20px;background-color: rgb(200, 0, 0);\"></td><td title=\"Index: [7, 7]&#10;Color: (0, 0, 200)\" style=\"width: 20px; height: 20px;background-color: rgb(0, 0, 200);\"></td></tr></tbody></table>"
       ],
       "metadata": {},
       "output_type": "display_data",
       "text": [
        "<IPython.core.display.HTML at 0x10218d0d0>"
       ]
      }
     ],
     "prompt_number": 8
    },
    {
     "cell_type": "code",
     "collapsed": false,
     "input": [],
     "language": "python",
     "metadata": {},
     "outputs": [],
     "prompt_number": 5
    },
    {
     "cell_type": "code",
     "collapsed": false,
     "input": [],
     "language": "python",
     "metadata": {},
     "outputs": []
    }
   ],
   "metadata": {}
  }
 ]
}