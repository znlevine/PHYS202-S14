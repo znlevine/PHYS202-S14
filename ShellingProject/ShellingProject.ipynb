{
 "metadata": {
  "name": "",
  "signature": "sha256:3b59241ff81c14baeb665545475d134c7577cb4f91ae9ba4bc649c56e8b936a1"
 },
 "nbformat": 3,
 "nbformat_minor": 0,
 "worksheets": [
  {
   "cells": [
    {
     "cell_type": "code",
     "collapsed": false,
     "input": [
      "from ipythonblocks import BlockGrid\n",
      "import ipythonblocks\n",
      "import random\n",
      "import numpy as np\n",
      "height=8 #starting values to work with\n",
      "width=8\n",
      "\n",
      "#PLAN FOR SQUARES - CHANGE COLOR VALUE OF UNSATISFIED SQUARES\n",
      "#THEN USE THAT TO SWAP SQUARES\n",
      "\n",
      "\n",
      "grid=BlockGrid(height,width,(0,0,0)) #creates the grid\n",
      "empty=.20 #Propoprtion of squares that are emtpy\n",
      "split=.50 #Proportion of red squares vs blue squares\n",
      "sqnum=grid.height*grid.width #Total number of squares\n",
      "fillempty=sqnum*empty #Number of empty squares in the grid\n",
      "\n",
      "while fillempty>0: #Function to fill the grid with green(empty) squares\n",
      "    targetrow=random.randrange(0,grid.height,1)\n",
      "    targetcol=random.randrange(0,grid.width,1)\n",
      "    square=grid[targetrow,targetcol]\n",
      "    if square.green==0: #Ensures square is empty\n",
      "        square.green=200\n",
      "        fillempty-=1\n",
      "        \n",
      "        \n",
      "#Fills in red in correct proportion of squares\n",
      "fillempty=split*sqnum \n",
      "while fillempty>0:\n",
      "    targetrow=random.randrange(0,grid.height,1)\n",
      "    targetcol=random.randrange(0,grid.width,1)\n",
      "    square=grid[targetrow,targetcol]\n",
      "    if square.red==0 and square.green==0:\n",
      "        square.red=200\n",
      "        fillempty-=1\n",
      "        \n",
      "#Fills the rest of the squares        \n",
      "for row in range(grid.height):\n",
      "    for col in range(grid.width):\n",
      "        square = grid[row,col]\n",
      "        if square.red==0 and square.green==0 and square.blue==0:\n",
      "            square.blue=200\n",
      "\n",
      "#To test for similarity; find color, sum up surrounding square's value in that color\n",
      "satisfaction = 0\n",
      "def coloration(x,y):\n",
      "    square=grid[x,y]\n",
      "    if square.green==200:\n",
      "        color='green'\n",
      "    if square.red==200:\n",
      "        color='red'\n",
      "    if square.blue==200:\n",
      "        color='blue'\n",
      "    return color\n",
      "\n",
      "\n",
      "                \n",
      "print coloration(0,0)\n",
      "print coloration(0,7)\n",
      "print coloration(7,0)\n",
      "print coloration(7,7)\n",
      "\n",
      "#Function to check squares satisfaction\n",
      "def icantgetno(x,y):\n",
      "    \n",
      "    #Ugly code to set limits for checking ranges for satisfaction\n",
      "    if x>0:\n",
      "        xmin=x-1\n",
      "    else:\n",
      "        xmin=0\n",
      "    if x<7:\n",
      "        xmax=x+1\n",
      "    else:\n",
      "        xmax=7\n",
      "    if y>0:\n",
      "        ymin=y-1\n",
      "    else:\n",
      "        ymin=0\n",
      "    if y<7:\n",
      "        ymax=y+1\n",
      "    else:\n",
      "        ymax=7\n",
      "    xchecks=np.arange(xmin,xmax+1)\n",
      "    ychecks=np.arange(ymin,ymax+1)\n",
      "    print xchecks\n",
      "    print ychecks\n",
      "    for x in xchecks:\n",
      "        for y in ychecks:\n",
      "            print coloration(x,y)\n",
      "    \n",
      "    return None\n",
      "\n",
      "grid.show()\n",
      "icantgetno(4,4)"
     ],
     "language": "python",
     "metadata": {},
     "outputs": [
      {
       "output_type": "stream",
       "stream": "stdout",
       "text": [
        "green\n",
        "blue\n",
        "red\n",
        "blue\n"
       ]
      },
      {
       "html": [
        "<style type=\"text/css\">table.blockgrid {border: none;} .blockgrid tr {border: none;} .blockgrid td {padding: 0px;} #blocks31c781fc-2920-432c-a8a7-e249d8fbdbde td {border: 1px solid white;}</style><table id=\"blocks31c781fc-2920-432c-a8a7-e249d8fbdbde\" class=\"blockgrid\"><tbody><tr><td title=\"Index: [0, 0]&#10;Color: (0, 200, 0)\" style=\"width: 20px; height: 20px;background-color: rgb(0, 200, 0);\"></td><td title=\"Index: [0, 1]&#10;Color: (0, 200, 0)\" style=\"width: 20px; height: 20px;background-color: rgb(0, 200, 0);\"></td><td title=\"Index: [0, 2]&#10;Color: (200, 0, 0)\" style=\"width: 20px; height: 20px;background-color: rgb(200, 0, 0);\"></td><td title=\"Index: [0, 3]&#10;Color: (0, 0, 200)\" style=\"width: 20px; height: 20px;background-color: rgb(0, 0, 200);\"></td><td title=\"Index: [0, 4]&#10;Color: (0, 0, 200)\" style=\"width: 20px; height: 20px;background-color: rgb(0, 0, 200);\"></td><td title=\"Index: [0, 5]&#10;Color: (200, 0, 0)\" style=\"width: 20px; height: 20px;background-color: rgb(200, 0, 0);\"></td><td title=\"Index: [0, 6]&#10;Color: (200, 0, 0)\" style=\"width: 20px; height: 20px;background-color: rgb(200, 0, 0);\"></td><td title=\"Index: [0, 7]&#10;Color: (0, 0, 200)\" style=\"width: 20px; height: 20px;background-color: rgb(0, 0, 200);\"></td></tr><tr><td title=\"Index: [1, 0]&#10;Color: (0, 0, 200)\" style=\"width: 20px; height: 20px;background-color: rgb(0, 0, 200);\"></td><td title=\"Index: [1, 1]&#10;Color: (0, 200, 0)\" style=\"width: 20px; height: 20px;background-color: rgb(0, 200, 0);\"></td><td title=\"Index: [1, 2]&#10;Color: (200, 0, 0)\" style=\"width: 20px; height: 20px;background-color: rgb(200, 0, 0);\"></td><td title=\"Index: [1, 3]&#10;Color: (0, 200, 0)\" style=\"width: 20px; height: 20px;background-color: rgb(0, 200, 0);\"></td><td title=\"Index: [1, 4]&#10;Color: (200, 0, 0)\" style=\"width: 20px; height: 20px;background-color: rgb(200, 0, 0);\"></td><td title=\"Index: [1, 5]&#10;Color: (200, 0, 0)\" style=\"width: 20px; height: 20px;background-color: rgb(200, 0, 0);\"></td><td title=\"Index: [1, 6]&#10;Color: (0, 0, 200)\" style=\"width: 20px; height: 20px;background-color: rgb(0, 0, 200);\"></td><td title=\"Index: [1, 7]&#10;Color: (0, 200, 0)\" style=\"width: 20px; height: 20px;background-color: rgb(0, 200, 0);\"></td></tr><tr><td title=\"Index: [2, 0]&#10;Color: (200, 0, 0)\" style=\"width: 20px; height: 20px;background-color: rgb(200, 0, 0);\"></td><td title=\"Index: [2, 1]&#10;Color: (0, 0, 200)\" style=\"width: 20px; height: 20px;background-color: rgb(0, 0, 200);\"></td><td title=\"Index: [2, 2]&#10;Color: (200, 0, 0)\" style=\"width: 20px; height: 20px;background-color: rgb(200, 0, 0);\"></td><td title=\"Index: [2, 3]&#10;Color: (0, 0, 200)\" style=\"width: 20px; height: 20px;background-color: rgb(0, 0, 200);\"></td><td title=\"Index: [2, 4]&#10;Color: (0, 0, 200)\" style=\"width: 20px; height: 20px;background-color: rgb(0, 0, 200);\"></td><td title=\"Index: [2, 5]&#10;Color: (200, 0, 0)\" style=\"width: 20px; height: 20px;background-color: rgb(200, 0, 0);\"></td><td title=\"Index: [2, 6]&#10;Color: (200, 0, 0)\" style=\"width: 20px; height: 20px;background-color: rgb(200, 0, 0);\"></td><td title=\"Index: [2, 7]&#10;Color: (0, 200, 0)\" style=\"width: 20px; height: 20px;background-color: rgb(0, 200, 0);\"></td></tr><tr><td title=\"Index: [3, 0]&#10;Color: (200, 0, 0)\" style=\"width: 20px; height: 20px;background-color: rgb(200, 0, 0);\"></td><td title=\"Index: [3, 1]&#10;Color: (200, 0, 0)\" style=\"width: 20px; height: 20px;background-color: rgb(200, 0, 0);\"></td><td title=\"Index: [3, 2]&#10;Color: (0, 0, 200)\" style=\"width: 20px; height: 20px;background-color: rgb(0, 0, 200);\"></td><td title=\"Index: [3, 3]&#10;Color: (0, 200, 0)\" style=\"width: 20px; height: 20px;background-color: rgb(0, 200, 0);\"></td><td title=\"Index: [3, 4]&#10;Color: (200, 0, 0)\" style=\"width: 20px; height: 20px;background-color: rgb(200, 0, 0);\"></td><td title=\"Index: [3, 5]&#10;Color: (0, 200, 0)\" style=\"width: 20px; height: 20px;background-color: rgb(0, 200, 0);\"></td><td title=\"Index: [3, 6]&#10;Color: (200, 0, 0)\" style=\"width: 20px; height: 20px;background-color: rgb(200, 0, 0);\"></td><td title=\"Index: [3, 7]&#10;Color: (200, 0, 0)\" style=\"width: 20px; height: 20px;background-color: rgb(200, 0, 0);\"></td></tr><tr><td title=\"Index: [4, 0]&#10;Color: (200, 0, 0)\" style=\"width: 20px; height: 20px;background-color: rgb(200, 0, 0);\"></td><td title=\"Index: [4, 1]&#10;Color: (0, 0, 200)\" style=\"width: 20px; height: 20px;background-color: rgb(0, 0, 200);\"></td><td title=\"Index: [4, 2]&#10;Color: (200, 0, 0)\" style=\"width: 20px; height: 20px;background-color: rgb(200, 0, 0);\"></td><td title=\"Index: [4, 3]&#10;Color: (200, 0, 0)\" style=\"width: 20px; height: 20px;background-color: rgb(200, 0, 0);\"></td><td title=\"Index: [4, 4]&#10;Color: (0, 0, 200)\" style=\"width: 20px; height: 20px;background-color: rgb(0, 0, 200);\"></td><td title=\"Index: [4, 5]&#10;Color: (200, 0, 0)\" style=\"width: 20px; height: 20px;background-color: rgb(200, 0, 0);\"></td><td title=\"Index: [4, 6]&#10;Color: (200, 0, 0)\" style=\"width: 20px; height: 20px;background-color: rgb(200, 0, 0);\"></td><td title=\"Index: [4, 7]&#10;Color: (0, 0, 200)\" style=\"width: 20px; height: 20px;background-color: rgb(0, 0, 200);\"></td></tr><tr><td title=\"Index: [5, 0]&#10;Color: (200, 0, 0)\" style=\"width: 20px; height: 20px;background-color: rgb(200, 0, 0);\"></td><td title=\"Index: [5, 1]&#10;Color: (0, 200, 0)\" style=\"width: 20px; height: 20px;background-color: rgb(0, 200, 0);\"></td><td title=\"Index: [5, 2]&#10;Color: (0, 0, 200)\" style=\"width: 20px; height: 20px;background-color: rgb(0, 0, 200);\"></td><td title=\"Index: [5, 3]&#10;Color: (200, 0, 0)\" style=\"width: 20px; height: 20px;background-color: rgb(200, 0, 0);\"></td><td title=\"Index: [5, 4]&#10;Color: (0, 200, 0)\" style=\"width: 20px; height: 20px;background-color: rgb(0, 200, 0);\"></td><td title=\"Index: [5, 5]&#10;Color: (0, 0, 200)\" style=\"width: 20px; height: 20px;background-color: rgb(0, 0, 200);\"></td><td title=\"Index: [5, 6]&#10;Color: (200, 0, 0)\" style=\"width: 20px; height: 20px;background-color: rgb(200, 0, 0);\"></td><td title=\"Index: [5, 7]&#10;Color: (0, 200, 0)\" style=\"width: 20px; height: 20px;background-color: rgb(0, 200, 0);\"></td></tr><tr><td title=\"Index: [6, 0]&#10;Color: (200, 0, 0)\" style=\"width: 20px; height: 20px;background-color: rgb(200, 0, 0);\"></td><td title=\"Index: [6, 1]&#10;Color: (0, 200, 0)\" style=\"width: 20px; height: 20px;background-color: rgb(0, 200, 0);\"></td><td title=\"Index: [6, 2]&#10;Color: (200, 0, 0)\" style=\"width: 20px; height: 20px;background-color: rgb(200, 0, 0);\"></td><td title=\"Index: [6, 3]&#10;Color: (200, 0, 0)\" style=\"width: 20px; height: 20px;background-color: rgb(200, 0, 0);\"></td><td title=\"Index: [6, 4]&#10;Color: (200, 0, 0)\" style=\"width: 20px; height: 20px;background-color: rgb(200, 0, 0);\"></td><td title=\"Index: [6, 5]&#10;Color: (200, 0, 0)\" style=\"width: 20px; height: 20px;background-color: rgb(200, 0, 0);\"></td><td title=\"Index: [6, 6]&#10;Color: (0, 0, 200)\" style=\"width: 20px; height: 20px;background-color: rgb(0, 0, 200);\"></td><td title=\"Index: [6, 7]&#10;Color: (0, 0, 200)\" style=\"width: 20px; height: 20px;background-color: rgb(0, 0, 200);\"></td></tr><tr><td title=\"Index: [7, 0]&#10;Color: (200, 0, 0)\" style=\"width: 20px; height: 20px;background-color: rgb(200, 0, 0);\"></td><td title=\"Index: [7, 1]&#10;Color: (0, 0, 200)\" style=\"width: 20px; height: 20px;background-color: rgb(0, 0, 200);\"></td><td title=\"Index: [7, 2]&#10;Color: (0, 200, 0)\" style=\"width: 20px; height: 20px;background-color: rgb(0, 200, 0);\"></td><td title=\"Index: [7, 3]&#10;Color: (200, 0, 0)\" style=\"width: 20px; height: 20px;background-color: rgb(200, 0, 0);\"></td><td title=\"Index: [7, 4]&#10;Color: (0, 0, 200)\" style=\"width: 20px; height: 20px;background-color: rgb(0, 0, 200);\"></td><td title=\"Index: [7, 5]&#10;Color: (200, 0, 0)\" style=\"width: 20px; height: 20px;background-color: rgb(200, 0, 0);\"></td><td title=\"Index: [7, 6]&#10;Color: (200, 0, 0)\" style=\"width: 20px; height: 20px;background-color: rgb(200, 0, 0);\"></td><td title=\"Index: [7, 7]&#10;Color: (0, 0, 200)\" style=\"width: 20px; height: 20px;background-color: rgb(0, 0, 200);\"></td></tr></tbody></table>"
       ],
       "metadata": {},
       "output_type": "display_data",
       "text": [
        "<IPython.core.display.HTML at 0x10521f5d0>"
       ]
      },
      {
       "output_type": "stream",
       "stream": "stdout",
       "text": [
        "[3 4 5]\n",
        "[3 4 5]\n",
        "green\n",
        "red\n",
        "green\n",
        "red\n",
        "blue\n",
        "red\n",
        "red\n",
        "green\n",
        "blue\n"
       ]
      }
     ],
     "prompt_number": 16
    },
    {
     "cell_type": "code",
     "collapsed": false,
     "input": [],
     "language": "python",
     "metadata": {},
     "outputs": [],
     "prompt_number": 5
    },
    {
     "cell_type": "code",
     "collapsed": false,
     "input": [],
     "language": "python",
     "metadata": {},
     "outputs": []
    }
   ],
   "metadata": {}
  }
 ]
}