{
 "metadata": {
  "name": "",
  "signature": "sha256:c659fc506b85b5f59f92d635c46cb3ea34dded9c478ec95cabc91fbeaede5c47"
 },
 "nbformat": 3,
 "nbformat_minor": 0,
 "worksheets": [
  {
   "cells": [
    {
     "cell_type": "heading",
     "level": 1,
     "metadata": {},
     "source": [
      "Integration Exercises"
     ]
    },
    {
     "cell_type": "code",
     "collapsed": false,
     "input": [
      "%pylab inline\n",
      "import numpy as np\n",
      "import matplotlib.pyplot as plt"
     ],
     "language": "python",
     "metadata": {},
     "outputs": [
      {
       "output_type": "stream",
       "stream": "stdout",
       "text": [
        "Populating the interactive namespace from numpy and matplotlib\n"
       ]
      }
     ],
     "prompt_number": 1
    },
    {
     "cell_type": "markdown",
     "metadata": {},
     "source": [
      "(a) Write two functions trapz(func,x) and simps(func,x) to compute the integral of the function func over the variable x using the trapezoidal rule and Simpson's rule to a file called Integrators.py. Do not use the scipy.integrate built-in functions. Include docstrings with each function that describe what they do. Then import the module and use the functions to answer the following questions."
     ]
    },
    {
     "cell_type": "code",
     "collapsed": false,
     "input": [
      "%%file Integrators.py\n",
      "\n",
      "import numpy as np\n",
      "import matplotlib.pyplot as plt\n",
      "\n",
      "def trapz(func,x,N):\n",
      "    \"\"\"Integrates using trapezoidal function\"\"\"\n",
      "    \n",
      "    a=0.0\n",
      "    b=x\n",
      "    h=(b-a)/N\n",
      "    \n",
      "    k=np.arange(1,N)\n",
      "    I=h*(0.5*func(a)+0.5*func(b)+func(a+k*h).sum())\n",
      "    \n",
      "    return I\n",
      "\n",
      "def simps(func,x,N):\n",
      "    \"\"\"Integrates using Simpson's rule\"\"\"\n",
      "    \n",
      "    a=0.0\n",
      "    b=x\n",
      "    h=(b-a)/N\n",
      "    k1=np.arange(1,N/2+1)\n",
      "    k2=np.arange(1,N/2)\n",
      "    I=(1./3.)*h*(func(a)+func(b)+4.*func(a+(2*k1-1)*h).sum()+2.*func(a+2*k2*h).sum())\n",
      "    return I"
     ],
     "language": "python",
     "metadata": {},
     "outputs": [
      {
       "output_type": "stream",
       "stream": "stdout",
       "text": [
        "Overwriting Integrators.py\n"
       ]
      }
     ],
     "prompt_number": 1
    },
    {
     "cell_type": "markdown",
     "metadata": {},
     "source": [
      "(b) Use your trapz and simps functions from part (a) to calculate the integral of x4\u22122x+1 from x = 0 to x = 2 with N = 10, N = 100, and N = 1000. Then compare your result to the known correct value of 4.4. What is the percent error in each case?"
     ]
    },
    {
     "cell_type": "code",
     "collapsed": false,
     "input": [
      "import Integrators as myint\n",
      "\n",
      "import numpy as np\n",
      "\n",
      "function = lambda x: x**4 - 2*x + 1\n",
      "\n",
      "print myint.trapz(function,2,10)\n",
      "print abs(myint.trapz(function,2,10)-4.4)/4.4*100,\"% error\"\n",
      "print myint.trapz(function,2,100)\n",
      "print abs(myint.trapz(function,2,100)-4.4)/4.4*100,\"% error\"\n",
      "print myint.trapz(function,2,1000)\n",
      "print abs(myint.trapz(function,2,1000)-4.4)/4.4*100,\"% error\"\n",
      "\n",
      "print myint.simps(function,2,10)\n",
      "print abs(myint.simps(function,2,10)-4.4)/4.4*100,\"% error\"\n",
      "print myint.simps(function,2,100)\n",
      "print abs(myint.simps(function,2,100)-4.4)/4.4*100,\"% error\"\n",
      "print myint.simps(function,2,1000)\n",
      "print abs(myint.simps(function,2,1000)-4.4)/4.4*100,\"% error\"\n",
      "\n"
     ],
     "language": "python",
     "metadata": {},
     "outputs": [
      {
       "output_type": "stream",
       "stream": "stdout",
       "text": [
        "4.50656\n",
        "2.42181818182 % error\n",
        "4.401066656\n",
        "0.0242421818182 % error\n",
        "4.40001066667\n",
        "0.000242424218175 % error\n",
        "4.40042666667\n",
        "0.00969696969697 % error\n",
        "4.40000004267\n",
        "9.69696969187e-07 % error\n",
        "4.4\n",
        "9.69729347327e-11 % error\n"
       ]
      }
     ],
     "prompt_number": 25
    },
    {
     "cell_type": "markdown",
     "metadata": {},
     "source": [
      "Consider the integral\n",
      "\n",
      "E(x)=\u222be\u2212t2dt\n",
      "\n",
      "This is the error function, commonly seen in probability and statistics. There is no known way to perform this particular integral analytically, although the integrand can be expanded in a Taylor series and terms computed to arbitrary order. For most applications, numerical approaches are the only way forward.\n",
      "\n",
      "(a) Use scipy.integrate.cumtrapz to calculate E(x) for values of x from 0 to 3 in steps of 0.1. Print the result."
     ]
    },
    {
     "cell_type": "code",
     "collapsed": false,
     "input": [
      "import scipy.integrate as integrate\n",
      "\n",
      "def func(x):\n",
      "    return np.exp(-(x**2))\n",
      "t=np.arange(0,3.1,0.1)\n",
      "y=t\n",
      "I=integrate.cumtrapz(func(t),t,initial=0)\n",
      "print I"
     ],
     "language": "python",
     "metadata": {},
     "outputs": [
      {
       "output_type": "stream",
       "stream": "stdout",
       "text": [
        "[ 0.          0.09950249  0.19704446  0.29078049  0.37908424  0.46063146\n",
        "  0.53445532  0.59997046  0.6569664   0.70557392  0.7462108   0.77951463\n",
        "  0.80627088  0.82734325  0.84361215  0.85592503  0.86506023  0.87170427\n",
        "  0.87644128  0.87975207  0.88202044  0.88354398  0.88454709  0.88519453\n",
        "  0.88560418  0.88585826  0.88601274  0.88610482  0.88615862  0.88618943\n",
        "  0.88620673]\n"
       ]
      }
     ],
     "prompt_number": 52
    },
    {
     "cell_type": "markdown",
     "metadata": {},
     "source": [
      "(b) Plot the integrand as a function of t and E(x) as a function of x (both ranging from 0 to 3) on the same graph."
     ]
    },
    {
     "cell_type": "code",
     "collapsed": false,
     "input": [
      "import scipy.integrate as integrate\n",
      "\n",
      "def func(x):\n",
      "    return np.exp(-(t**2))\n",
      "t=np.arange(0,3.1,0.1)\n",
      "y=t\n",
      "I=integrate.cumtrapz(func(t),t,initial=0)\n",
      "plt.plot(t,func(t),t,I)\n",
      "plt.show()"
     ],
     "language": "python",
     "metadata": {},
     "outputs": [],
     "prompt_number": 57
    },
    {
     "cell_type": "markdown",
     "metadata": {},
     "source": [
      "Question 3\n",
      "\n",
      "Consider a particle in a one-dimensional box of width L. The probability of finding the particle between a and b is given by\n",
      "\n",
      "P(a,b)=\u222b|\u03c8(x)|^2dx\n",
      "\n",
      "where\n",
      "\n",
      "\u03c8(x)=\u221a(2/L)sin(n\u03c0x/L)\n",
      "\n",
      "is the wavefunction.\n",
      "\n",
      "(a) What is the probability of finding the particle between L/3 and L/2 for the ground state (n = 1) and for the first excited state (n = 2)? Let L = 1. Perform the integral using both scipy.integrate.trapz and scipy.integrate.quad with an accuracy of 6 sig figs. How many slices did you need to use for scipy.integrate.trapz?"
     ]
    },
    {
     "cell_type": "code",
     "collapsed": false,
     "input": [
      "def phi(n,x):\n",
      "    return (((2./1.)**(1./2.))*np.sin(n*np.pi*x/1.))**2\n",
      "\n",
      "L=1\n",
      "intrange=np.arange(1./3.,1/2.+.01,.01)\n",
      "print intrange\n",
      "I1=integrate.trapz((phi(1.,intrange)),intrange)\n",
      "print I1\n",
      "I2=integrate.trapz((phi(2.,intrange)),intrange)\n",
      "print I2\n",
      "I1=integrate.quad(phi,1./3.,1./2.,1.)\n",
      "print I1\n",
      "I2=integrate.quad(phi,1./3.,1./2.,2.)\n",
      "print I2"
     ],
     "language": "python",
     "metadata": {},
     "outputs": [
      {
       "output_type": "stream",
       "stream": "stdout",
       "text": [
        "[ 0.33333333  0.34333333  0.35333333  0.36333333  0.37333333  0.38333333\n",
        "  0.39333333  0.40333333  0.41333333  0.42333333  0.43333333  0.44333333\n",
        "  0.45333333  0.46333333  0.47333333  0.48333333  0.49333333  0.50333333]\n",
        "0.311118868918\n",
        "0.0978466296378\n",
        "(0.3044988905221147, 3.380616792304666e-15)\n",
        "(0.09775055473894276, 1.0852491654105595e-15)\n"
       ]
      }
     ],
     "prompt_number": 99
    },
    {
     "cell_type": "code",
     "collapsed": false,
     "input": [],
     "language": "python",
     "metadata": {},
     "outputs": []
    }
   ],
   "metadata": {}
  }
 ]
}