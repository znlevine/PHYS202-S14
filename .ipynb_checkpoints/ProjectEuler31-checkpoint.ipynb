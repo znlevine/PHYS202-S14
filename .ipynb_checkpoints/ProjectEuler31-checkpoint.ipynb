{
 "metadata": {
  "name": "",
  "signature": "sha256:234fb2a0e0aca4e7f22fd39afa00f3ae9e458d1c2a4388742368caf53c303f2d"
 },
 "nbformat": 3,
 "nbformat_minor": 0,
 "worksheets": [
  {
   "cells": [
    {
     "cell_type": "markdown",
     "metadata": {},
     "source": [
      "In England the currency is made up of pound, \u00a3, and pence, p, and there are eight coins in general circulation:\n",
      "\n",
      "1p, 2p, 5p, 10p, 20p, 50p, \u00a31 (100p) and \u00a32 (200p).\n",
      "It is possible to make \u00a32 in the following way:\n",
      "\n",
      "1\u00d7\u00a31 + 1\u00d750p + 2\u00d720p + 1\u00d75p + 1\u00d72p + 3\u00d71p\n",
      "How many different ways can \u00a32 be made using any number of coins?"
     ]
    },
    {
     "cell_type": "code",
     "collapsed": false,
     "input": [
      "penny=1\n",
      "cents=2\n",
      "nickel=5\n",
      "dime=10\n",
      "doubledime=20\n",
      "halfpound=50\n",
      "pound=100\n",
      "\n",
      "twopound=200\n",
      "\n",
      "coinmax=[200,100,40,20,10,4,2,1]\n",
      "\n",
      "coinage=[1,2,5,10,20,50,100,200]\n",
      "\n",
      "ways=[1]+[0]*twopound\n",
      "for coin in coinage:\n",
      "    for i in range(coin,twopound+1):\n",
      "        ways[i]+=ways[i-coin]\n",
      "        \n",
      "print ways[twopound]\n",
      "    \n"
     ],
     "language": "python",
     "metadata": {},
     "outputs": [
      {
       "output_type": "stream",
       "stream": "stdout",
       "text": [
        "73682\n"
       ]
      }
     ],
     "prompt_number": 4
    },
    {
     "cell_type": "code",
     "collapsed": false,
     "input": [],
     "language": "python",
     "metadata": {},
     "outputs": []
    }
   ],
   "metadata": {}
  }
 ]
}