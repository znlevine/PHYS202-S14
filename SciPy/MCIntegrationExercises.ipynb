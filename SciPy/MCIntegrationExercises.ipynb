{
 "metadata": {
  "name": "",
  "signature": "sha256:6c53af7cfe2b76772a1ba8e654f2a06234f9215a055b6fc7db5cdb060c22465f"
 },
 "nbformat": 3,
 "nbformat_minor": 0,
 "worksheets": [
  {
   "cells": [
    {
     "cell_type": "heading",
     "level": 1,
     "metadata": {},
     "source": [
      "Monte Carlo Integration Exercises"
     ]
    },
    {
     "cell_type": "code",
     "collapsed": false,
     "input": [
      "%pylab inline\n",
      "import numpy as np\n",
      "import matplotlib.pyplot as plt\n",
      "from IPython.html.widgets import interact, interactive\n",
      "from Electrostatics import * "
     ],
     "language": "python",
     "metadata": {},
     "outputs": [
      {
       "output_type": "stream",
       "stream": "stdout",
       "text": [
        "Populating the interactive namespace from numpy and matplotlib\n"
       ]
      }
     ],
     "prompt_number": 2
    },
    {
     "cell_type": "code",
     "collapsed": false,
     "input": [
      "from Electrostatics import * "
     ],
     "language": "python",
     "metadata": {},
     "outputs": [],
     "prompt_number": 3
    },
    {
     "cell_type": "markdown",
     "metadata": {},
     "source": [
      "(a) Use the sample mean method to compute the potential at point P(2,3) due to the disk of charge for different numbers of samples N=(101,102,103,104,105,106). Report the value and its statistical uncertainty for each sample size. How does the result depend on N?\n",
      " "
     ]
    },
    {
     "cell_type": "code",
     "collapsed": false,
     "input": [
      "#EXTRA CODE SNIPPETS\n",
      "\n",
      "#find the maximum value of f within the boundary to set ymax\n",
      "#subx = x[logical_and((x > xmin),(x < xmax))]\n",
      "#ymax = f(subx).max()*1.05\n",
      "#ymin = 0.\n",
      " \n",
      "#Sample within x and y ranges:\n",
      "#N=10000\n",
      "#samples_x = xmin + (xmax-xmin)*np.random.random_sample(N);\n",
      "#samples_y = ymin + (ymax-ymin)*np.random.random_sample(N);\n",
      "\n",
      "def pointPotential(x,y,q,Xc,Yc): #Copied in for easier reference and use in the function\n",
      "    \n",
      "    k=8.987551787997912e9\n",
      "    Vxy=k*q/np.sqrt(((x-Xc)**2+(y-Yc)**2))\n",
      "    return Vxy\n"
     ],
     "language": "python",
     "metadata": {},
     "outputs": [],
     "prompt_number": 4
    },
    {
     "cell_type": "code",
     "collapsed": false,
     "input": [
      "def samplemean(N):\n",
      "\n",
      "    xmin=-1.\n",
      "    xmax=1.\n",
      "    CDensity = 1.0*10**(-6)\n",
      "    ymin=0.\n",
      "    ymax=2.\n",
      "    A=(xmax-xmin)*(ymax-ymin)\n",
      "    #Set up the function\n",
      "    f =  lambda q,x,y: pointPotential(2,3,q,x,y) #Set up function \n",
      "    dQ=CDensity\n",
      "    samples_x = xmin + (xmax-xmin)*np.random.random_sample(N)\n",
      "    samples_y = ymin + (ymax-ymin)*np.random.random_sample(N)\n",
      "    approx=f(dQ,samples_x,samples_y)\n",
      "    I=approx.mean()*(xmax-xmin)*(ymax-ymin)\n",
      "    \n",
      "    Iunc=A*np.sqrt(((approx**2).mean()-(approx.mean())**2)/N)    \n",
      "    \n",
      "    #Print our results\n",
      "    #print \"I_exact =\", Iexact\n",
      "    print \"Sample mean result =\", I, \" +/- \",Iunc\n",
      "    #print \"Error on I =\", Ierr, \"%\"\n",
      "    \n",
      "    \n",
      "samplemean(10)\n",
      "samplemean(100)\n",
      "samplemean(1000)\n",
      "samplemean(10000)\n",
      "samplemean(100000)\n",
      "samplemean(1000000)"
     ],
     "language": "python",
     "metadata": {},
     "outputs": [
      {
       "output_type": "stream",
       "stream": "stdout",
       "text": [
        "Sample mean result = 13641.0557294  +/-  1213.79200489\n",
        "Sample mean result = 12944.2585816  +/-  289.426281696\n",
        "Sample mean result = 13323.0653693  +/-  98.7463910985\n",
        "Sample mean result = 12983.3787326  +/-  29.7112669721\n",
        "Sample mean result = 13041.8083949  +/-  9.40103408215\n",
        "Sample mean result ="
       ]
      },
      {
       "output_type": "stream",
       "stream": "stdout",
       "text": [
        " 13023.0870945  +/-  2.96700144281\n"
       ]
      }
     ],
     "prompt_number": 5
    },
    {
     "cell_type": "markdown",
     "metadata": {},
     "source": [
      "(b) Now use the same method to compute the electric potential, V, at point P(2,3), from a disk centered on the origin with radius, R=1.2 m, and charge density, \u03c3 = 2 nC/m2 ."
     ]
    },
    {
     "cell_type": "code",
     "collapsed": false,
     "input": [
      "def circlesample(N):\n",
      "    rmin=0.\n",
      "    rmax=1.2\n",
      "    thetamin=0.\n",
      "    thetamax=2.*pi\n",
      "    A=pi*rmax**2\n",
      "    CDensity=2.*10**(-9)\n",
      "    f= lambda q,x,y:(pointPotential(2,3,q,x,y))\n",
      "    \n",
      "    samples_r=rmin+(rmax-rmin)*np.random.random_sample(N)\n",
      "    samples_theta=thetamin+(thetamax-thetamin)*np.random.random_sample(N)\n",
      "    samples_x=samples_r*cos(samples_theta)#Converting to xcoords\n",
      "    samples_y=samples_r*sin(samples_theta)#converting to ycoords\n",
      "    \n",
      "    approx=f(CDensity,samples_x,samples_y)\n",
      "    \n",
      "    I=approx.mean()*A\n",
      "    \n",
      "    Iunc=A*np.sqrt(((approx**2).mean()-(approx.mean())**2)/N)    \n",
      "    print \"Sample mean result =\", I, \" +/- \",Iunc\n",
      "\n",
      "circlesample(10)\n",
      "circlesample(100)\n",
      "circlesample(1000)\n",
      "circlesample(10000)\n",
      "circlesample(100000)\n",
      "circlesample(1000000)\n"
     ],
     "language": "python",
     "metadata": {},
     "outputs": [
      {
       "output_type": "stream",
       "stream": "stdout",
       "text": [
        "Sample mean result = 22.6749386968  +/-  0.812763178571\n",
        "Sample mean result = 23.3893110831  +/-  0.35049724762\n",
        "Sample mean result = 22.7293100933  +/-  0.106568120952\n",
        "Sample mean result = 22.7281834026  +/-  0.0321126737478\n",
        "Sample mean result = 22.7858268858  +/-  0.0101879997369\n",
        "Sample mean result ="
       ]
      },
      {
       "output_type": "stream",
       "stream": "stdout",
       "text": [
        " 22.7716245327  +/-  0.00321723785341\n"
       ]
      }
     ],
     "prompt_number": 9
    },
    {
     "cell_type": "markdown",
     "metadata": {},
     "source": [
      "Use the sample mean method to compute the volume of a sphere with radius 1 using spherical coordinates:\n",
      "\n",
      "V=\u222b10\u222b\u03c00\u222b2\u03c00r2sin(\u03b8)drd\u03b8d\u03d5\n",
      "\n",
      "for N=(10^1,10^2,10^3,10^4,10^5,10^6). Report the value and statistical uncertainty for each sample size. How does the result depend on N?"
     ]
    },
    {
     "cell_type": "code",
     "collapsed": false,
     "input": [
      "\n",
      "fxyz =  lambda r,theta,phi: (r**2)*np.sin(theta)\n",
      "phia = 0.; phib = 1.\n",
      "thetaa = 0.; thetab = np.pi\n",
      "ra = 0.; rb = np.pi*2\n",
      "    \n",
      "i = (10,100,1000,10000,100000,1000000)\n",
      "for N in i:\n",
      "    phi = (phib-phia)*np.random.random_sample(N)\n",
      "    theta = (thetab-thetaa)*np.random.random_sample(N)\n",
      "    r = (rb-ra)*np.random.random_sample(N)\n",
      "\n",
      "    I = (phib-phia)*(thetab-thetaa)*(rb-ra)*fxyz(phi,theta,r).mean()\n",
      "    err = (phib-phia)*(thetab-thetaa)*(rb-ra)*np.sqrt(((fxyz(phi,theta,r)**2).mean() - (fxyz(phi,theta,r).mean())**2)/N)\n",
      "    \n",
      "    print \"Volume=\",I,\" +/-\",err\n",
      " \n"
     ],
     "language": "python",
     "metadata": {},
     "outputs": [
      {
       "output_type": "stream",
       "stream": "stdout",
       "text": [
        "Volume= 5.73583116609  +/- 1.43287123719\n",
        "Volume= 4.56268774307  +/- 0.525781978081\n",
        "Volume= 4.23474078533  +/- 0.1471751305\n",
        "Volume= 4.21146670445  +/- 0.0462188548797\n",
        "Volume= 4.19975207997  +/- 0.0146471757179\n",
        "Volume="
       ]
      },
      {
       "output_type": "stream",
       "stream": "stdout",
       "text": [
        " 4.18643902139  +/- 0.00462887736978\n"
       ]
      }
     ],
     "prompt_number": 12
    },
    {
     "cell_type": "markdown",
     "metadata": {},
     "source": [
      "(a) Use the hit or miss Monte Carlo method to estimate the integral of f(x)=41\u2212x2\u203e\u203e\u203e\u203e\u203e\u203e\u221a in the interval 0\u2264x\u22641 as a function of N, the number of samples. Let N range from 101 to 106 and use at least 100 different values for N.\n",
      "\n",
      "(np.logspace might be useful here to get evenly spaced values for N.)\n",
      " "
     ]
    },
    {
     "cell_type": "code",
     "collapsed": false,
     "input": [],
     "language": "python",
     "metadata": {},
     "outputs": [],
     "prompt_number": 7
    },
    {
     "cell_type": "markdown",
     "metadata": {},
     "source": [
      "\n",
      "(b) Calculate the percent error for the N values from part (a) using the exact result \u03c0. Make a log-log plot of the error as a function of N.\n",
      "\n",
      "What is the approximate functional dependence of the error on N for large N, for example N\u2265104?"
     ]
    },
    {
     "cell_type": "code",
     "collapsed": false,
     "input": [],
     "language": "python",
     "metadata": {},
     "outputs": []
    }
   ],
   "metadata": {}
  }
 ]
}