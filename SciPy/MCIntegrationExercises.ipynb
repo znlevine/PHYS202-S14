{
 "metadata": {
  "name": "",
  "signature": "sha256:06347bff12f379eed4b5ce2b3dc70711d5acc8b73095f762ced704f4698442d4"
 },
 "nbformat": 3,
 "nbformat_minor": 0,
 "worksheets": [
  {
   "cells": [
    {
     "cell_type": "heading",
     "level": 1,
     "metadata": {},
     "source": [
      "Monte Carlo Integration Exercises"
     ]
    },
    {
     "cell_type": "code",
     "collapsed": false,
     "input": [
      "%pylab inline\n",
      "import numpy as np\n",
      "import matplotlib.pyplot as plt\n",
      "from IPython.html.widgets import interact, interactive\n",
      "from Electrostatics import * "
     ],
     "language": "python",
     "metadata": {},
     "outputs": [
      {
       "output_type": "stream",
       "stream": "stdout",
       "text": [
        "Populating the interactive namespace from numpy and matplotlib\n"
       ]
      }
     ],
     "prompt_number": 2
    },
    {
     "cell_type": "code",
     "collapsed": false,
     "input": [
      "from Electrostatics import * "
     ],
     "language": "python",
     "metadata": {},
     "outputs": [],
     "prompt_number": 2
    },
    {
     "cell_type": "markdown",
     "metadata": {},
     "source": [
      "(a) Use the sample mean method to compute the potential at point P(2,3) due to the disk of charge for different numbers of samples N=(101,102,103,104,105,106). Report the value and its statistical uncertainty for each sample size. How does the result depend on N?\n",
      " "
     ]
    },
    {
     "cell_type": "code",
     "collapsed": false,
     "input": [
      "#EXTRA CODE SNIPPETS\n",
      "\n",
      "#find the maximum value of f within the boundary to set ymax\n",
      "#subx = x[logical_and((x > xmin),(x < xmax))]\n",
      "#ymax = f(subx).max()*1.05\n",
      "#ymin = 0.\n",
      " \n",
      "#Sample within x and y ranges:\n",
      "#N=10000\n",
      "#samples_x = xmin + (xmax-xmin)*np.random.random_sample(N);\n",
      "#samples_y = ymin + (ymax-ymin)*np.random.random_sample(N);\n",
      "\n",
      "def pointPotential(x,y,q,Xc,Yc): #Copied in for easier reference and use in the function\n",
      "    \n",
      "    k=8.987551787997912e9\n",
      "    Vxy=k*q/np.sqrt(((x-Xc)**2+(y-Yc)**2))\n",
      "    return Vxy\n"
     ],
     "language": "python",
     "metadata": {},
     "outputs": [],
     "prompt_number": 3
    },
    {
     "cell_type": "code",
     "collapsed": false,
     "input": [
      "def samplemean(N):\n",
      "\n",
      "    xmin=-1.\n",
      "    xmax=1.\n",
      "    CDensity = 1.0*10**(-6)\n",
      "    ymin=0.\n",
      "    ymax=2.\n",
      "    A=(xmax-xmin)*(ymax-ymin)\n",
      "    #Set up the function\n",
      "    f =  lambda q,x,y: pointPotential(2,3,q,x,y) #Set up function \n",
      "    dQ=CDensity\n",
      "    samples_x = xmin + (xmax-xmin)*np.random.random_sample(N)\n",
      "    samples_y = ymin + (ymax-ymin)*np.random.random_sample(N)\n",
      "    approx=f(dQ,samples_x,samples_y)\n",
      "    I=approx.mean()*(xmax-xmin)*(ymax-ymin)\n",
      "    \n",
      "    Iunc=A*np.sqrt(((approx**2).mean()-(approx.mean())**2)/N)    \n",
      "    \n",
      "    #Print our results\n",
      "    #print \"I_exact =\", Iexact\n",
      "    print \"Sample mean result =\", I, \" +/- \",Iunc\n",
      "    #print \"Error on I =\", Ierr, \"%\"\n",
      "    \n",
      "    \n",
      "samplemean(10)\n",
      "samplemean(100)\n",
      "samplemean(1000)\n",
      "samplemean(10000)\n",
      "samplemean(100000)\n",
      "samplemean(1000000)"
     ],
     "language": "python",
     "metadata": {},
     "outputs": [
      {
       "output_type": "stream",
       "stream": "stdout",
       "text": [
        "Sample mean result = 14619.2576914  +/-  912.985415768\n",
        "Sample mean result = 13044.8892186  +/-  312.550690607\n",
        "Sample mean result = 13022.9864914  +/-  95.0684606977\n",
        "Sample mean result = 13087.2152122  +/-  30.2594509939\n",
        "Sample mean result = 13034.6618812  +/-  9.40636225519\n",
        "Sample mean result ="
       ]
      },
      {
       "output_type": "stream",
       "stream": "stdout",
       "text": [
        " 13026.3905155  +/-  2.97338967639\n"
       ]
      }
     ],
     "prompt_number": 4
    },
    {
     "cell_type": "markdown",
     "metadata": {},
     "source": [
      "(b) Now use the same method to compute the electric potential, V, at point P(2,3), from a disk centered on the origin with radius, R=1.2 m, and charge density, \u03c3 = 2 nC/m2 ."
     ]
    },
    {
     "cell_type": "code",
     "collapsed": false,
     "input": [
      "def circlesample(N):\n",
      "    rmin=0.\n",
      "    rmax=1.2\n",
      "    thetamin=0.\n",
      "    thetamax=2.*pi\n",
      "    A=pi*rmax**2\n",
      "    CDensity=2.*10**(-9)\n",
      "    f= lambda q,x,y:(pointPotential(2,3,q,x,y))\n",
      "    \n",
      "    samples_r=rmin+(rmax-rmin)*np.random.random_sample(N)\n",
      "    samples_theta=thetamin+(thetamax-thetamin)*np.random.random_sample(N)\n",
      "    samples_x=samples_r*cos(samples_theta)#Converting to xcoords\n",
      "    samples_y=samples_r*sin(samples_theta)#converting to ycoords\n",
      "    \n",
      "    approx=f(CDensity,samples_x,samples_y)\n",
      "    \n",
      "    I=approx.mean()*A\n",
      "    \n",
      "    Iunc=A*np.sqrt(((approx**2).mean()-(approx.mean())**2)/N)    \n",
      "    print \"Sample mean result =\", I, \" +/- \",Iunc\n",
      "\n",
      "circlesample(10)\n",
      "circlesample(100)\n",
      "circlesample(1000)\n",
      "circlesample(10000)\n",
      "circlesample(100000)\n",
      "circlesample(1000000)\n"
     ],
     "language": "python",
     "metadata": {},
     "outputs": [
      {
       "output_type": "stream",
       "stream": "stdout",
       "text": [
        "Sample mean result = 23.5537265234  +/-  1.42239757385\n",
        "Sample mean result = 22.8718776016  +/-  0.323365690673\n",
        "Sample mean result = 22.5328337327  +/-  0.0963672486721\n",
        "Sample mean result = 22.7842832262  +/-  0.0322305266449\n",
        "Sample mean result = 22.7668850932  +/-  0.0101948049617\n",
        "Sample mean result ="
       ]
      },
      {
       "output_type": "stream",
       "stream": "stdout",
       "text": [
        " 22.7695169624  +/-  0.00321300158978\n"
       ]
      }
     ],
     "prompt_number": 5
    },
    {
     "cell_type": "markdown",
     "metadata": {},
     "source": [
      "Use the sample mean method to compute the volume of a sphere with radius 1 using spherical coordinates:\n",
      "\n",
      "V=\u222b10\u222b\u03c00\u222b2\u03c00r2sin(\u03b8)drd\u03b8d\u03d5\n",
      "\n",
      "for N=(10^1,10^2,10^3,10^4,10^5,10^6). Report the value and statistical uncertainty for each sample size. How does the result depend on N?"
     ]
    },
    {
     "cell_type": "code",
     "collapsed": false,
     "input": [
      "\n",
      "fxyz =  lambda r,theta,phi: (r**2)*np.sin(theta)\n",
      "phia = 0.; phib = 1.\n",
      "thetaa = 0.; thetab = np.pi\n",
      "ra = 0.; rb = np.pi*2\n",
      "    \n",
      "i = (10,100,1000,10000,100000,1000000)\n",
      "for N in i:\n",
      "    phi = (phib-phia)*np.random.random_sample(N)\n",
      "    theta = (thetab-thetaa)*np.random.random_sample(N)\n",
      "    r = (rb-ra)*np.random.random_sample(N)\n",
      "\n",
      "    I = (phib-phia)*(thetab-thetaa)*(rb-ra)*fxyz(phi,theta,r).mean()\n",
      "    err = (phib-phia)*(thetab-thetaa)*(rb-ra)*np.sqrt(((fxyz(phi,theta,r)**2).mean() - (fxyz(phi,theta,r).mean())**2)/N)\n",
      "    \n",
      "    print \"Volume=\",I,\" +/-\",err\n",
      " \n"
     ],
     "language": "python",
     "metadata": {},
     "outputs": [
      {
       "output_type": "stream",
       "stream": "stdout",
       "text": [
        "Volume= 3.86414970452  +/- 1.74374677738\n",
        "Volume= 4.94945830329  +/- 0.508418000209\n",
        "Volume= 4.23331556701  +/- 0.146569824097\n",
        "Volume= 4.20680870353  +/- 0.0464398165255\n",
        "Volume= 4.20761442922  +/- 0.0146465127826\n",
        "Volume="
       ]
      },
      {
       "output_type": "stream",
       "stream": "stdout",
       "text": [
        " 4.19064038672  +/- 0.00463003706458\n"
       ]
      }
     ]
    },
    {
     "cell_type": "markdown",
     "metadata": {},
     "source": [
      "(a) Use the hit or miss Monte Carlo method to estimate the integral of f(x)=41\u2212x2\u203e\u203e\u203e\u203e\u203e\u203e\u221a in the interval 0\u2264x\u22641 as a function of N, the number of samples. Let N range from 10^1 to 10^6 and use at least 100 different values for N.\n",
      "\n",
      "(np.logspace might be useful here to get evenly spaced values for N.)\n",
      " "
     ]
    },
    {
     "cell_type": "code",
     "collapsed": false,
     "input": [
      "f=lambda x:4*np.sqrt(1-x**2)\n",
      "xmin=0.\n",
      "xmax=1.\n",
      "x=np.arange(0.,1.,0.01)\n",
      "#getting ymax\n",
      "subx = x[logical_and((x > xmin),(x < xmax))] \n",
      "ymax=f(subx).max()*1.05\n",
      "ymin=0.\n",
      "answers=[]\n",
      "i = np.logspace(1,6,num=100)\n",
      "\n",
      "for N in i:\n",
      "    samples_x=xmin+(xmax-xmin)*np.random.random_sample(N);\n",
      "    samples_y=ymin+(ymax-ymin)*np.random.random_sample(N);\n",
      "    \n",
      "    #find values within function\n",
      "    newmask=(samples_y<f(samples_x))\n",
      "\n",
      "    I=(xmax-xmin)*(ymax-ymin)*newmask.sum()/newmask.size\n",
      "    answers.append(I)\n",
      "print answers"
     ],
     "language": "python",
     "metadata": {},
     "outputs": [
      {
       "output_type": "stream",
       "stream": "stdout",
       "text": [
        "[2.5198739968498427, 3.8179909043179432, 3.1498424960623033, 2.6998649966248314, 3.6398179954497727, 3.4586505839115489, 3.1498424960623033, 3.4361918138861487, 3.5278235955897799, 3.2998349958747939, 2.8450190287014352, 2.7598619965498279, 3.0448477461935601, 3.35983199579979, 3.2758361959047955, 3.4629847325129415, 3.3467076520661974, 2.799859996499825, 3.2146540700553543, 3.046001534653656, 3.0057320550659892, 3.1314223645063834, 3.2882076703079339, 2.7226224793550022, 3.2146540700553543, 3.2359037664465191, 3.0730170693290764, 3.018030905317993, 3.1295732393308855, 3.1462344290565047, 3.1723184364011781, 3.1469816036953078, 3.1015398266311625, 3.1769963106835299, 3.0631865604700583, 3.0726668679536542, 3.0939092198765192, 3.1313725130001426, 3.132132538253118, 3.276016444402424, 3.056580683857975, 3.1248437460935552, 3.0965900491190346, 3.1441824017297564, 3.1775389528622116, 3.1100420302818397, 3.1458503002498035, 3.1089815950981561, 3.0660364457152642, 3.1537142434594077, 3.1257165762177994, 3.0985166884750321, 3.1490976763659067, 3.1219912571497521, 3.1230822149863116, 3.1221662023031085, 3.1607567112253743, 3.1465110920474304, 3.1529316672365044, 3.1644724612090216, 3.1300617280400251, 3.1415614655620705, 3.132304570363607, 3.1334705270387544, 3.1122674991843073, 3.1475979657194189, 3.1549109392420052, 3.1465886609975722, 3.1321148557497218, 3.1508739462214699, 3.1543723535076666, 3.1396795165109754, 3.1436088345204394, 3.1561906341903443, 3.1458058629341799, 3.1225153532567846, 3.1544428521631014, 3.1435774721117751, 3.1344628065766202, 3.140944271610786, 3.1392903079689973, 3.1419051232582351, 3.1459607653756878, 3.1337997286091803, 3.143786215855628, 3.138952788734243, 3.1443811863844409, 3.1342060533188283, 3.140782734532956, 3.1357444842442166, 3.139839977306242, 3.1462115230178083, 3.1399795841232581, 3.1399991459675163, 3.1438047641267159, 3.1423878786853234, 3.1426868749622168, 3.1415566653976432, 3.1423023913020951, 3.1420896837319949]\n"
       ]
      }
     ],
     "prompt_number": 13
    },
    {
     "cell_type": "markdown",
     "metadata": {},
     "source": [
      "\n",
      "(b) Calculate the percent error for the N values from part (a) using the exact result \u03c0. Make a log-log plot of the error as a function of N.\n",
      "\n",
      "What is the approximate functional dependence of the error on N for large N, for example N\u2265104?"
     ]
    },
    {
     "cell_type": "code",
     "collapsed": false,
     "input": [
      "percentdiff=[]\n",
      "for result in answers:\n",
      "    percentdiff.append(abs(pi-result)/pi*100)\n",
      "plt.plot(np.log(i),np.log(percentdiff))"
     ],
     "language": "python",
     "metadata": {},
     "outputs": [
      {
       "metadata": {},
       "output_type": "pyout",
       "prompt_number": 11,
       "text": [
        "[<matplotlib.lines.Line2D at 0x1066dc8d0>]"
       ]
      },
      {
       "metadata": {},
       "output_type": "display_data",
       "png": "[encoded data removed]",
       "text": [
        "<matplotlib.figure.Figure at 0x10669d1d0>"
       ]
      }
     ],
     "prompt_number": 11
    },
    {
     "cell_type": "markdown",
     "metadata": {},
     "source": [
      "(c) Estimate the same integral using the sample mean method and compute the statistical uncertainty and error as a function of the number of samples N for N\u226510^4. Use at least 100 different values for N.\n",
      "\n",
      "Make a log-log plot of both the statistical uncertainty and the error as a function of N.\n",
      "\n",
      "How many samples are needed to determine the result to two decimal places? What is the approximate functional dependence of the error on N for large N?"
     ]
    },
    {
     "cell_type": "code",
     "collapsed": false,
     "input": [
      "xmin=0\n",
      "xmax=1\n",
      "moreanswers=[]\n",
      "moreuncertain=[]\n",
      "moreerror=[]\n",
      "i = np.logspace(1,4,num=100)\n",
      "f=lambda x: 4*sqrt(1-x**2)\n",
      "for N in i:\n",
      "    samples_x=xmin+(xmax-xmin)*np.random.random_sample(N);\n",
      "    \n",
      "    approx=f(samples_x)\n",
      "    I=approx.mean()*(xmax-xmin)\n",
      "    moreanswers.append(I)\n",
      "    Iunc=(xmax-xmin)*np.sqrt(((approx**2).mean()-(approx.mean())**2)/N)\n",
      "    moreuncertain.append(Iunc)\n",
      "    Ierr=np.abs(np.pi-I)/np.pi\n",
      "    moreerror.append(Ierr)\n",
      "print i\n",
      "print moreanswers\n",
      "\n",
      "plt.plot(np.log(i),np.log(moreuncertain))\n",
      "plt.plot(np.log(i),np.log(moreerror))"
     ],
     "language": "python",
     "metadata": {},
     "outputs": [
      {
       "output_type": "stream",
       "stream": "stdout",
       "text": [
        "[    10.             10.72267222     11.49756995     12.32846739\n",
        "     13.21941148     14.17474163     15.19911083     16.29750835\n",
        "     17.475284       18.73817423     20.09233003     21.5443469\n",
        "     23.101297       24.77076356     26.56087783     28.48035868\n",
        "     30.53855509     32.74549163     35.11191734     37.64935807\n",
        "     40.37017259     43.28761281     46.41588834     49.77023564\n",
        "     53.36699231     57.22367659     61.35907273     65.79332247\n",
        "     70.54802311     75.64633276     81.11308308     86.97490026\n",
        "     93.26033469    100.            107.2267222     114.97569954\n",
        "    123.28467394    132.19411485    141.74741629    151.9911083\n",
        "    162.97508346    174.75284       187.38174229    200.92330026\n",
        "    215.443469      231.01297001    247.7076356     265.60877829\n",
        "    284.80358684    305.38555088    327.45491629    351.11917342\n",
        "    376.49358068    403.70172586    432.87612811    464.15888336\n",
        "    497.70235643    533.66992312    572.23676594    613.59072734\n",
        "    657.93322466    705.48023107    756.46332755    811.13083079\n",
        "    869.74900262    932.60334688   1000.           1072.26722201\n",
        "   1149.7569954    1232.84673944   1321.94114847   1417.47416293\n",
        "   1519.91108295   1629.75083462   1747.52840001   1873.81742286\n",
        "   2009.23300257   2154.43469003   2310.12970008   2477.07635599\n",
        "   2656.08778295   2848.03586844   3053.85550883   3274.54916288\n",
        "   3511.19173422   3764.93580679   4037.0172586    4328.76128108\n",
        "   4641.58883361   4977.02356433   5336.69923121   5722.36765935\n",
        "   6135.90727341   6579.33224658   7054.80231072   7564.63327555\n",
        "   8111.3083079    8697.49002618   9326.03346883  10000.        ]\n",
        "[3.2204360912815773, 2.3020405717659291, 3.4693120227777841, 3.254617654458523, 2.8252587095340975, 3.151207336459088, 3.014540081562552, 3.0525969916494948, 3.103780364105349, 3.3643537762539846, 3.4302794952517806, 3.3203777901876115, 2.8641827523732042, 3.0395835216112075, 3.1929156893660267, 2.9747091676433621, 3.0713867961034667, 2.9910082855864086, 3.0522678299613979, 3.0568798860570303, 3.0473408542787213, 2.939979041221346, 3.0818805204655662, 3.1334498854612209, 3.0592105766905906, 3.2633579281233547, 2.9670875096995406, 3.0963107467624305, 3.0728943673327369, 3.1377732985512097, 3.2302520066898781, 3.0298966679628569, 3.1398566695621537, 3.1869648494261242, 3.2126118449733596, 3.2467885339925675, 3.1274971881507883, 3.1406188823163528, 3.0882653794196662, 3.0334896102770137, 3.0937882975227597, 3.3061430624056247, 3.2300330334768912, 3.1394348659581648, 3.2199125759595622, 3.1837577512291779, 3.1540495378221531, 3.156056776673863, 3.1139785348256583, 3.1707882034517034, 3.1639030304742883, 3.1042353971439387, 3.1280477229909001, 3.1550893679989924, 3.1907494548934694, 3.1488253543110765, 3.1251939109562676, 3.1059634992666156, 3.0935863363353335, 3.0790870112601714, 3.1570938837065765, 3.1331529622452692, 3.1105851912362077, 3.1143153713280385, 3.1326287811143634, 3.1965912256213369, 3.1415387971579158, 3.1089537533926119, 3.1009600658049914, 3.1446689611197005, 3.1226754024833192, 3.1124554842388203, 3.1266696073084175, 3.156797381509683, 3.1149352978177847, 3.1489928284838671, 3.1309731028551506, 3.14343750961137, 3.1534594039518971, 3.1564905448221325, 3.1794127282011266, 3.1387555212473273, 3.1722637748538971, 3.1492737550282004, 3.1540946622033132, 3.1246348489710356, 3.138351365271296, 3.156834377894131, 3.1467467386496004, 3.1543275244750646, 3.1292127429822441, 3.1369501961558677, 3.1361284540322103, 3.1375918698909473, 3.148679211218214, 3.1305516648708571, 3.1453666270544667, 3.1293355163111078, 3.1620936055567515, 3.1511233480281042]\n"
       ]
      },
      {
       "metadata": {},
       "output_type": "pyout",
       "prompt_number": 35,
       "text": [
        "[<matplotlib.lines.Line2D at 0x108803a50>]"
       ]
      },
      {
       "metadata": {},
       "output_type": "display_data",
       "png": "[encoded data removed]",
       "text": [
        "<matplotlib.figure.Figure at 0x1088aee50>"
       ]
      }
     ],
     "prompt_number": 35
    },
    {
     "cell_type": "code",
     "collapsed": false,
     "input": [],
     "language": "python",
     "metadata": {},
     "outputs": []
    }
   ],
   "metadata": {}
  }
 ]
}