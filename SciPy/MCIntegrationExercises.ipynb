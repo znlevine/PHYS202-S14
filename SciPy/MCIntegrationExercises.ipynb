{
 "metadata": {
  "name": "",
  "signature": "sha256:291475a38da3f17420d90d9caec0fc80248d0162c0727e222e291559f4ce255f"
 },
 "nbformat": 3,
 "nbformat_minor": 0,
 "worksheets": [
  {
   "cells": [
    {
     "cell_type": "heading",
     "level": 1,
     "metadata": {},
     "source": [
      "Monte Carlo Integration Exercises"
     ]
    },
    {
     "cell_type": "code",
     "collapsed": false,
     "input": [
      "%pylab inline\n",
      "import numpy as np\n",
      "import matplotlib.pyplot as plt\n",
      "from IPython.html.widgets import interact, interactive\n",
      "from Electrostatics import * "
     ],
     "language": "python",
     "metadata": {},
     "outputs": [
      {
       "output_type": "stream",
       "stream": "stdout",
       "text": [
        "Populating the interactive namespace from numpy and matplotlib\n"
       ]
      },
      {
       "output_type": "stream",
       "stream": "stderr",
       "text": [
        "WARNING: pylab import has clobbered these variables: ['interactive']\n",
        "`%matplotlib` prevents importing * from pylab and numpy\n"
       ]
      }
     ],
     "prompt_number": 3
    },
    {
     "cell_type": "code",
     "collapsed": false,
     "input": [
      "from Electrostatics import * "
     ],
     "language": "python",
     "metadata": {},
     "outputs": [],
     "prompt_number": 4
    },
    {
     "cell_type": "markdown",
     "metadata": {},
     "source": [
      "(a) Use the sample mean method to compute the potential at point P(2,3) due to the disk of charge for different numbers of samples N=(101,102,103,104,105,106). Report the value and its statistical uncertainty for each sample size. How does the result depend on N?\n",
      " "
     ]
    },
    {
     "cell_type": "code",
     "collapsed": false,
     "input": [
      "def sampleMean(N=10000,xmin=-1,xmax=1):\n",
      "    \n",
      "    #set up the function\n",
      "    f=lambda x,y:(x**2+y**2)**(1/2)\n",
      "    x=np.arange(-1.,1.,0.001)\n",
      "    #Iana=lambda x:(2./3.)*x**(3./2.)-np.cos(x)\n",
      "    #Iexact=Iana(xmax)-Iana(xmin)\n",
      "    \n",
      "    #the integration part\n",
      "    samples_x = xmin + (xmax-xmin)*np.random.random_sample(N); \n",
      "    \n",
      "    approx=f(samples_x)\n",
      "    I=approx.mean()*(xmax-xmin)\n",
      "    \n",
      "    Iunc=(xmax-xmin)*np.sqrt(((approx**2).mean()-(approx.mean())**2)/N)\n",
      "    \n",
      "    Ierr=100*np.abs(Iexact-I)/Iexact\n",
      "    \n",
      "    #Find max of f to set ymax\n",
      "    \n",
      "    ymax=approx.max()\n",
      "    ymin=0.\n",
      "    \n",
      "    #print results\n",
      "    print \"I_exact=\",Iexact\n",
      "    print \"I_samplemean=\",I,\"+/-\",Iunc\n",
      "    print \"Error on I=\",Ierr,\"%\"\n",
      "    \n",
      "    #plot values\n",
      "    plt.plot(x,f(x),lw=3)\n",
      "    plt.ylabel(r'$x^{1/2} + \\sin(x)$',fontsize=20)\n",
      "    plt.xlabel(r'$x$', fontsize = 20)\n",
      "    plt.xlim(0.,15.)\n",
      "    \n",
      "    #plot the box\n",
      "    plt.plot([xmin,xmin],[ymin,ymax],color='k',linestyle='--') #left\n",
      "    plt.plot([xmax,xmax],[ymin,ymax],color='k',linestyle='--') #right\n",
      "    plt.plot([xmin,xmax],[ymax,ymax],color='k',linestyle='--') #top\n",
      "    \n",
      "    #plot average value for comparison\n",
      "    plt.plot((xmin,xmax),(approx.mean(),approx.mean()),'r-',label=\"Average value of function at sample points\")\n",
      "    plt.legend(loc=\"upper left\")\n",
      "    \n",
      "    plt.show()"
     ],
     "language": "python",
     "metadata": {},
     "outputs": []
    }
   ],
   "metadata": {}
  }
 ]
}