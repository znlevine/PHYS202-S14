{
 "metadata": {
  "name": "",
  "signature": "sha256:636900da2fe489a0a1fda740ba7229617d2d7ec595f02ac3ee6de6ea67fd7854"
 },
 "nbformat": 3,
 "nbformat_minor": 0,
 "worksheets": [
  {
   "cells": [
    {
     "cell_type": "heading",
     "level": 1,
     "metadata": {},
     "source": [
      "Monte Carlo Integration Exercises"
     ]
    },
    {
     "cell_type": "code",
     "collapsed": false,
     "input": [
      "%pylab inline\n",
      "import numpy as np\n",
      "import matplotlib.pyplot as plt\n",
      "from IPython.html.widgets import interact, interactive\n",
      "from Electrostatics import * "
     ],
     "language": "python",
     "metadata": {},
     "outputs": [
      {
       "output_type": "stream",
       "stream": "stdout",
       "text": [
        "Populating the interactive namespace from numpy and matplotlib\n"
       ]
      }
     ],
     "prompt_number": 3
    },
    {
     "cell_type": "code",
     "collapsed": false,
     "input": [
      "from Electrostatics import * "
     ],
     "language": "python",
     "metadata": {},
     "outputs": [],
     "prompt_number": 4
    },
    {
     "cell_type": "markdown",
     "metadata": {},
     "source": [
      "(a) Use the sample mean method to compute the potential at point P(2,3) due to the disk of charge for different numbers of samples N=(101,102,103,104,105,106). Report the value and its statistical uncertainty for each sample size. How does the result depend on N?\n",
      " "
     ]
    },
    {
     "cell_type": "code",
     "collapsed": false,
     "input": [
      "#EXTRA CODE SNIPPETS\n",
      "\n",
      "#find the maximum value of f within the boundary to set ymax\n",
      "#subx = x[logical_and((x > xmin),(x < xmax))]\n",
      "#ymax = f(subx).max()*1.05\n",
      "#ymin = 0.\n",
      " \n",
      "#Sample within x and y ranges:\n",
      "#N=10000\n",
      "#samples_x = xmin + (xmax-xmin)*np.random.random_sample(N);\n",
      "#samples_y = ymin + (ymax-ymin)*np.random.random_sample(N);\n",
      "\n",
      "def pointPotential(x,y,q,Xc,Yc): #Copied in for easier reference and use in the function\n",
      "    \n",
      "    k=8.987551787997912e9\n",
      "    Vxy=k*q/np.sqrt(((x-Xc)**2+(y-Yc)**2))\n",
      "    return Vxy\n"
     ],
     "language": "python",
     "metadata": {},
     "outputs": [],
     "prompt_number": 26
    },
    {
     "cell_type": "code",
     "collapsed": false,
     "input": [
      "def samplemean(N):\n",
      "\n",
      "    xmin=-1.\n",
      "    xmax=1.\n",
      "    CDensity = 1.0*10**(-6)\n",
      "    ymin=0.\n",
      "    ymax=2.\n",
      "    A=(xmax-xmin)*(ymax-ymin)\n",
      "    #Set up the function\n",
      "    f =  lambda q,x,y: pointPotential(2,3,q,x,y) #Set up function \n",
      "    dQ=CDensity*A\n",
      "    samples_x = xmin + (xmax-xmin)*np.random.random_sample(N)\n",
      "    samples_y = ymin + (ymax-ymin)*np.random.random_sample(N)\n",
      "    approx=f(dQ,samples_x,samples_y)\n",
      "    I=approx.mean()*(xmax-xmin)*(ymax-ymin)\n",
      "    \n",
      "    Iunc=A*np.sqrt(((approx**2).mean()-(approx.mean())**2)/N)    \n",
      "    \n",
      "    #Print our results\n",
      "    #print \"I_exact =\", Iexact\n",
      "    print \"Sample mean result =\", I, \" +/- \",Iunc\n",
      "    #print \"Error on I =\", Ierr, \"%\"\n",
      "    \n",
      "    \n",
      "samplemean(10)\n",
      "samplemean(100)\n",
      "samplemean(1000)\n",
      "samplemean(10000)\n",
      "samplemean(100000)\n",
      "samplemean(1000000)"
     ],
     "language": "python",
     "metadata": {},
     "outputs": [
      {
       "output_type": "stream",
       "stream": "stdout",
       "text": [
        "Sample mean result = 51754.7143885  +/-  4962.07801916\n",
        "Sample mean result = 52327.2892749  +/-  1359.60684037\n",
        "Sample mean result = 51721.2739801  +/-  367.677874785\n",
        "Sample mean result = 51891.6716944  +/-  117.800813659\n",
        "Sample mean result = 52104.1849057  +/-  37.711147876\n",
        "Sample mean result ="
       ]
      },
      {
       "output_type": "stream",
       "stream": "stdout",
       "text": [
        " 52092.5137334  +/-  11.8700454581\n"
       ]
      }
     ],
     "prompt_number": 27
    },
    {
     "cell_type": "markdown",
     "metadata": {},
     "source": [
      "Use the sample mean method to compute the volume of a sphere with radius 1 using spherical coordinates:\n",
      "\n",
      "V=\u222b10\u222b\u03c00\u222b2\u03c00r2sin(\u03b8)drd\u03b8d\u03d5\n",
      "\n",
      "for N=(10^1,10^2,10^3,10^4,10^5,10^6). Report the value and statistical uncertainty for each sample size. How does the result depend on N?"
     ]
    },
    {
     "cell_type": "code",
     "collapsed": false,
     "input": [
      "\n",
      "fxyz =  lambda x,y,z: (z**2)*np.sin(y)\n",
      "xa = 0.; xb = 1.\n",
      "ya = 0.; yb = np.pi\n",
      "za = 0.; zb = np.pi*2\n",
      "    \n",
      "i = (10,100,1000,10000,100000,1000000)\n",
      "for N in i:\n",
      "    x = (xb-xa)*np.random.random_sample(N)\n",
      "    y = (yb-ya)*np.random.random_sample(N)\n",
      "    z = (zb-za)*np.random.random_sample(N)\n",
      "\n",
      "    I = (xb-xa)*(yb-ya)*(zb-za)*fxyz(x,y,z).mean()\n",
      "    err = (xb-xa)*(yb-ya)*(zb-za)*np.sqrt(((fxyz(x,y,z)**2).mean() - (fxyz(x,y,z).mean())**2)/N)\n",
      "    \n",
      "    print \"I=\",I,\" +/-\",err\n",
      " \n"
     ],
     "language": "python",
     "metadata": {},
     "outputs": [
      {
       "output_type": "stream",
       "stream": "stdout",
       "text": [
        "I= 159.942690749  +/- 52.7678996035\n",
        "I= 147.94747519  +/- 15.6257299025\n",
        "I= 159.320591667  +/- 5.73069030212\n",
        "I= 167.830590241  +/- 1.8444913258\n",
        "I= 164.618004618  +/- 0.576320311362\n",
        "I="
       ]
      },
      {
       "output_type": "stream",
       "stream": "stdout",
       "text": [
        " 165.59116595  +/- 0.182933406908\n"
       ]
      }
     ],
     "prompt_number": 29
    },
    {
     "cell_type": "code",
     "collapsed": false,
     "input": [
      "def hitOrMiss(N=10000,xmin=1.7,xmax=12.4):\n",
      "    \n",
      "    f=lambda x: 4*np.sqrt\n",
      "    x=np.arange(0.,15.,0.001)\n",
      "    Iana=lambda x: (2./3.)*x**(3./2.) - np.cos(x)\n",
      "    Iexact=Iana(xmax)-Iana(xmin)\n",
      "    \n",
      "    subx=x[logical_and((x>xmin),(x<xmax))]\n",
      "    ymax=f(subx).max()*1.05\n",
      "    ymin=0.\n",
      "    \n",
      "    #Integration Part\n",
      "    samples_x=xmin+(xmax-xmin)*np.random.random_sample(N);\n",
      "    samples_y=ymin+(ymax-ymin)*np.random.random_sample(N);\n",
      "    \n",
      "    newmask=(samples_y<f(samples_x))\n",
      "    I=(xmax-xmin)*(ymax-ymin)*newmask.sum()/newmask.size\n",
      "    Ierr=100*np.abs(Iexact-I)/Iexact\n",
      "    \n",
      "    #print the results\n",
      "    \n",
      "    print \"I_exact=\",Iexact\n",
      "    print \"I_hitormiss=\",I\n",
      "    print \"Error on I=\",Ierr,\"%\""
     ],
     "language": "python",
     "metadata": {},
     "outputs": [],
     "prompt_number": 28
    },
    {
     "cell_type": "code",
     "collapsed": false,
     "input": [],
     "language": "python",
     "metadata": {},
     "outputs": []
    }
   ],
   "metadata": {}
  }
 ]
}