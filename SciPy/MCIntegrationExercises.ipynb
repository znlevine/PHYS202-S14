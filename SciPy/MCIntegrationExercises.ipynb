{
 "metadata": {
  "name": "",
  "signature": "sha256:0831dd3bfb907dffcb6e913fabc86b211d31d4de1515c19a252d324ef03dbe23"
 },
 "nbformat": 3,
 "nbformat_minor": 0,
 "worksheets": [
  {
   "cells": [
    {
     "cell_type": "heading",
     "level": 1,
     "metadata": {},
     "source": [
      "Monte Carlo Integration Exercises"
     ]
    },
    {
     "cell_type": "code",
     "collapsed": false,
     "input": [
      "%pylab inline\n",
      "import numpy as np\n",
      "import matplotlib.pyplot as plt\n",
      "from IPython.html.widgets import interact, interactive\n",
      "from Electrostatics import * "
     ],
     "language": "python",
     "metadata": {},
     "outputs": [
      {
       "output_type": "stream",
       "stream": "stdout",
       "text": [
        "Populating the interactive namespace from numpy and matplotlib\n"
       ]
      }
     ],
     "prompt_number": 3
    },
    {
     "cell_type": "code",
     "collapsed": false,
     "input": [
      "from Electrostatics import * "
     ],
     "language": "python",
     "metadata": {},
     "outputs": [],
     "prompt_number": 4
    },
    {
     "cell_type": "markdown",
     "metadata": {},
     "source": [
      "(a) Use the sample mean method to compute the potential at point P(2,3) due to the disk of charge for different numbers of samples N=(101,102,103,104,105,106). Report the value and its statistical uncertainty for each sample size. How does the result depend on N?\n",
      " "
     ]
    },
    {
     "cell_type": "code",
     "collapsed": false,
     "input": [
      "#EXTRA CODE SNIPPETS\n",
      "\n",
      "#find the maximum value of f within the boundary to set ymax\n",
      "#subx = x[logical_and((x > xmin),(x < xmax))]\n",
      "#ymax = f(subx).max()*1.05\n",
      "#ymin = 0.\n",
      " \n",
      "#Sample within x and y ranges:\n",
      "#N=10000\n",
      "#samples_x = xmin + (xmax-xmin)*np.random.random_sample(N);\n",
      "#samples_y = ymin + (ymax-ymin)*np.random.random_sample(N);\n",
      "\n",
      "def pointPotential(x,y,q,Xc,Yc): #Copied in for easier reference and use in the function\n",
      "    \n",
      "    k=8.987551787997912e9\n",
      "    Vxy=k*q/np.sqrt(((x-Xc)**2+(y-Yc)**2))\n",
      "    return Vxy\n"
     ],
     "language": "python",
     "metadata": {},
     "outputs": [],
     "prompt_number": 7
    },
    {
     "cell_type": "code",
     "collapsed": false,
     "input": [
      "def sampleMean(N):\n",
      "\n",
      "    xmin=-1.\n",
      "    xmax=1.\n",
      "    CDensity = 1.\n",
      "    ymin=0.\n",
      "    ymax=2.\n",
      "    r = lambda x,y: (x**2.+y**2.)**.5\n",
      "    #Set up the function\n",
      "    f =  #Set up function ???\n",
      "\n",
      "    ##########################################################\n",
      "    #Here's the integration part:\n",
      "    samples_x = xmin + (xmax-xmin)*np.random.random_sample(N); #makex N X random values from xmin to xmax\n",
      "    \n",
      "    approx = f(samples_x) #Finds approximate, based on random X values\n",
      "    I = approx.mean()*(xmax-xmin) #Takes mean value of approximate, multiplies by range\n",
      "\n",
      "    #Numerical uncertainty\n",
      "    Iunc = (xmax-xmin)*np.sqrt( ((approx**2).mean()-(approx.mean())**2)/N ) #finds uncertainty\n",
      "\n",
      "    #Comparison with exact result\n",
      "    #Ierr = 100*np.abs(Iexact-I)/Iexact #Finds error\n",
      "    ##########################################################\n",
      "    \n",
      "    #Print our results\n",
      "    #print \"I_exact =\", Iexact\n",
      "    print \"Sample mean result =\", I, \" +/- \",Iunc\n",
      "    #print \"Error on I =\", Ierr, \"%\"\n",
      "    \n",
      "    \n",
      "samplemean(10)\n",
      "samplemean(100)\n",
      "samplemean(1000)\n",
      "samplemean(10000)\n",
      "samplemean(100000)\n",
      "samplemean(1000000)"
     ],
     "language": "python",
     "metadata": {},
     "outputs": [
      {
       "ename": "SyntaxError",
       "evalue": "invalid syntax (<ipython-input-8-084cb87b62fd>, line 10)",
       "output_type": "pyerr",
       "traceback": [
        "\u001b[0;36m  File \u001b[0;32m\"<ipython-input-8-084cb87b62fd>\"\u001b[0;36m, line \u001b[0;32m10\u001b[0m\n\u001b[0;31m    f =  #Set up function ???\u001b[0m\n\u001b[0m                             ^\u001b[0m\n\u001b[0;31mSyntaxError\u001b[0m\u001b[0;31m:\u001b[0m invalid syntax\n"
       ]
      }
     ],
     "prompt_number": 8
    },
    {
     "cell_type": "markdown",
     "metadata": {},
     "source": [
      "Use the sample mean method to compute the volume of a sphere with radius 1 using spherical coordinates:\n",
      "\n",
      "V=\u222b10\u222b\u03c00\u222b2\u03c00r2sin(\u03b8)drd\u03b8d\u03d5\n",
      "\n",
      "for N=(10^1,10^2,10^3,10^4,10^5,10^6). Report the value and statistical uncertainty for each sample size. How does the result depend on N?"
     ]
    },
    {
     "cell_type": "code",
     "collapsed": false,
     "input": [
      "\n",
      "fxyz =  lambda x,y,z: (z**2)*np.sin(y)\n",
      "xa = 0.; xb = 1.\n",
      "ya = 0.; yb = np.pi\n",
      "za = 0.; zb = np.pi*2\n",
      "    \n",
      "i = (10,100,1000,10000,100000,1000000)\n",
      "for N in i:\n",
      "    x = (xb-xa)*np.random.random_sample(N)\n",
      "    y = (yb-ya)*np.random.random_sample(N)\n",
      "    z = (zb-za)*np.random.random_sample(N)\n",
      "\n",
      "    I = (xb-xa)*(yb-ya)*(zb-za)*fxyz(x,y,z).mean()\n",
      "    err = (xb-xa)*(yb-ya)*(zb-za)*np.sqrt(((fxyz(x,y,z)**2).mean() - (fxyz(x,y,z).mean())**2)/N)\n",
      "    \n",
      "    print \"I=\",I,\" +/-\",err\n",
      " \n"
     ],
     "language": "python",
     "metadata": {},
     "outputs": [
      {
       "output_type": "stream",
       "stream": "stdout",
       "text": [
        " I= 215.327068053  +/- 56.4613975981\n",
        "I= 162.36457765  +/- 19.6892572579\n",
        "I= 168.493987531  +/- 5.85693342543\n",
        "I= 164.199087303  +/- 1.82920426353\n",
        "I= 164.597683169  +/- 0.577342930622\n",
        "I="
       ]
      },
      {
       "output_type": "stream",
       "stream": "stdout",
       "text": [
        " 165.378344915  +/- 0.182702746117\n"
       ]
      }
     ],
     "prompt_number": 14
    },
    {
     "cell_type": "code",
     "collapsed": false,
     "input": [
      "def hitOrMiss(N=10000,xmin=1.7,xmax=12.4):\n",
      "    \n",
      "    f=lambda x: 4*np.sqrt\n",
      "    x=np.arange(0.,15.,0.001)\n",
      "    Iana=lambda x: (2./3.)*x**(3./2.) - np.cos(x)\n",
      "    Iexact=Iana(xmax)-Iana(xmin)\n",
      "    \n",
      "    subx=x[logical_and((x>xmin),(x<xmax))]\n",
      "    ymax=f(subx).max()*1.05\n",
      "    ymin=0.\n",
      "    \n",
      "    #Integration Part\n",
      "    samples_x=xmin+(xmax-xmin)*np.random.random_sample(N);\n",
      "    samples_y=ymin+(ymax-ymin)*np.random.random_sample(N);\n",
      "    \n",
      "    newmask=(samples_y<f(samples_x))\n",
      "    I=(xmax-xmin)*(ymax-ymin)*newmask.sum()/newmask.size\n",
      "    Ierr=100*np.abs(Iexact-I)/Iexact\n",
      "    \n",
      "    #print the results\n",
      "    \n",
      "    print \"I_exact=\",Iexact\n",
      "    print \"I_hitormiss=\",I\n",
      "    print \"Error on I=\",Ierr,\"%\""
     ],
     "language": "python",
     "metadata": {},
     "outputs": []
    }
   ],
   "metadata": {}
  }
 ]
}