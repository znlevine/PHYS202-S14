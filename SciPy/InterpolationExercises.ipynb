{
 "metadata": {
  "name": "",
  "signature": "sha256:315861e5f04f67f7f561bccc083adef0edb57af6a0ff46a8c1082008150a69a6"
 },
 "nbformat": 3,
 "nbformat_minor": 0,
 "worksheets": [
  {
   "cells": [
    {
     "cell_type": "heading",
     "level": 1,
     "metadata": {},
     "source": [
      "Interpolation Exercises"
     ]
    },
    {
     "cell_type": "code",
     "collapsed": false,
     "input": [
      "%pylab inline"
     ],
     "language": "python",
     "metadata": {},
     "outputs": [
      {
       "output_type": "stream",
       "stream": "stdout",
       "text": [
        "Populating the interactive namespace from numpy and matplotlib\n"
       ]
      }
     ],
     "prompt_number": 1
    },
    {
     "cell_type": "markdown",
     "metadata": {},
     "source": [
      "\n",
      "1. It is common to test functions where you know the answer they should give. Let's test the dipolePotential() function that we previously saved in Electrostatics.py to see that the function is zero along the bisector between the charges.\n",
      "First, set up a grid and evaluate the function."
     ]
    },
    {
     "cell_type": "code",
     "collapsed": false,
     "input": [
      "from Electrostatics import *\n",
      "x,y=np.meshgrid(np.arange(-5,5.01,.5),np.arange(-5,5.01,.5))\n",
      "Vdipole=dipolePotential(x,y,1e-9,2.)\n",
      "plt.contour(x,y,Vdipole,cmap=cm.coolwarm)\n",
      "plt.show()"
     ],
     "language": "python",
     "metadata": {},
     "outputs": [
      {
       "metadata": {},
       "output_type": "display_data",
       "png": "[encoded data removed]",
       "text": [
        "<matplotlib.figure.Figure at 0x10666c3d0>"
       ]
      }
     ],
     "prompt_number": 16
    },
    {
     "cell_type": "markdown",
     "metadata": {},
     "source": [
      "(a) Use a boolean mask to locate the positions where x=0."
     ]
    },
    {
     "cell_type": "code",
     "collapsed": false,
     "input": [
      "from Electrostatics import *\n",
      "x,y=np.meshgrid(np.arange(-5,5.01,.5),np.arange(-5,5.01,.5))\n",
      "\n",
      "ii=x==0\n",
      "\n",
      "Vdipole=dipolePotential(x,y,1e-9,2.)\n",
      "\n",
      "print[ii]\n",
      "\n",
      "plt.contour(x,y,Vdipole,cmap=cm.coolwarm)\n",
      "plt.show()"
     ],
     "language": "python",
     "metadata": {},
     "outputs": [
      {
       "output_type": "stream",
       "stream": "stdout",
       "text": [
        "[array([[False, False, False, False, False, False, False, False, False,\n",
        "        False,  True, False, False, False, False, False, False, False,\n",
        "        False, False, False],\n",
        "       [False, False, False, False, False, False, False, False, False,\n",
        "        False,  True, False, False, False, False, False, False, False,\n",
        "        False, False, False],\n",
        "       [False, False, False, False, False, False, False, False, False,\n",
        "        False,  True, False, False, False, False, False, False, False,\n",
        "        False, False, False],\n",
        "       [False, False, False, False, False, False, False, False, False,\n",
        "        False,  True, False, False, False, False, False, False, False,\n",
        "        False, False, False],\n",
        "       [False, False, False, False, False, False, False, False, False,\n",
        "        False,  True, False, False, False, False, False, False, False,\n",
        "        False, False, False],\n",
        "       [False, False, False, False, False, False, False, False, False,\n",
        "        False,  True, False, False, False, False, False, False, False,\n",
        "        False, False, False],\n",
        "       [False, False, False, False, False, False, False, False, False,\n",
        "        False,  True, False, False, False, False, False, False, False,\n",
        "        False, False, False],\n",
        "       [False, False, False, False, False, False, False, False, False,\n",
        "        False,  True, False, False, False, False, False, False, False,\n",
        "        False, False, False],\n",
        "       [False, False, False, False, False, False, False, False, False,\n",
        "        False,  True, False, False, False, False, False, False, False,\n",
        "        False, False, False],\n",
        "       [False, False, False, False, False, False, False, False, False,\n",
        "        False,  True, False, False, False, False, False, False, False,\n",
        "        False, False, False],\n",
        "       [False, False, False, False, False, False, False, False, False,\n",
        "        False,  True, False, False, False, False, False, False, False,\n",
        "        False, False, False],\n",
        "       [False, False, False, False, False, False, False, False, False,\n",
        "        False,  True, False, False, False, False, False, False, False,\n",
        "        False, False, False],\n",
        "       [False, False, False, False, False, False, False, False, False,\n",
        "        False,  True, False, False, False, False, False, False, False,\n",
        "        False, False, False],\n",
        "       [False, False, False, False, False, False, False, False, False,\n",
        "        False,  True, False, False, False, False, False, False, False,\n",
        "        False, False, False],\n",
        "       [False, False, False, False, False, False, False, False, False,\n",
        "        False,  True, False, False, False, False, False, False, False,\n",
        "        False, False, False],\n",
        "       [False, False, False, False, False, False, False, False, False,\n",
        "        False,  True, False, False, False, False, False, False, False,\n",
        "        False, False, False],\n",
        "       [False, False, False, False, False, False, False, False, False,\n",
        "        False,  True, False, False, False, False, False, False, False,\n",
        "        False, False, False],\n",
        "       [False, False, False, False, False, False, False, False, False,\n",
        "        False,  True, False, False, False, False, False, False, False,\n",
        "        False, False, False],\n",
        "       [False, False, False, False, False, False, False, False, False,\n",
        "        False,  True, False, False, False, False, False, False, False,\n",
        "        False, False, False],\n",
        "       [False, False, False, False, False, False, False, False, False,\n",
        "        False,  True, False, False, False, False, False, False, False,\n",
        "        False, False, False],\n",
        "       [False, False, False, False, False, False, False, False, False,\n",
        "        False,  True, False, False, False, False, False, False, False,\n",
        "        False, False, False]], dtype=bool)]\n"
       ]
      },
      {
       "metadata": {},
       "output_type": "display_data",
       "png": "[encoded data removed]",
       "text": [
        "<matplotlib.figure.Figure at 0x10676e590>"
       ]
      }
     ],
     "prompt_number": 21
    },
    {
     "cell_type": "markdown",
     "metadata": {},
     "source": [
      "(b) Check that Vdipole for these locations is zero. i.e. print the value of Vdipole for these locations using your mask from part (a)."
     ]
    },
    {
     "cell_type": "code",
     "collapsed": false,
     "input": [
      "from Electrostatics import *\n",
      "x,y=np.meshgrid(np.arange(-5,5.01,.5),np.arange(-5,5.01,.5))\n",
      "\n",
      "ii=x==0\n",
      "\n",
      "Vdipole=dipolePotential(x,y,1e-9,2.)\n",
      "\n",
      "print Vdipole[ii]\n",
      "\n",
      "plt.contour(x,y,Vdipole,cmap=cm.coolwarm)\n",
      "plt.show()"
     ],
     "language": "python",
     "metadata": {},
     "outputs": [
      {
       "output_type": "stream",
       "stream": "stdout",
       "text": [
        "[ 0.  0.  0.  0.  0.  0.  0.  0.  0.  0.  0.  0.  0.  0.  0.  0.  0.  0.\n",
        "  0.  0.  0.]\n"
       ]
      },
      {
       "metadata": {},
       "output_type": "display_data",
       "png": "[encoded data removed]",
       "text": [
        "<matplotlib.figure.Figure at 0x1062d9750>"
       ]
      }
     ],
     "prompt_number": 20
    },
    {
     "cell_type": "markdown",
     "metadata": {},
     "source": [
      "2. Thermistors are electrical devices that measure temperature. They are made out of a material whose resistance changes very predictably with temperature. In the lab we measure the resistance of the thermistor and then compute the temperature from the engineering data that the manufacturer sends with the devices. The table below is data for a set of thermistors used in PHYS 340. The temperature values are in \u2218C and the resistances in mega-Ohms, M\u03a9."
     ]
    },
    {
     "cell_type": "markdown",
     "metadata": {},
     "source": [
      "\n",
      "(a) Let's turn this look-up table into a continuous function. Write a reusable function Temp(Resistance) that takes any value of Resistance and returns the interpolated temperature. Be sure to include a docstring in your function."
     ]
    },
    {
     "cell_type": "code",
     "collapsed": false,
     "input": [
      "from scipy.interpolate import interp1d as interpld\n",
      "def Temp(Resistance):\n",
      "    \"\"\"\n",
      "    This function finds the temprature for a given resistance\n",
      "    \"\"\"\n",
      "    TempRes=[[10,3.239],[11,3.118],[12,3.004],[13,2.897],[14,2.795],[15,2.700],[16,2.610],[17,2.526],[18,2.446],[19,2.371],[20,2.300],[21,2.233],[22,2.169],[23,2.110],[24,2.053],[25,2.000],[26,1.950],[27,1.902],[28,1.857],[29,1.815],[30,1.774],[31,1.736],[32,1.700],[33,1.666],[34,1.634],[35,1.603],[36,1.574],[37,1.547],[38,1.521],[39,1.496]]\n",
      "    ResInterp=interpld(TempRes)\n",
      "    \n",
      "    \n",
      "    for pair in TempRes:\n",
      "        if pair[1]==Resistance:\n",
      "            print pair[0]\n",
      "            return pair[0]\n",
      "    else:\n",
      "        return 0"
     ],
     "language": "python",
     "metadata": {},
     "outputs": [],
     "prompt_number": 54
    },
    {
     "cell_type": "markdown",
     "metadata": {},
     "source": [
      "\n",
      "\n",
      "(b) Show that the function returns expected values, including some from the table for a few specific input resistances."
     ]
    },
    {
     "cell_type": "code",
     "collapsed": false,
     "input": [
      "Temp(2.7)\n",
      "Temp(2.000)\n",
      "Temp(1.7)\n",
      "Temp(5)"
     ],
     "language": "python",
     "metadata": {},
     "outputs": [
      {
       "output_type": "stream",
       "stream": "stdout",
       "text": [
        "15\n",
        "25\n",
        "32\n"
       ]
      },
      {
       "metadata": {},
       "output_type": "pyout",
       "prompt_number": 47,
       "text": [
        "0"
       ]
      }
     ],
     "prompt_number": 47
    },
    {
     "cell_type": "markdown",
     "metadata": {},
     "source": [
      "\n",
      "(c) Plot Temp(Resistance) vs. Resistance for a reasonable range of Resistance with reasonably fine sampling. Include as an annotation on the plot the value of the temperature for a resistance of 1.75 M\u03a9. (It's up to you to decide what \"reasonable\" means in both cases.)"
     ]
    },
    {
     "cell_type": "code",
     "collapsed": false,
     "input": [],
     "language": "python",
     "metadata": {},
     "outputs": []
    }
   ],
   "metadata": {}
  }
 ]
}