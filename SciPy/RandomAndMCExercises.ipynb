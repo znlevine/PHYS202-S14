{
 "metadata": {
  "name": "",
  "signature": "sha256:580854695bbc422c44ef64a34f034ccac523b0a98326b9e3208b8917295a59dd"
 },
 "nbformat": 3,
 "nbformat_minor": 0,
 "worksheets": [
  {
   "cells": [
    {
     "cell_type": "markdown",
     "metadata": {},
     "source": [
      "The Weibull distribution, with parameters \u03b1>0 and \u03b2>0 is described by the density function\n",
      "\n",
      "f(x)={\u03b1\u03b2\u2212\u03b1x\u03b1\u22121e\u2212(x/\u03b2)\u03b10x>0otherwise\n",
      "\n",
      "(a) Solve for the CDF of the Weibull distribution analytically, using\n",
      "\n",
      "F(x)=\u222bx\u2212\u221ef(t)dt\n",
      " "
     ]
    },
    {
     "cell_type": "code",
     "collapsed": false,
     "input": [
      "%pylab inline\n",
      "import numpy as np\n",
      "import matplotlib.pyplot as plot\n",
      "from IPython.html.widgets import interact, interactive\n",
      "from scipy.integrate import trapz,cumtrapz"
     ],
     "language": "python",
     "metadata": {},
     "outputs": [
      {
       "output_type": "stream",
       "stream": "stdout",
       "text": [
        "Populating the interactive namespace from numpy and matplotlib\n"
       ]
      }
     ],
     "prompt_number": 2
    },
    {
     "cell_type": "code",
     "collapsed": false,
     "input": [
      "f=lambda x,alpha,beta: alpha*beta**(-alpha)*x**(alpha-1)*exp(-(x/beta)**alpha)\n",
      "F=lambda x,alpha,beta: 1-exp(-(x/beta)**alpha)"
     ],
     "language": "python",
     "metadata": {},
     "outputs": [],
     "prompt_number": 3
    },
    {
     "cell_type": "markdown",
     "metadata": {},
     "source": [
      "(b) Find the inverse of the CDF F^\u22121(x) analytically "
     ]
    },
    {
     "cell_type": "code",
     "collapsed": false,
     "input": [
      "Finv=lambda x: b*(-np.log(1-x))**(1/a)"
     ],
     "language": "python",
     "metadata": {},
     "outputs": [],
     "prompt_number": 4
    },
    {
     "cell_type": "markdown",
     "metadata": {},
     "source": [
      "(c) Write a program to generate 10,000 samples from the Weibull distribution and plot the true distribution, the CDF and the sampled distribution as a histogram, all on the same graph. Let \u03b1 = 1.5, \u03b2 = 6."
     ]
    },
    {
     "cell_type": "code",
     "collapsed": false,
     "input": [
      "N=10000\n",
      "a=1.5\n",
      "b=6\n",
      "x=np.arange(0.,15.,.0001)\n",
      "z=np.random.random_sample(N)\n",
      "k=90\n",
      "xsamples=Finv(z)\n",
      "cdfsamples=F(x,a,b)\n",
      "true=f(x,a,b)\n",
      "n,b2 = np.histogram(xsamples,bins=k,range=(1.,10.))\n",
      "plt.hist(xsamples,50.,normed=True,label=\"Samples\")\n",
      "\n",
      "plt.plot(x,cdfsamples,label=\"CDF\")\n",
      "\n",
      "plt.plot(x,true,label=\"True\")\n",
      "plt.xlim(0,15)\n",
      "plt.legend(loc=\"best\")\n",
      "plt.show()"
     ],
     "language": "python",
     "metadata": {},
     "outputs": [
      {
       "metadata": {},
       "output_type": "display_data",
       "png": "[encoded data removed]",
       "text": [
        "<matplotlib.figure.Figure at 0x1085a9790>"
       ]
      }
     ],
     "prompt_number": 5
    },
    {
     "cell_type": "markdown",
     "metadata": {},
     "source": [
      "(d) Run the four statistical tests of randomness (mean, variance, chi-square, K-S) on your results from question 1(c). Does it pass all of them?"
     ]
    },
    {
     "cell_type": "code",
     "collapsed": false,
     "input": [
      "f=lambda x,alpha,beta: alpha*beta**(-alpha)*x**(alpha-1)*exp(-(x/beta)**alpha)\n",
      "\n",
      "\n",
      "meantest=lambda x,n:sum(x)/n\n",
      "variance=lambda x,n,m:sqrt(sum((x-m)**2)/(n-1))\n",
      "chisquare=lambda o,e: sum((o-e)**2/e)\n",
      "\n",
      "testing=f(b2+0.05,a,b)#Creates values based on function along bins\n",
      "\n",
      "m=meantest(xsamples,N)\n",
      "print \"Mean=\",m #prints mean\n",
      "print \"Variance=\",variance(xsamples,N,m)#prints variance\n",
      "\n",
      "#running chisqared tests - generates new funtion each time\n",
      "chisqvalues=[]\n",
      "chitests=100\n",
      "for i in range(0,chitests):\n",
      "    N=10000\n",
      "    a=1.5\n",
      "    b=6\n",
      "    z=np.random.random_sample(N)\n",
      "    k=90\n",
      "    xsamples=Finv(z)\n",
      "    cdfsamples=F(x,a,b)\n",
      "    true=f(x,a,b)\n",
      "    n,b2 = np.histogram(xsamples,bins=k,range=(1.,10.))\n",
      "    testing=f(b2+0.05,a,b)*N*.1#Creates values based on function along bins,scales based on numbers and size of bin\n",
      "    chisqvalues.append(chisquare(n,testing[:-1]))\n",
      "    \n",
      "chimean= meantest(chisqvalues,chitests)\n",
      "print \"Chi Mean=\",chimean\n",
      "print \"Chi Variance=\",variance(chisqvalues,chitests,chimean)**2\n",
      "\n",
      "\n",
      "#kolmogorov-Smirnov Test\n",
      "#Use cdfsamples\n",
      "#Generate emperical distribution:\n",
      "xmin,xmax=0,10#based on function\n",
      "subx = x[logical_and((x > xmin),(x < xmax))] \n",
      "ymax=f(subx,a,b).max()*1.05\n",
      "ymin=0.#also based on function\n",
      "\n",
      "samplesx=xmin+(xmax-xmin)*np.random.random_sample(N)\n",
      "samplesy=ymin+(ymax-ymin)*np.random.random_sample(N)\n",
      "\n",
      "mask=samplesy<f(samplesx,a,b)\n",
      "Totalbelow=mask.sum()/float(N)\n",
      "Kplus=(Totalbelow-F(10,a,b))\n",
      "Kminus=(F(10,a,b)-Totalbelow)\n",
      "print Kplus\n",
      "print Kminus"
     ],
     "language": "python",
     "metadata": {},
     "outputs": [
      {
       "output_type": "stream",
       "stream": "stdout",
       "text": [
        "Mean= 5.43571507258\n",
        "Variance= 3.62044662124\n",
        "Chi Mean="
       ]
      },
      {
       "output_type": "stream",
       "stream": "stdout",
       "text": [
        " 85.8026989157\n",
        "Chi Variance= 172.403517997\n",
        "0.0505794411714\n",
        "-0.0505794411714\n"
       ]
      }
     ],
     "prompt_number": 6
    },
    {
     "cell_type": "markdown",
     "metadata": {},
     "source": [
      "The Beta(4,3) distribution has density\n",
      "\n",
      "f(x)={60x^3*(1\u2212x)^2 0\u2264x\u22641, 0 otherwise\n",
      "\n",
      "The maximum of this distribution is f(0.6)=2.0736 (exactly).\n",
      "\n",
      "(a) Write a program that uses the Rejection Sampling Method to generate a set of 10,000 samples from this distribution and plot the density distribution, the CDF, and a histogram of the sampled distribution on the same graph.\n",
      "\n",
      "Note: Do not use the built-in Beta function from numpy.random "
     ]
    },
    {
     "cell_type": "code",
     "collapsed": false,
     "input": [
      "fbeta=lambda x:60*x**3*(1-x)**2\n",
      "Fbeta=lambda x:x**4*(10*x**2-24*x+15)\n",
      "#Fbeta=lambda x:1-\n",
      "xmin=0.\n",
      "xmax=1.\n",
      "x=np.arange(0.,1.,0.01)\n",
      "#getting ymax\n",
      "ymax=fbeta(x).max()\n",
      "ymin=0.\n",
      "answers=[]\n",
      "\n",
      "\n",
      "samples_x=np.random.random_sample(10000);\n",
      "samples_y=(ymax)*np.random.random_sample(10000);\n",
      "\n",
      "mask1=samples_y<fbeta(samples_x)\n",
      "workingsamples=[]\n",
      "for i in range(samples_x.size):\n",
      "    if mask1[i]==1:\n",
      "        workingsamples.append(samples_x[i])\n",
      "\n",
      "plt.hist(workingsamples,100,normed=True)\n",
      "#plt.plot(samples_x*mask1,samples_y*mask1,\"ro\")\n",
      "plt.plot(x,fbeta(x),lw=3)#Scaled to graph \n",
      "plt.plot(x,Fbeta(x),lw=3)\n",
      "\n",
      "plt.xlim(.01,1)\n",
      "plt.ylim(0,ymax+.5)\n",
      "plt.show()"
     ],
     "language": "python",
     "metadata": {},
     "outputs": [
      {
       "metadata": {},
       "output_type": "display_data",
       "png": "[encoded data removed]",
       "text": [
        "<matplotlib.figure.Figure at 0x108d919d0>"
       ]
      }
     ],
     "prompt_number": 7
    },
    {
     "cell_type": "markdown",
     "metadata": {},
     "source": [
      "(b) Run the four statistical tests of randomness (mean, variance, chi-square, K-S) on your results from question 2(a). Does it pass all of them?\n",
      " "
     ]
    },
    {
     "cell_type": "code",
     "collapsed": false,
     "input": [
      "meantest=lambda x,n:sum(x)/n\n",
      "variance=lambda x,n,m:sqrt(sum((x-m)**2)/(n-1))\n",
      "chisquare=lambda o,e: sum((o-e)**2/e)\n",
      "\n",
      "m=meantest(workingsamples,N)\n",
      "print \"Mean=\",m #prints mean\n",
      "print \"Variance=\",variance(workingsamples,N,m)#prints variance\n",
      "\n",
      "#running chisqared tests - generates new funtion each time\n",
      "chisqvalues=[]\n",
      "chitests=100\n",
      "for i in range(0,chitests):\n",
      "    k=100\n",
      "    samples_x=np.random.random_sample(1000);\n",
      "    samples_y=(ymax)*np.random.random_sample(1000);\n",
      "\n",
      "    mask1=samples_y<fbeta(samples_x)\n",
      "    workingsamples=[]\n",
      "    for i in range(samples_x.size):\n",
      "        if mask1[i]==1:\n",
      "            workingsamples.append(samples_x[i])\n",
      "\n",
      "    n,d = np.histogram(workingsamples,bins=k,range=(0.,1.))\n",
      "    testing=fbeta(d+0.005)*1000*((1.-0.)/k) #Creates values based on function along bins,scales based on numbers and size of bin\n",
      "    chisqvalues.append(chisquare(n,testing[:-1]))\n",
      "    \n",
      "chimean= meantest(chisqvalues,chitests)\n",
      "print \"Chi Mean=\",chimean\n",
      "print \"Chi Variance=\",variance(chisqvalues,chitests,chimean)**2"
     ],
     "language": "python",
     "metadata": {},
     "outputs": [
      {
       "output_type": "stream",
       "stream": "stdout",
       "text": [
        "Mean= 0.274272281161\n",
        "Variance= 0.238344798291\n",
        "Chi Mean="
       ]
      },
      {
       "output_type": "stream",
       "stream": "stdout",
       "text": [
        " 321.788808908\n",
        "Chi Variance= 3233.35785373\n"
       ]
      }
     ],
     "prompt_number": 8
    },
    {
     "cell_type": "markdown",
     "metadata": {},
     "source": [
      "(a) Plot the Woods-Saxon distribution \u03c1(r) and r2\u03c1(r) for gold from r = 0 fm to r = 18 fm."
     ]
    },
    {
     "cell_type": "code",
     "collapsed": false,
     "input": [
      "R=6.38\n",
      "a=.535\n",
      "w=0\n",
      "rhonot=1\n",
      "WSdist=lambda r,R,a,w,rhonot: (1+w*r**2 / R**2)/(1+np.exp((r-R)/a))\n",
      "WSdistSQ=lambda r,R,a,w,rhonot: (1+w*r**2 / R**2)*r**2/(1+np.exp((r-R)/a))\n",
      "\n",
      "r=np.arange(0.,18.,.01)\n",
      "plt.plot(r,WSdist(r,R,a,w,rhonot))\n",
      "plt.plot(r,WSdistSQ(r,R,a,w,rhonot))\n",
      "plt.show()"
     ],
     "language": "python",
     "metadata": {},
     "outputs": [
      {
       "metadata": {},
       "output_type": "display_data",
       "png": "[encoded data removed]",
       "text": [
        "<matplotlib.figure.Figure at 0x108d90810>"
       ]
      }
     ],
     "prompt_number": 9
    },
    {
     "cell_type": "markdown",
     "metadata": {},
     "source": [
      "\n",
      "(b) Let\u2019s create a realistic distribution for two gold ions, A, and B.\n",
      "\n",
      "First, distribute 197 nucleons for each nucleus using the Woods-Saxon distribution multiplied by the spherical coordinate weighting factor, r2. \n",
      "\n",
      "Use the distribute1d function from the tour to sample r values numerically.\n",
      "\n",
      "Then, use uniform sampling of a number u from [0,1) scaled by 2\u03c0 to obtain the azimuthal angle \u03d5 = 2\u03c0u\n",
      "\n",
      "Followed by uniform sampling of another number v = [0,1), transformed to \u03b8=cos\u22121(2v\u22121) to obtain the polar angle \u03b8.\n",
      "\n",
      "(Note that this is the physics definition of azimuthal and polar angles, not the math definition.)\n",
      "\n",
      "The reason for these transformations is that the volume element dV=r2sin\u03b8drd\u03b8d\u03d5 has both radial and polar angle dependence. If you do not sample in this way, your results will be bunched up at the poles and toward the outer edges of the sphere."
     ]
    },
    {
     "cell_type": "code",
     "collapsed": false,
     "input": [
      "def distribute1D(x,prob,N):\n",
      "    \"\"\"takes any distribution which is directly proportional \n",
      "    to the number of particles, and returns data that is \n",
      "    statistically the same as the input data.\"\"\"\n",
      "    CDF = cumtrapz(prob)/np.sum(prob)\n",
      "    xsamples=np.zeros(N,float)\n",
      "    for i in range(0,N):\n",
      "        r=np.random.ranf()\n",
      "        xsamples[i]=x[CDF.searchsorted(r)]\n",
      "    return xsamples\n",
      "\n",
      "radians=distribute1D(r,WSdist(r,R,a,w,rhonot),197)\n",
      "\n",
      "\n",
      "\n",
      "u=np.arange(0.,1.,1./197.)\n",
      "phi=2.*pi*u\n",
      "v=np.arange(0.,1.,1./197.)\n",
      "theta=(np.arccos(2.*v-1.))\n",
      "\n",
      "\n"
     ],
     "language": "python",
     "metadata": {},
     "outputs": [],
     "prompt_number": 19
    },
    {
     "cell_type": "markdown",
     "metadata": {},
     "source": [
      "(c) Once you have the spherical coordinates for each of the nucleons in each nucleus, convert to cartesian coordinates. In nuclear collisions, the beam axis along which the particles travel/collide is the z axis. The polar angle \u03b8 is measured up from the positive-z axis and the azimuthal angle \u03d5 is measured up from the positive x-axis.\n",
      "\n",
      "Plot the nuclei in 2d for two different planar projections: the the beam's eye view (x-y) and the side view (x-z) side-by-side.\n",
      "\n",
      "Let the nucleons have radius of 1 fm, make the nucleons from each nucleus a different color, and displace them by a randomly chosen impact parameter b between 0 and 18 fm. For example, shift ion A by b/2 to the left along the x-axis and B by b/2 to the right along the x-axis."
     ]
    },
    {
     "cell_type": "code",
     "collapsed": false,
     "input": [
      "xcoords=[]\n",
      "ycoords=[]\n",
      "zcoords=[]\n",
      "print len(radians)\n",
      "for i in radians:\n",
      "    xcoords.append(radians[i]*sin(theta[i])*cos(phi[i]))\n",
      "    ycoords.append(radians[i]*sin(theta[i])*sin(phi[i]))\n",
      "    zcoords.append(radians[i]*cos(theta[i]))\n",
      "\n",
      "plt.plot(xcoords,ycoords,\"bo\")\n",
      "plt.show()\n",
      "plt.plot(xcoords,zcoords,\"ro\")\n",
      "plt.show()"
     ],
     "language": "python",
     "metadata": {},
     "outputs": [
      {
       "output_type": "stream",
       "stream": "stdout",
       "text": [
        "197\n"
       ]
      },
      {
       "metadata": {},
       "output_type": "display_data",
       "png": "[encoded data removed]",
       "text": [
        "<matplotlib.figure.Figure at 0x108d87e90>"
       ]
      },
      {
       "metadata": {},
       "output_type": "display_data",
       "png": "[encoded data removed]",
       "text": [
        "<matplotlib.figure.Figure at 0x1085c0450>"
       ]
      }
     ],
     "prompt_number": 20
    },
    {
     "cell_type": "markdown",
     "metadata": {},
     "source": [
      "\n",
      "(d) Since we cannot measure the impact parameter directly for each collision, we need a method to estimate the geometric overlap so that we can categorize the collisions based on the number of nucleons participating in each collision and how many nucleon-nucleon collisions occurred. Nucleons that pass close enough to each other will experience an inelastic collision that will rip the quarks right out of the nucleon. The distance that dictates when an inelastic collision occurs is governed by the interaction cross-section, which has been measured very carefully at proton colliders. The inelastic cross-section at collision energy of 200 GeV is \u03c3inel = 42 mb (1 mb = 1 millibarn = 10\u221224 cm2 = 10\u221231 m2), defining an overlap area between two nucleons.\n",
      "\n",
      "Make an interact object for your two plots in part (c) that let's you vary the impact parameter from 0 to 18 fm. On the plots, change the color of the nucleons that \"participate\" in interactions to something else. (Let the participating nucleons in nucleus A be one color and those in nucleus B be another color.)\n",
      "\n",
      "To do this, you\u2019ll need to find all the nucleons from ion A that are within a distance, D, of a nucleon from ion B using D=\u03c3inel/\u03c0\u203e\u203e\u203e\u203e\u203e\u203e\u221a, where \u03c3inel is the cross sectional area measured in millibarns. Don\u2019t forget to convert the millibarns to fm2."
     ]
    },
    {
     "cell_type": "code",
     "collapsed": false,
     "input": [],
     "language": "python",
     "metadata": {},
     "outputs": []
    }
   ],
   "metadata": {}
  }
 ]
}