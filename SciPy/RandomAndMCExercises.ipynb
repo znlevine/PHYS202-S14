{
 "metadata": {
  "name": "",
  "signature": "sha256:67d9d9c114997d5dfd0c1e1ec50b839771a5f521c71a3792d96fdc7ecf50f538"
 },
 "nbformat": 3,
 "nbformat_minor": 0,
 "worksheets": [
  {
   "cells": [
    {
     "cell_type": "markdown",
     "metadata": {},
     "source": [
      "The Weibull distribution, with parameters \u03b1>0 and \u03b2>0 is described by the density function\n",
      "\n",
      "f(x)={\u03b1\u03b2\u2212\u03b1x\u03b1\u22121e\u2212(x/\u03b2)\u03b10x>0otherwise\n",
      "\n",
      "(a) Solve for the CDF of the Weibull distribution analytically, using\n",
      "\n",
      "F(x)=\u222bx\u2212\u221ef(t)dt\n",
      " "
     ]
    },
    {
     "cell_type": "code",
     "collapsed": false,
     "input": [
      "%pylab inline\n",
      "import numpy as np\n",
      "import matplotlib.pyplot as plot\n",
      "from IPython.html.widgets import interact, interactive\n",
      "from scipy.integrate import trapz,cumtrapz"
     ],
     "language": "python",
     "metadata": {},
     "outputs": [
      {
       "output_type": "stream",
       "stream": "stdout",
       "text": [
        "Populating the interactive namespace from numpy and matplotlib\n"
       ]
      },
      {
       "output_type": "stream",
       "stream": "stderr",
       "text": [
        "WARNING: pylab import has clobbered these variables: ['plot', 'f', 'interactive']\n",
        "`%matplotlib` prevents importing * from pylab and numpy\n"
       ]
      }
     ],
     "prompt_number": 3
    },
    {
     "cell_type": "code",
     "collapsed": false,
     "input": [
      "f=lambda x,alpha,beta: alpha*beta**(-alpha)*x**(alpha-1)*exp((x/beta)**alpha)\n",
      "F=lambda x,alpha,beta: 1-exp((x/beta)**alpha)"
     ],
     "language": "python",
     "metadata": {},
     "outputs": [],
     "prompt_number": 5
    },
    {
     "cell_type": "markdown",
     "metadata": {},
     "source": [
      "(b) Find the inverse of the CDF F^\u22121(x) analytically "
     ]
    },
    {
     "cell_type": "code",
     "collapsed": false,
     "input": [
      "Finv=lambda x,alpha,beta: beta*(-log(1-x))(1/alpha)"
     ],
     "language": "python",
     "metadata": {},
     "outputs": [],
     "prompt_number": 14
    },
    {
     "cell_type": "markdown",
     "metadata": {},
     "source": [
      "(c) Write a program to generate 10,000 samples from the Weibull distribution and plot the true distribution, the CDF and the sampled distribution as a histogram, all on the same graph. Let \u03b1 = 1.5, \u03b2 = 6."
     ]
    },
    {
     "cell_type": "code",
     "collapsed": false,
     "input": [
      "N=10000\n",
      "a=1.5\n",
      "b=6\n",
      "x=np.arange(0.,1.,.0001)\n",
      "z=np.random.random_sample(N);\n",
      "\n",
      "xsamples=abs(F(z,a,b));\n",
      "\n",
      "plt.hist(xsamples,100.,normed=True)"
     ],
     "language": "python",
     "metadata": {},
     "outputs": [
      {
       "metadata": {},
       "output_type": "pyout",
       "prompt_number": 35,
       "text": [
        "(array([ 67.04000421,  37.3549176 ,  35.65051072,  29.4010188 ,\n",
        "         31.10542568,  25.99220502,  27.4125441 ,  24.42983204,\n",
        "         24.99796767,  21.30508608,  23.5776286 ,  21.44711999,\n",
        "         19.45864529,  16.90203496,  16.90203496,  19.45864529,\n",
        "         18.32237403,  16.90203496,  15.05559417,  16.47593324,\n",
        "         15.05559417,  14.62949244,  16.33389933,  15.48169589,\n",
        "         14.20339072,  13.777289  ,  14.34542463,  14.48745854,\n",
        "         11.36271258,  16.47593324,  13.63525509,  12.21491602,\n",
        "         13.20915337,  12.92508556,  11.50474649,  12.35694993,\n",
        "         17.04406887,  12.78305165,  11.64678039,  12.49898384,\n",
        "         12.49898384,  12.07288211,  13.06711947,  10.65254304,\n",
        "         11.22067867,  10.93661086,  12.35694993,  12.78305165,\n",
        "         13.35118728,  11.07864476,  10.36847523,  10.22644132,\n",
        "         10.51050914,  13.06711947,  11.7888143 ,  12.21491602,\n",
        "          8.80610225,  12.78305165,  11.7888143 ,  11.7888143 ,\n",
        "         10.79457695,  10.08440741,  12.21491602,  10.51050914,\n",
        "         10.36847523,  11.50474649,  13.06711947,  10.51050914,\n",
        "         10.93661086,  11.50474649,  10.79457695,  10.08440741,\n",
        "         11.50474649,   9.65830569,   9.23220397,   9.8003396 ,\n",
        "          9.51627178,   9.23220397,   9.51627178,   9.09017006,\n",
        "         10.93661086,   9.65830569,   8.94813616,   9.09017006,\n",
        "         10.36847523,   9.09017006,   9.94237351,  10.65254304,\n",
        "         12.64101774,   7.52779708,  10.08440741,  10.51050914,\n",
        "         10.36847523,  10.08440741,   8.52203443,   7.10169536,\n",
        "         10.65254304,   9.51627178,   8.38000053,   7.8118649 ]),\n",
        " array([  3.99801703e-09,   7.04061233e-04,   1.40811847e-03,\n",
        "          2.11217570e-03,   2.81623294e-03,   3.52029017e-03,\n",
        "          4.22434741e-03,   4.92840464e-03,   5.63246188e-03,\n",
        "          6.33651911e-03,   7.04057635e-03,   7.74463358e-03,\n",
        "          8.44869082e-03,   9.15274805e-03,   9.85680529e-03,\n",
        "          1.05608625e-02,   1.12649198e-02,   1.19689770e-02,\n",
        "          1.26730342e-02,   1.33770915e-02,   1.40811487e-02,\n",
        "          1.47852059e-02,   1.54892632e-02,   1.61933204e-02,\n",
        "          1.68973776e-02,   1.76014349e-02,   1.83054921e-02,\n",
        "          1.90095493e-02,   1.97136066e-02,   2.04176638e-02,\n",
        "          2.11217210e-02,   2.18257783e-02,   2.25298355e-02,\n",
        "          2.32338928e-02,   2.39379500e-02,   2.46420072e-02,\n",
        "          2.53460645e-02,   2.60501217e-02,   2.67541789e-02,\n",
        "          2.74582362e-02,   2.81622934e-02,   2.88663506e-02,\n",
        "          2.95704079e-02,   3.02744651e-02,   3.09785223e-02,\n",
        "          3.16825796e-02,   3.23866368e-02,   3.30906940e-02,\n",
        "          3.37947513e-02,   3.44988085e-02,   3.52028657e-02,\n",
        "          3.59069230e-02,   3.66109802e-02,   3.73150375e-02,\n",
        "          3.80190947e-02,   3.87231519e-02,   3.94272092e-02,\n",
        "          4.01312664e-02,   4.08353236e-02,   4.15393809e-02,\n",
        "          4.22434381e-02,   4.29474953e-02,   4.36515526e-02,\n",
        "          4.43556098e-02,   4.50596670e-02,   4.57637243e-02,\n",
        "          4.64677815e-02,   4.71718387e-02,   4.78758960e-02,\n",
        "          4.85799532e-02,   4.92840104e-02,   4.99880677e-02,\n",
        "          5.06921249e-02,   5.13961822e-02,   5.21002394e-02,\n",
        "          5.28042966e-02,   5.35083539e-02,   5.42124111e-02,\n",
        "          5.49164683e-02,   5.56205256e-02,   5.63245828e-02,\n",
        "          5.70286400e-02,   5.77326973e-02,   5.84367545e-02,\n",
        "          5.91408117e-02,   5.98448690e-02,   6.05489262e-02,\n",
        "          6.12529834e-02,   6.19570407e-02,   6.26610979e-02,\n",
        "          6.33651551e-02,   6.40692124e-02,   6.47732696e-02,\n",
        "          6.54773269e-02,   6.61813841e-02,   6.68854413e-02,\n",
        "          6.75894986e-02,   6.82935558e-02,   6.89976130e-02,\n",
        "          6.97016703e-02,   7.04057275e-02]),\n",
        " <a list of 100 Patch objects>)"
       ]
      },
      {
       "metadata": {},
       "output_type": "display_data",
       "png": "[encoded data removed]",
       "text": [
        "<matplotlib.figure.Figure at 0x10877f610>"
       ]
      }
     ],
     "prompt_number": 35
    },
    {
     "cell_type": "markdown",
     "metadata": {},
     "source": [
      "(d) Run the four statistical tests of randomness (mean, variance, chi-square, K-S) on your results from question 1(c). Does it pass all of them?"
     ]
    },
    {
     "cell_type": "code",
     "collapsed": false,
     "input": [
      "meantest=lambda x,n:sum(x)/n\n",
      "variance=lambda x,n,m:sum(x-m)/(n-1)\n",
      "chisquare=lambda o,e: sum((o-e)^2/e)\n",
      "m=meantest(xsamples,N)\n",
      "print m\n",
      "print variance(xsamples,N,m)\n",
      "print chisquare()****"
     ],
     "language": "python",
     "metadata": {},
     "outputs": [
      {
       "ename": "SyntaxError",
       "evalue": "invalid syntax (<ipython-input-38-ba9c124ded98>, line 7)",
       "output_type": "pyerr",
       "traceback": [
        "\u001b[0;36m  File \u001b[0;32m\"<ipython-input-38-ba9c124ded98>\"\u001b[0;36m, line \u001b[0;32m7\u001b[0m\n\u001b[0;31m    print chisquare()****\u001b[0m\n\u001b[0m                        ^\u001b[0m\n\u001b[0;31mSyntaxError\u001b[0m\u001b[0;31m:\u001b[0m invalid syntax\n"
       ]
      }
     ],
     "prompt_number": 38
    },
    {
     "cell_type": "markdown",
     "metadata": {},
     "source": [
      "The Beta(4,3) distribution has density\n",
      "\n",
      "f(x)={60x^3*(1\u2212x)^2 0\u2264x\u22641, 0 otherwise\n",
      "\n",
      "The maximum of this distribution is f(0.6)=2.0736 (exactly).\n",
      "\n",
      "(a) Write a program that uses the Rejection Sampling Method to generate a set of 10,000 samples from this distribution and plot the density distribution, the CDF, and a histogram of the sampled distribution on the same graph.\n",
      "\n",
      "Note: Do not use the built-in Beta function from numpy.random "
     ]
    },
    {
     "cell_type": "code",
     "collapsed": false,
     "input": [
      "f=lambda x:60*x**3*(1-x)**2\n",
      "xmin=0.\n",
      "xmax=1.\n",
      "x=np.arange(0.,1.,0.01)\n",
      "#getting ymax\n",
      "subx = x[logical_and((x > xmin),(x < xmax))] \n",
      "ymax=f(subx).max()*1.05\n",
      "ymin=0.\n",
      "answers=[]\n",
      "i = np.arange(1.,10000.,1)\n",
      "\n",
      "for N in i:\n",
      "    samples_x=xmin+(xmax-xmin)*np.random.random_sample(N);\n",
      "    samples_y=ymin+(ymax-ymin)*np.random.random_sample(N);\n",
      "    \n",
      "    #find values within function\n",
      "    newmask=(samples_y<f(samples_x))\n",
      "\n",
      "    I=(xmax-xmin)*(ymax-ymin)*newmask.sum()/newmask.size\n",
      "    answers.append(I)\n",
      "\n",
      "plt.hist(answers,100)\n",
      "\n",
      "plt.show()"
     ],
     "language": "python",
     "metadata": {},
     "outputs": [
      {
       "metadata": {},
       "output_type": "display_data",
       "png": "[encoded data removed]",
       "text": [
        "<matplotlib.figure.Figure at 0x108760710>"
       ]
      }
     ],
     "prompt_number": 46
    },
    {
     "cell_type": "code",
     "collapsed": false,
     "input": [],
     "language": "python",
     "metadata": {},
     "outputs": []
    }
   ],
   "metadata": {}
  }
 ]
}