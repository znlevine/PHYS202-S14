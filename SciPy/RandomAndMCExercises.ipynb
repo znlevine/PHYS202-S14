{
 "metadata": {
  "name": "",
  "signature": "sha256:27bd8e4a109098ec2d45ee07e2bd872e38cf10cc5c34f51e3075ad2058b0c5d2"
 },
 "nbformat": 3,
 "nbformat_minor": 0,
 "worksheets": [
  {
   "cells": [
    {
     "cell_type": "markdown",
     "metadata": {},
     "source": [
      "The Weibull distribution, with parameters \u03b1>0 and \u03b2>0 is described by the density function\n",
      "\n",
      "f(x)={\u03b1\u03b2\u2212\u03b1x\u03b1\u22121e\u2212(x/\u03b2)\u03b10x>0otherwise\n",
      "\n",
      "(a) Solve for the CDF of the Weibull distribution analytically, using\n",
      "\n",
      "F(x)=\u222bx\u2212\u221ef(t)dt\n",
      " "
     ]
    },
    {
     "cell_type": "code",
     "collapsed": false,
     "input": [
      "%pylab inline\n",
      "import numpy as np\n",
      "import matplotlib.pyplot as plot\n",
      "from IPython.html.widgets import interact, interactive\n",
      "from scipy.integrate import trapz,cumtrapz"
     ],
     "language": "python",
     "metadata": {},
     "outputs": [
      {
       "output_type": "stream",
       "stream": "stdout",
       "text": [
        "Populating the interactive namespace from numpy and matplotlib\n"
       ]
      }
     ],
     "prompt_number": 1
    },
    {
     "cell_type": "code",
     "collapsed": false,
     "input": [
      "f=lambda x,alpha,beta: alpha*beta**(-alpha)*x**(alpha-1)*exp(-(x/beta)**alpha)\n",
      "F=lambda x,alpha,beta: 1-exp(-(x/beta)**alpha)"
     ],
     "language": "python",
     "metadata": {},
     "outputs": [],
     "prompt_number": 2
    },
    {
     "cell_type": "markdown",
     "metadata": {},
     "source": [
      "(b) Find the inverse of the CDF F^\u22121(x) analytically "
     ]
    },
    {
     "cell_type": "code",
     "collapsed": false,
     "input": [
      "Finv=lambda x: b*(-np.log(1-x))**(1/a)"
     ],
     "language": "python",
     "metadata": {},
     "outputs": [],
     "prompt_number": 3
    },
    {
     "cell_type": "markdown",
     "metadata": {},
     "source": [
      "(c) Write a program to generate 10,000 samples from the Weibull distribution and plot the true distribution, the CDF and the sampled distribution as a histogram, all on the same graph. Let \u03b1 = 1.5, \u03b2 = 6."
     ]
    },
    {
     "cell_type": "code",
     "collapsed": false,
     "input": [
      "N=10000\n",
      "a=1.5\n",
      "b=6\n",
      "x=np.arange(0.,15.,.0001)\n",
      "z=np.random.random_sample(N)\n",
      "k=90\n",
      "xsamples=Finv(z)\n",
      "cdfsamples=F(x,a,b)\n",
      "true=f(x,a,b)\n",
      "n,b2 = np.histogram(xsamples,bins=k,range=(1.,10.))\n",
      "plt.hist(xsamples,50.,normed=True,label=\"Samples\")\n",
      "\n",
      "plt.plot(x,cdfsamples,label=\"CDF\")\n",
      "\n",
      "plt.plot(x,true,label=\"True\")\n",
      "plt.xlim(0,15)\n",
      "plt.legend(loc=\"best\")\n",
      "plt.show()"
     ],
     "language": "python",
     "metadata": {},
     "outputs": [
      {
       "metadata": {},
       "output_type": "display_data",
       "png": "[encoded data removed]",
       "text": [
        "<matplotlib.figure.Figure at 0x107dd0590>"
       ]
      }
     ],
     "prompt_number": 4
    },
    {
     "cell_type": "markdown",
     "metadata": {},
     "source": [
      "(d) Run the four statistical tests of randomness (mean, variance, chi-square, K-S) on your results from question 1(c). Does it pass all of them?"
     ]
    },
    {
     "cell_type": "code",
     "collapsed": false,
     "input": [
      "f=lambda x,alpha,beta: alpha*beta**(-alpha)*x**(alpha-1)*exp(-(x/beta)**alpha)\n",
      "\n",
      "\n",
      "meantest=lambda x,n:sum(x)/n\n",
      "variance=lambda x,n,m:sqrt(sum((x-m)**2)/(n-1))\n",
      "chisquare=lambda o,e: sum((o-e)**2/e)\n",
      "\n",
      "testing=f(b2+0.05,a,b)#Creates values based on function along bins\n",
      "\n",
      "m=meantest(xsamples,N)\n",
      "print \"Mean=\",m #prints mean\n",
      "print \"Variance=\",variance(xsamples,N,m)#prints variance\n",
      "\n",
      "#running chisqared tests - generates new funtion each time\n",
      "chisqvalues=[]\n",
      "chitests=100\n",
      "for i in range(0,chitests):\n",
      "    N=10000\n",
      "    a=1.5\n",
      "    b=6\n",
      "    z=np.random.random_sample(N)\n",
      "    k=90\n",
      "    xsamples=Finv(z)\n",
      "    cdfsamples=F(x,a,b)\n",
      "    true=f(x,a,b)\n",
      "    n,b2 = np.histogram(xsamples,bins=k,range=(1.,10.))\n",
      "    testing=f(b2+0.05,a,b)*N*.1#Creates values based on function along bins,scales based on numbers and size of bin\n",
      "    chisqvalues.append(chisquare(n,testing[:-1]))\n",
      "    \n",
      "chimean= meantest(chisqvalues,chitests)\n",
      "print \"Chi Mean=\",chimean\n",
      "print \"Chi Variance=\",variance(chisqvalues,chitests,chimean)**2\n",
      "\n",
      "\n",
      "#kolmogorov-Smirnov Test\n",
      "#Use cdfsamples\n",
      "#Generate emperical distribution:\n",
      "xmin,xmax=0,10#based on function\n",
      "subx = x[logical_and((x > xmin),(x < xmax))] \n",
      "ymax=f(subx,a,b).max()*1.05\n",
      "ymin=0.#also based on function\n",
      "\n",
      "samplesx=xmin+(xmax-xmin)*np.random.random_sample(N)\n",
      "samplesy=ymin+(ymax-ymin)*np.random.random_sample(N)\n",
      "\n",
      "mask=samplesy<f(samplesx,a,b)\n",
      "Totalbelow=mask.sum()/float(N)\n",
      "Kplus=(Totalbelow-F(10,a,b))\n",
      "Kminus=(F(10,a,b)-Totalbelow)\n",
      "print Kplus\n",
      "print Kminus"
     ],
     "language": "python",
     "metadata": {},
     "outputs": [
      {
       "output_type": "stream",
       "stream": "stdout",
       "text": [
        "Mean= 5.40435260829\n",
        "Variance= 3.66930136087\n",
        "Chi Mean="
       ]
      },
      {
       "output_type": "stream",
       "stream": "stdout",
       "text": [
        " 88.7722023569\n",
        "Chi Variance= 191.846650021\n",
        "0.0399794411714\n",
        "-0.0399794411714\n"
       ]
      }
     ],
     "prompt_number": 5
    },
    {
     "cell_type": "markdown",
     "metadata": {},
     "source": [
      "The Beta(4,3) distribution has density\n",
      "\n",
      "f(x)={60x^3*(1\u2212x)^2 0\u2264x\u22641, 0 otherwise\n",
      "\n",
      "The maximum of this distribution is f(0.6)=2.0736 (exactly).\n",
      "\n",
      "(a) Write a program that uses the Rejection Sampling Method to generate a set of 10,000 samples from this distribution and plot the density distribution, the CDF, and a histogram of the sampled distribution on the same graph.\n",
      "\n",
      "Note: Do not use the built-in Beta function from numpy.random "
     ]
    },
    {
     "cell_type": "code",
     "collapsed": false,
     "input": [
      "fbeta=lambda x:60*x**3*(1-x)**2\n",
      "Fbeta=lambda x:x**4*(10*x**2-24*x+15)\n",
      "#Fbeta=lambda x:1-\n",
      "xmin=0.\n",
      "xmax=1.\n",
      "x=np.arange(0.,1.,0.01)\n",
      "#getting ymax\n",
      "ymax=fbeta(x).max()\n",
      "ymin=0.\n",
      "answers=[]\n",
      "\n",
      "\n",
      "samples_x=np.random.random_sample(10000);\n",
      "samples_y=(ymax)*np.random.random_sample(10000);\n",
      "\n",
      "mask1=samples_y<fbeta(samples_x)\n",
      "workingsamples=[]\n",
      "for i in range(samples_x.size):\n",
      "    if mask1[i]==1:\n",
      "        workingsamples.append(samples_x[i])\n",
      "\n",
      "plt.hist(workingsamples,100,normed=True)\n",
      "#plt.plot(samples_x*mask1,samples_y*mask1,\"ro\")\n",
      "plt.plot(x,fbeta(x),lw=3)#Scaled to graph \n",
      "plt.plot(x,Fbeta(x),lw=3)\n",
      "\n",
      "plt.xlim(.01,1)\n",
      "plt.ylim(0,ymax+.5)\n",
      "plt.show()"
     ],
     "language": "python",
     "metadata": {},
     "outputs": [
      {
       "metadata": {},
       "output_type": "display_data",
       "png": "[encoded data removed]",
       "text": [
        "<matplotlib.figure.Figure at 0x107e2f3d0>"
       ]
      }
     ],
     "prompt_number": 6
    },
    {
     "cell_type": "markdown",
     "metadata": {},
     "source": [
      "(b) Run the four statistical tests of randomness (mean, variance, chi-square, K-S) on your results from question 2(a). Does it pass all of them?\n",
      " "
     ]
    },
    {
     "cell_type": "code",
     "collapsed": false,
     "input": [
      "meantest=lambda x,n:sum(x)/n\n",
      "variance=lambda x,n,m:sqrt(sum((x-m)**2)/(n-1))\n",
      "chisquare=lambda o,e: sum((o-e)**2/e)\n",
      "\n",
      "m=meantest(workingsamples,N)\n",
      "print \"Mean=\",m #prints mean\n",
      "print \"Variance=\",variance(workingsamples,N,m)#prints variance\n",
      "\n",
      "#running chisqared tests - generates new funtion each time\n",
      "chisqvalues=[]\n",
      "chitests=100\n",
      "for i in range(0,chitests):\n",
      "    k=100\n",
      "    samples_x=np.random.random_sample(1000);\n",
      "    samples_y=(ymax)*np.random.random_sample(1000);\n",
      "\n",
      "    mask1=samples_y<fbeta(samples_x)\n",
      "    workingsamples=[]\n",
      "    for i in range(samples_x.size):\n",
      "        if mask1[i]==1:\n",
      "            workingsamples.append(samples_x[i])\n",
      "\n",
      "    n,d = np.histogram(workingsamples,bins=k,range=(0.,1.))\n",
      "    testing=fbeta(d+0.005)*1000*((1.-0.)/k) #Creates values based on function along bins,scales based on numbers and size of bin\n",
      "    chisqvalues.append(chisquare(n,testing[:-1]))\n",
      "    \n",
      "chimean= meantest(chisqvalues,chitests)\n",
      "print \"Chi Mean=\",chimean\n",
      "print \"Chi Variance=\",variance(chisqvalues,chitests,chimean)**2"
     ],
     "language": "python",
     "metadata": {},
     "outputs": [
      {
       "output_type": "stream",
       "stream": "stdout",
       "text": [
        "Mean= 0.027407831264\n",
        "Variance= 0.125163221466\n",
        "Chi Mean="
       ]
      },
      {
       "output_type": "stream",
       "stream": "stdout",
       "text": [
        " 314.631279494\n",
        "Chi Variance= 659.694087957\n"
       ]
      }
     ],
     "prompt_number": 29
    },
    {
     "cell_type": "markdown",
     "metadata": {},
     "source": [
      "(a) Plot the Woods-Saxon distribution \u03c1(r) and r2\u03c1(r) for gold from r = 0 fm to r = 18 fm."
     ]
    },
    {
     "cell_type": "code",
     "collapsed": false,
     "input": [
      "R=6.38\n",
      "a=.535\n",
      "w=0\n",
      "rhonot=1\n",
      "WSdist=lambda r,R,a,w,rhonot: (1+w*r**2 / R**2)/(1+np.exp((r-R)/a))\n",
      "WSdistSQ=lambda r,R,a,w,rhonot: (1+w*r**2 / R**2)*r**2/(1+np.exp((r-R)/a))\n",
      "\n",
      "r=np.arange(0.,18.,.01)\n",
      "plt.plot(r,WSdist(r,R,a,w,rhonot))\n",
      "plt.plot(r,WSdistSQ(r,R,a,w,rhonot))\n",
      "plt.show()"
     ],
     "language": "python",
     "metadata": {},
     "outputs": [
      {
       "metadata": {},
       "output_type": "display_data",
       "png": "[encoded data removed]",
       "text": [
        "<matplotlib.figure.Figure at 0x107dd84d0>"
       ]
      }
     ],
     "prompt_number": 44
    },
    {
     "cell_type": "markdown",
     "metadata": {},
     "source": [
      "\n",
      "(b) Let\u2019s create a realistic distribution for two gold ions, A, and B.\n",
      "\n",
      "First, distribute 197 nucleons for each nucleus using the Woods-Saxon distribution multiplied by the spherical coordinate weighting factor, r2. \n",
      "\n",
      "Use the distribute1d function from the tour to sample r values numerically.\n",
      "\n",
      "Then, use uniform sampling of a number u from [0,1) scaled by 2\u03c0 to obtain the azimuthal angle \u03d5 = 2\u03c0u\n",
      "\n",
      "Followed by uniform sampling of another number v = [0,1), transformed to \u03b8=cos\u22121(2v\u22121) to obtain the polar angle \u03b8.\n",
      "\n",
      "(Note that this is the physics definition of azimuthal and polar angles, not the math definition.)\n",
      "\n",
      "The reason for these transformations is that the volume element dV=r2sin\u03b8drd\u03b8d\u03d5 has both radial and polar angle dependence. If you do not sample in this way, your results will be bunched up at the poles and toward the outer edges of the sphere."
     ]
    },
    {
     "cell_type": "code",
     "collapsed": false,
     "input": [
      "def distribute1D(x,prob,N):\n",
      "    \"\"\"takes any distribution which is directly proportional \n",
      "    to the number of particles, and returns data that is \n",
      "    statistically the same as the input data.\"\"\"\n",
      "    CDF = cumtrapz(prob)/np.sum(prob)\n",
      "    xsamples=np.zeros(N,float)\n",
      "    for i in range(0,N):\n",
      "        r=np.random.ranf()\n",
      "        xsamples[i]=x[CDF.searchsorted(r)]\n",
      "    return xsamples\n",
      "\n",
      "print distribute1D(r,WSdist(r,R,a,w,rhonot),197)\n",
      "\n",
      "\n",
      "\n",
      "u=np.arange(0.,1.,1./197.)\n",
      "phi=2*pi*u\n",
      "v=np.arange(0.,1.,1./197.)\n",
      "theta=(np.arccos(2*v-1))\n",
      "print phi\n",
      "print theta\n",
      "\n",
      "\n"
     ],
     "language": "python",
     "metadata": {},
     "outputs": [
      {
       "output_type": "stream",
       "stream": "stdout",
       "text": [
        "[ 5.22  3.81  0.07  4.15  1.1   4.11  1.88  1.39  3.47  3.51  3.21  6.62\n",
        "  0.    0.38  2.78  5.17  5.86  2.33  1.81  6.    4.68  5.52  6.17  4.32\n",
        "  1.1   3.02  1.4   1.36  2.35  1.9   0.45  4.7   0.46  0.39  6.32  0.16\n",
        "  6.2   6.71  1.8   4.29  2.05  3.54  1.47  2.92  3.12  5.43  3.28  3.28\n",
        "  3.24  0.13  4.7   3.43  4.78  1.47  1.58  4.92  6.42  4.83  3.55  4.43\n",
        "  5.37  2.2   1.78  5.28  0.26  5.78  1.58  4.03  1.87  4.32  2.52  2.12\n",
        "  3.98  5.46  2.89  4.72  1.27  3.41  1.46  1.29  5.81  5.02  3.19  0.08\n",
        "  2.69  4.34  6.79  1.38  5.78  0.88  2.68  4.69  1.88  0.69  6.17  4.93\n",
        "  4.56  0.07  0.45  3.86  3.75  1.18  5.3   1.76  1.63  6.08  1.05  5.01\n",
        "  4.38  6.4   0.91  5.63  4.94  4.25  2.51  2.36  0.04  3.42  4.42  3.43\n",
        "  3.57  5.87  1.12  1.16  2.52  0.52  1.5   3.17  3.44  3.25  4.13  7.52\n",
        "  2.6   3.58  5.16  4.43  0.12  5.07  0.2   3.43  3.76  2.32  6.03  3.93\n",
        "  6.06  4.22  3.8   0.02  4.68  4.29  3.46  2.78  0.36  3.01  6.27  4.33\n",
        "  0.27  2.62  1.32  7.23  0.75  5.9   1.09  0.06  5.91  4.53  5.69  5.35\n",
        "  2.32  1.45  2.55  1.29  4.04  4.38  3.57  0.8   5.11  4.97  7.03  4.02\n",
        "  4.4   2.97  4.    2.16  4.7   6.58  0.71  3.28  1.05  5.34  3.05  3.26\n",
        "  5.61  1.69  3.27  7.73  1.25]\n",
        "[ 0.          0.03189434  0.06378868  0.09568302  0.12757737  0.15947171\n",
        "  0.19136605  0.22326039  0.25515473  0.28704907  0.31894342  0.35083776\n",
        "  0.3827321   0.41462644  0.44652078  0.47841512  0.51030947  0.54220381\n",
        "  0.57409815  0.60599249  0.63788683  0.66978117  0.70167552  0.73356986\n",
        "  0.7654642   0.79735854  0.82925288  0.86114722  0.89304157  0.92493591\n",
        "  0.95683025  0.98872459  1.02061893  1.05251327  1.08440762  1.11630196\n",
        "  1.1481963   1.18009064  1.21198498  1.24387932  1.27577367  1.30766801\n",
        "  1.33956235  1.37145669  1.40335103  1.43524537  1.46713972  1.49903406\n",
        "  1.5309284   1.56282274  1.59471708  1.62661142  1.65850577  1.69040011\n",
        "  1.72229445  1.75418879  1.78608313  1.81797747  1.84987182  1.88176616\n",
        "  1.9136605   1.94555484  1.97744918  2.00934352  2.04123787  2.07313221\n",
        "  2.10502655  2.13692089  2.16881523  2.20070957  2.23260392  2.26449826\n",
        "  2.2963926   2.32828694  2.36018128  2.39207562  2.42396997  2.45586431\n",
        "  2.48775865  2.51965299  2.55154733  2.58344167  2.61533602  2.64723036\n",
        "  2.6791247   2.71101904  2.74291338  2.77480772  2.80670207  2.83859641\n",
        "  2.87049075  2.90238509  2.93427943  2.96617377  2.99806812  3.02996246\n",
        "  3.0618568   3.09375114  3.12564548  3.15753982  3.18943417  3.22132851\n",
        "  3.25322285  3.28511719  3.31701153  3.34890587  3.38080022  3.41269456\n",
        "  3.4445889   3.47648324  3.50837758  3.54027192  3.57216627  3.60406061\n",
        "  3.63595495  3.66784929  3.69974363  3.73163797  3.76353232  3.79542666\n",
        "  3.827321    3.85921534  3.89110968  3.92300402  3.95489837  3.98679271\n",
        "  4.01868705  4.05058139  4.08247573  4.11437007  4.14626442  4.17815876\n",
        "  4.2100531   4.24194744  4.27384178  4.30573612  4.33763047  4.36952481\n",
        "  4.40141915  4.43331349  4.46520783  4.49710217  4.52899652  4.56089086\n",
        "  4.5927852   4.62467954  4.65657388  4.68846822  4.72036257  4.75225691\n",
        "  4.78415125  4.81604559  4.84793993  4.87983427  4.91172862  4.94362296\n",
        "  4.9755173   5.00741164  5.03930598  5.07120032  5.10309467  5.13498901\n",
        "  5.16688335  5.19877769  5.23067203  5.26256637  5.29446072  5.32635506\n",
        "  5.3582494   5.39014374  5.42203808  5.45393242  5.48582677  5.51772111\n",
        "  5.54961545  5.58150979  5.61340413  5.64529847  5.67719282  5.70908716\n",
        "  5.7409815   5.77287584  5.80477018  5.83666452  5.86855887  5.90045321\n",
        "  5.93234755  5.96424189  5.99613623  6.02803057  6.05992492  6.09181926\n",
        "  6.1237136   6.15560794  6.18750228  6.21939662  6.25129097  6.28318531]\n",
        "[  3.14159265e+00   2.99897772e+00   2.93973302e+00   2.89415489e+00\n",
        "   2.85563111e+00   2.82160270e+00   2.79075832e+00   2.76231955e+00\n",
        "   2.73577958e+00   2.71078662e+00   2.68708470e+00   2.66448073e+00\n",
        "   2.64282474e+00   2.62199757e+00   2.60190265e+00   2.58246042e+00\n",
        "   2.56360442e+00   2.54527846e+00   2.52743453e+00   2.51003120e+00\n",
        "   2.49303244e+00   2.47640671e+00   2.46012613e+00   2.44416602e+00\n",
        "   2.42850431e+00   2.41312123e+00   2.39799896e+00   2.38312136e+00\n",
        "   2.36847380e+00   2.35404292e+00   2.33981649e+00   2.32578331e+00\n",
        "   2.31193304e+00   2.29825616e+00   2.28474385e+00   2.27138792e+00\n",
        "   2.25818077e+00   2.24511529e+00   2.23218487e+00   2.21938330e+00\n",
        "   2.20670477e+00   2.19414381e+00   2.18169529e+00   2.16935436e+00\n",
        "   2.15711644e+00   2.14497721e+00   2.13293257e+00   2.12097863e+00\n",
        "   2.10911171e+00   2.09732830e+00   2.08562506e+00   2.07399879e+00\n",
        "   2.06244647e+00   2.05096517e+00   2.03955213e+00   2.02820468e+00\n",
        "   2.01692026e+00   2.00569642e+00   1.99453081e+00   1.98342115e+00\n",
        "   1.97236526e+00   1.96136104e+00   1.95040645e+00   1.93949953e+00\n",
        "   1.92863839e+00   1.91782118e+00   1.90704613e+00   1.89631151e+00\n",
        "   1.88561564e+00   1.87495690e+00   1.86433371e+00   1.85374452e+00\n",
        "   1.84318783e+00   1.83266218e+00   1.82216615e+00   1.81169833e+00\n",
        "   1.80125736e+00   1.79084191e+00   1.78045067e+00   1.77008236e+00\n",
        "   1.75973571e+00   1.74940949e+00   1.73910249e+00   1.72881351e+00\n",
        "   1.71854137e+00   1.70828492e+00   1.69804299e+00   1.68781447e+00\n",
        "   1.67759824e+00   1.66739318e+00   1.65719821e+00   1.64701223e+00\n",
        "   1.63683416e+00   1.62666295e+00   1.61649751e+00   1.60633680e+00\n",
        "   1.59617976e+00   1.58602534e+00   1.57587249e+00   1.56572016e+00\n",
        "   1.55556731e+00   1.54541289e+00   1.53525585e+00   1.52509514e+00\n",
        "   1.51492971e+00   1.50475849e+00   1.49458043e+00   1.48439445e+00\n",
        "   1.47419947e+00   1.46399442e+00   1.45377818e+00   1.44354966e+00\n",
        "   1.43330774e+00   1.42305128e+00   1.41277914e+00   1.40249016e+00\n",
        "   1.39218316e+00   1.38185694e+00   1.37151030e+00   1.36114198e+00\n",
        "   1.35075074e+00   1.34033529e+00   1.32989432e+00   1.31942650e+00\n",
        "   1.30893047e+00   1.29840482e+00   1.28784814e+00   1.27725895e+00\n",
        "   1.26663575e+00   1.25597701e+00   1.24528115e+00   1.23454652e+00\n",
        "   1.22377147e+00   1.21295427e+00   1.20209312e+00   1.19118620e+00\n",
        "   1.18023162e+00   1.16922740e+00   1.15817151e+00   1.14706185e+00\n",
        "   1.13589623e+00   1.12467239e+00   1.11338798e+00   1.10204052e+00\n",
        "   1.09062748e+00   1.07914619e+00   1.06759386e+00   1.05596760e+00\n",
        "   1.04426435e+00   1.03248094e+00   1.02061402e+00   1.00866009e+00\n",
        "   9.96615448e-01   9.84476217e-01   9.72238298e-01   9.59897365e-01\n",
        "   9.47448843e-01   9.34887886e-01   9.22209354e-01   9.09407785e-01\n",
        "   8.96477363e-01   8.83411887e-01   8.70204732e-01   8.56848804e-01\n",
        "   8.43336492e-01   8.29659613e-01   8.15809345e-01   8.01776160e-01\n",
        "   7.87549733e-01   7.73118849e-01   7.58471289e-01   7.43593697e-01\n",
        "   7.28471422e-01   7.13088341e-01   6.97426632e-01   6.81466519e-01\n",
        "   6.65185948e-01   6.48560210e-01   6.31561458e-01   6.14158127e-01\n",
        "   5.96314192e-01   5.77988235e-01   5.59132236e-01   5.39690004e-01\n",
        "   5.19595081e-01   4.98767915e-01   4.77111928e-01   4.54507949e-01\n",
        "   4.30806036e-01   4.05813077e-01   3.79273106e-01   3.50834335e-01\n",
        "   3.19989952e-01   2.85961547e-01   2.47437767e-01   2.01859632e-01\n",
        "   1.42614930e-01   2.10734243e-08]\n"
       ]
      }
     ],
     "prompt_number": 67
    },
    {
     "cell_type": "markdown",
     "metadata": {},
     "source": [
      "(c) Once you have the spherical coordinates for each of the nucleons in each nucleus, convert to cartesian coordinates. In nuclear collisions, the beam axis along which the particles travel/collide is the z axis. The polar angle \u03b8 is measured up from the positive-z axis and the azimuthal angle \u03d5 is measured up from the positive x-axis.\n",
      "\n",
      "Plot the nuclei in 2d for two different planar projections: the the beam's eye view (x-y) and the side view (x-z) side-by-side.\n",
      "\n",
      "Let the nucleons have radius of 1 fm, make the nucleons from each nucleus a different color, and displace them by a randomly chosen impact parameter b between 0 and 18 fm. For example, shift ion A by b/2 to the left along the x-axis and B by b/2 to the right along the x-axis."
     ]
    },
    {
     "cell_type": "code",
     "collapsed": false,
     "input": [],
     "language": "python",
     "metadata": {},
     "outputs": []
    }
   ],
   "metadata": {}
  }
 ]
}