{
 "metadata": {
  "name": "",
  "signature": "sha256:4345035bc2f8d2bc2ec585b12e8f7a5289e61bfdb4aaa1dd13f0c513b0376723"
 },
 "nbformat": 3,
 "nbformat_minor": 0,
 "worksheets": [
  {
   "cells": [
    {
     "cell_type": "heading",
     "level": 1,
     "metadata": {},
     "source": [
      "Linear Regression, Optimization, and Curve Fitting Exercises"
     ]
    },
    {
     "cell_type": "markdown",
     "metadata": {},
     "source": [
      "\n",
      "(a) Write a function that can compute the weighted linear least squares (WLSQ) best fit line to a set of data. Here is the function template to use:\n",
      "\n",
      "    def WeightedLLSqFit(x,y,w):\n",
      "    \n",
      "    \"\"\"Take in arrays representing (x,y) values for a set of linearly varying data and an array of weights w.\n",
      "    Perform a weighted linear least squares regression.  Return the resulting slope and intercept\n",
      "    parameters of the best fit line with their uncertainties.\n",
      "\n",
      "    If the weights are all equal to one, the uncertainties on the parameters are calculated using the \n",
      "    non-weighted least squares equations.\"\"\"\n",
      "\n",
      "    #your code goes here...\n",
      "\n",
      "    return slope,slerr,intercept,interr\n",
      "\n",
      "Your function should test whether there are unequal weights on the data points and return the correctly calculated uncertainties for whichever case is requested.\n",
      "Use the features of numpy arrays rather than loops to take advantage of their superior computational speed."
     ]
    },
    {
     "cell_type": "code",
     "collapsed": false,
     "input": [
      "import numpy as np\n",
      "def WeightedLLSqFit(x,y,w):\n",
      "\n",
      "    \"\"\"Take in arrays representing (x,y) values for a set of linearly varying \n",
      "    data and an array of weights w. Perform a weighted linear least squares \n",
      "    regression.  Return the resulting slope and intercept parameters of the \n",
      "    best fit line with their uncertainties.\n",
      "\n",
      "    If the weights are all equal to one, the uncertainties on the parameters \n",
      "    are calculated using the non-weighted least squares equations.\"\"\"\n",
      "    \n",
      "    weighted=False\n",
      "    for i in w:\n",
      "        if i!=1:\n",
      "            weighted=True\n",
      "    \n",
      "    print weighted\n",
      "    \n",
      "    if weighted==True:\n",
      "        slope=(w.sum()*(w*x*y).sum()-(w*x).sum()*(w*y).sum())/(w.sum()*(w*x*x).sum()-((w*x).sum())**2)\n",
      "        intercept=((w*x**2).sum()*(w*y).sum()-(w*x).sum()*(w*x*y).sum())/(w.sum()*(w*x**2).sum()-(w*x).sum()*(w*x).sum())   \n",
      "        slerr=np.sqrt(w.sum()/(w.sum()*(w*x*x).sum()-((w*x).sum())**2))\n",
      "        interr=np.sqrt((w*x*x).sum()/(w.sum()*(w*x*x).sum()-((w*x).sum())**2))\n",
      "    else:\n",
      "        xave = x.mean()\n",
      "        yave = y.mean()\n",
      "        x2ave = (x*x).mean()\n",
      "        xyave = (x*y).mean()\n",
      "        denom = (x2ave - xave**2)\n",
      "        slope = (xyave - xave*yave)/denom\n",
      "        intercept = (x2ave*yave - xave*xyave)/denom\n",
      "        delta = y - (slope*x + intercept)\n",
      "        d2ave = (delta*delta).mean()\n",
      "        n = len(y)\n",
      "        slerr = sqrt((n-2)**(-1)*d2ave/denom)\n",
      "        interr = sqrt((n-2)**(-1)*d2ave*x2ave/denom)\n",
      "        \n",
      "\n",
      "    return slope,slerr,intercept,interr"
     ],
     "language": "python",
     "metadata": {},
     "outputs": [],
     "prompt_number": 53
    },
    {
     "cell_type": "markdown",
     "metadata": {},
     "source": [
      "(b) For the data below, use the uncertainties on the position values as weights to perform a WLSQ best fit. Print the results of the fit, both the fitted parameter values and their uncertainties.\n",
      "   \n",
      "   time = np.array([1.,2.,3.,4.,5.,6.,7.,8.,9.,10.])\n",
      "   \n",
      "   pos = np.array([7.75, 7.33, 6.89, 6.45, 5.96, 5.55, 5.10, 4.49, 3.93, 3.58])\n",
      "   \n",
      "   sigp = np.array([0.02, 0.03, 0.03, 0.04, 0.05, 0.06, 0.08, 0.11, 0.14, 0.17])\n",
      "\n",
      "If you did it right you should get m = -0.4510 \u00b1 0.0066 and b = 8.2201 \u00b1 0.0214."
     ]
    },
    {
     "cell_type": "code",
     "collapsed": false,
     "input": [
      "time = np.array([1.,2.,3.,4.,5.,6.,7.,8.,9.,10.])\n",
      "pos = np.array([7.75, 7.33, 6.89, 6.45, 5.96, 5.55, 5.10, 4.49, 3.93, 3.58])\n",
      "sigp = np.array([0.02, 0.03, 0.03, 0.04, 0.05, 0.06, 0.08, 0.11, 0.14, 0.17])\n",
      "WeightedLLSqFit(time,pos,1/(sigp**2))"
     ],
     "language": "python",
     "metadata": {},
     "outputs": [
      {
       "output_type": "stream",
       "stream": "stdout",
       "text": [
        "True\n"
       ]
      },
      {
       "metadata": {},
       "output_type": "pyout",
       "prompt_number": 54,
       "text": [
        "(-0.45102398348675593,\n",
        " 0.0065758708587924392,\n",
        " 8.220071817895505,\n",
        " 0.021437765208320705)"
       ]
      }
     ],
     "prompt_number": 54
    },
    {
     "cell_type": "code",
     "collapsed": false,
     "input": [],
     "language": "python",
     "metadata": {},
     "outputs": []
    }
   ],
   "metadata": {}
  }
 ]
}