{
 "metadata": {
  "name": "",
  "signature": "sha256:cc79ad76d5108a902490970bef6bce1b1e8f96505204d959ae7f3133b0b5bb1a"
 },
 "nbformat": 3,
 "nbformat_minor": 0,
 "worksheets": [
  {
   "cells": [
    {
     "cell_type": "heading",
     "level": 1,
     "metadata": {},
     "source": [
      "Linear Regression, Optimization, and Curve Fitting Exercises"
     ]
    },
    {
     "cell_type": "markdown",
     "metadata": {},
     "source": [
      "\n",
      "(a) Write a function that can compute the weighted linear least squares (WLSQ) best fit line to a set of data. Here is the function template to use:\n",
      "\n",
      "    def WeightedLLSqFit(x,y,w):\n",
      "    \n",
      "    \"\"\"Take in arrays representing (x,y) values for a set of linearly varying data and an array of weights w.\n",
      "    Perform a weighted linear least squares regression.  Return the resulting slope and intercept\n",
      "    parameters of the best fit line with their uncertainties.\n",
      "\n",
      "    If the weights are all equal to one, the uncertainties on the parameters are calculated using the \n",
      "    non-weighted least squares equations.\"\"\"\n",
      "\n",
      "    #your code goes here...\n",
      "\n",
      "    return slope,slerr,intercept,interr\n",
      "\n",
      "Your function should test whether there are unequal weights on the data points and return the correctly calculated uncertainties for whichever case is requested.\n",
      "Use the features of numpy arrays rather than loops to take advantage of their superior computational speed."
     ]
    },
    {
     "cell_type": "code",
     "collapsed": false,
     "input": [
      "%pylab inline\n",
      "import numpy as np\n",
      "import matplotlib.pyplot as plt\n",
      "def WeightedLLSqFit(x,y,w,weightedtoggle):\n",
      "\n",
      "    \"\"\"Take in arrays representing (x,y) values for a set of linearly varying \n",
      "    data and an array of weights w. Perform a weighted linear least squares \n",
      "    regression.  Return the resulting slope and intercept parameters of the \n",
      "    best fit line with their uncertainties.\n",
      "\n",
      "    If the weights are all equal to one, the uncertainties on the parameters \n",
      "    are calculated using the non-weighted least squares equations.\"\"\"\n",
      "    \n",
      "    weighted=False\n",
      "    for i in w:\n",
      "        if i!=1:\n",
      "            weighted=True\n",
      "    \n",
      "    if weightedtoggle==False:\n",
      "        weighted=False\n",
      "        \n",
      "        \n",
      "    if weighted==True:\n",
      "        slope=(w.sum()*(w*x*y).sum()-(w*x).sum()*(w*y).sum())/(w.sum()*(w*x*x).sum()-((w*x).sum())**2)\n",
      "        intercept=((w*x**2).sum()*(w*y).sum()-(w*x).sum()*(w*x*y).sum())/(w.sum()*(w*x**2).sum()-(w*x).sum()*(w*x).sum())   \n",
      "        slerr=np.sqrt(w.sum()/(w.sum()*(w*x*x).sum()-((w*x).sum())**2))\n",
      "        interr=np.sqrt((w*x*x).sum()/(w.sum()*(w*x*x).sum()-((w*x).sum())**2))\n",
      "    else:\n",
      "        xave = x.mean()\n",
      "        yave = y.mean()\n",
      "        x2ave = (x*x).mean()\n",
      "        xyave = (x*y).mean()\n",
      "        denom = (x2ave - xave**2)\n",
      "        slope = (xyave - xave*yave)/denom\n",
      "        intercept = (x2ave*yave - xave*xyave)/denom\n",
      "        delta = y - (slope*x + intercept)\n",
      "        d2ave = (delta*delta).mean()\n",
      "        n = len(y)\n",
      "        slerr = sqrt((n-2)**(-1)*d2ave/denom)\n",
      "        interr = sqrt((n-2)**(-1)*d2ave*x2ave/denom)\n",
      "        \n",
      "\n",
      "    return slope,slerr,intercept,interr"
     ],
     "language": "python",
     "metadata": {},
     "outputs": [
      {
       "output_type": "stream",
       "stream": "stdout",
       "text": [
        "Populating the interactive namespace from numpy and matplotlib\n"
       ]
      },
      {
       "output_type": "stream",
       "stream": "stderr",
       "text": [
        "WARNING: pylab import has clobbered these variables: ['f']\n",
        "`%matplotlib` prevents importing * from pylab and numpy\n"
       ]
      }
     ],
     "prompt_number": 9
    },
    {
     "cell_type": "markdown",
     "metadata": {},
     "source": [
      "(b) For the data below, use the uncertainties on the position values as weights to perform a WLSQ best fit. Print the results of the fit, both the fitted parameter values and their uncertainties.\n",
      "   \n",
      "   time = np.array([1.,2.,3.,4.,5.,6.,7.,8.,9.,10.])\n",
      "   \n",
      "   pos = np.array([7.75, 7.33, 6.89, 6.45, 5.96, 5.55, 5.10, 4.49, 3.93, 3.58])\n",
      "   \n",
      "   sigp = np.array([0.02, 0.03, 0.03, 0.04, 0.05, 0.06, 0.08, 0.11, 0.14, 0.17])\n",
      "\n",
      "If you did it right you should get m = -0.4510 \u00b1 0.0066 and b = 8.2201 \u00b1 0.0214."
     ]
    },
    {
     "cell_type": "code",
     "collapsed": false,
     "input": [
      "time = np.array([1.,2.,3.,4.,5.,6.,7.,8.,9.,10.])\n",
      "pos = np.array([7.75, 7.33, 6.89, 6.45, 5.96, 5.55, 5.10, 4.49, 3.93, 3.58])\n",
      "sigp = np.array([0.02, 0.03, 0.03, 0.04, 0.05, 0.06, 0.08, 0.11, 0.14, 0.17])\n",
      "slope,slerr,intercept,interr=WeightedLLSqFit(time,pos,1/(sigp**2),True)\n",
      "print \"Slope is\",slope,\"with error\",slerr\n",
      "print \"Intercept is\",intercept,\"with error\",interr"
     ],
     "language": "python",
     "metadata": {},
     "outputs": [
      {
       "output_type": "stream",
       "stream": "stdout",
       "text": [
        "Slope is -0.451023983487 with error 0.00657587085879\n",
        "Intercept is 8.2200718179 with error 0.0214377652083\n"
       ]
      }
     ],
     "prompt_number": 10
    },
    {
     "cell_type": "markdown",
     "metadata": {},
     "source": [
      "(c) Now make an errorbar plot that shows the (time,position) data with markers and error bars \u03c3p. Also plot lines representing the results from the LSQ and WSLQ fits to these data. Include a legend that shows the fitted line equations with the fit parameters as you did in the tour, with labels indicating which one is the weighted result and which the unweighted result."
     ]
    },
    {
     "cell_type": "code",
     "collapsed": false,
     "input": [
      "plt.errorbar(time,pos,sigp)\n",
      "f=lambda m,x,b: m*x+b\n",
      "slope,slerr,intercept,interr=WeightedLLSqFit(time,pos,1/(sigp**2),True)\n",
      "plt.plot(time,f(slope,time,intercept),label=\"Weighted\")\n",
      "slope,slerr,intercept,interr=WeightedLLSqFit(time,pos,1/(sigp**2),False)\n",
      "plt.plot(time,f(slope,time,intercept),label=\"Unweighted\")\n",
      "plt.legend()\n",
      "plt.show()"
     ],
     "language": "python",
     "metadata": {},
     "outputs": [
      {
       "metadata": {},
       "output_type": "display_data",
       "png": "[encoded data removed]",
       "text": [
        "<matplotlib.figure.Figure at 0x108638890>"
       ]
      }
     ],
     "prompt_number": 14
    },
    {
     "cell_type": "markdown",
     "metadata": {},
     "source": [
      "(a) Download the linked file waveform_2.npy by right-clicking on the link and selecting \"Save Link As\". Read in the data and plot it.\n"
     ]
    },
    {
     "cell_type": "code",
     "collapsed": false,
     "input": [
      "waveform = np.load('waveform_2.npy')\n",
      "t = np.arange(len(waveform))\n",
      "plt.plot(t, waveform)\n",
      "plt.xlabel(\"Time (ns)\",fontsize=20)\n",
      "plt.ylabel(\"Intensity (bins)\",fontsize=20)\n",
      "\n",
      "plt.show()\n",
      " "
     ],
     "language": "python",
     "metadata": {},
     "outputs": [
      {
       "metadata": {},
       "output_type": "display_data",
       "png": "[encoded data removed]",
       "text": [
        "<matplotlib.figure.Figure at 0x10862d610>"
       ]
      }
     ],
     "prompt_number": 17
    },
    {
     "cell_type": "markdown",
     "metadata": {},
     "source": [
      "(b) This data is more complicated than that in waveform_1.npy from the tour, but not considerably so. It looks like it could be modeled as the sum of a noise floor and three Gaussian peaks with different amplitude, mean, and sigma. Write a function to model this data."
     ]
    },
    {
     "cell_type": "code",
     "collapsed": false,
     "input": [
      "from scipy.optimize import curve_fit\n",
      "\n",
      "def model(t, B, A, mu, sigma):\n",
      "    return B + A * exp( - ((t-mu)/sigma)**2 )\n",
      "\n"
     ],
     "language": "python",
     "metadata": {},
     "outputs": [],
     "prompt_number": 23
    },
    {
     "cell_type": "markdown",
     "metadata": {},
     "source": [
      "(c) By inspecting the graph, come up with a set of initial guesses for the parameters of the fit and fit the data using curve_fit. Print the resulting parameters and their uncertainties.\n",
      " "
     ]
    },
    {
     "cell_type": "code",
     "collapsed": false,
     "input": [
      "\n",
      "\n",
      "x0=array([2.,20.,12.,1.])\n",
      "\n",
      "popt,pcov=curve_fit(model,t,waveform,x0)\n",
      "\n",
      "print popt,pcov\n"
     ],
     "language": "python",
     "metadata": {},
     "outputs": [
      {
       "output_type": "stream",
       "stream": "stdout",
       "text": [
        "[ 5.17521262 -4.21671441  5.16897713  4.94087376] [[  0.36669015  -0.29348507   0.03188351   0.508264  ]\n",
        " [ -0.29348507   6.32399233  -0.42318914   5.09849227]\n",
        " [  0.03188351  -0.42318914   5.87290762  -1.30554488]\n",
        " [  0.508264     5.09849227  -1.30554488  14.58976101]]\n"
       ]
      }
     ],
     "prompt_number": 26
    },
    {
     "cell_type": "markdown",
     "metadata": {},
     "source": [
      "(d) Plot the data and the fit to see how well the model matches the data.\n"
     ]
    },
    {
     "cell_type": "code",
     "collapsed": false,
     "input": [
      "plt.plot(t,waveform,label=\"data\")\n",
      "plt.plot(t,model(t,popt[0],popt[1],popt[2],popt[3]),\"r-\",label=\"fit\",linewidth=2)\n",
      "plt.legend(loc=\"best\")\n",
      "plt.xlabel(\"Time(ns)\",fontsize=20)\n",
      "plt.ylabel(\"Intensity(bins)\",fontsize=20)\n",
      "plt.show()"
     ],
     "language": "python",
     "metadata": {},
     "outputs": []
    }
   ],
   "metadata": {}
  }
 ]
}