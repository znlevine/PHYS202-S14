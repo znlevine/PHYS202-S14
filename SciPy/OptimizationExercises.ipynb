{
 "metadata": {
  "name": "",
  "signature": "sha256:bfe35e49f078cf7bcb297969540436bc83f02c32b034e6466c1599e61da66a24"
 },
 "nbformat": 3,
 "nbformat_minor": 0,
 "worksheets": [
  {
   "cells": [
    {
     "cell_type": "heading",
     "level": 1,
     "metadata": {},
     "source": [
      "Linear Regression, Optimization, and Curve Fitting Exercises"
     ]
    },
    {
     "cell_type": "markdown",
     "metadata": {},
     "source": [
      "\n",
      "(a) Write a function that can compute the weighted linear least squares (WLSQ) best fit line to a set of data. Here is the function template to use:\n",
      "\n",
      "    def WeightedLLSqFit(x,y,w):\n",
      "    \n",
      "    \"\"\"Take in arrays representing (x,y) values for a set of linearly varying data and an array of weights w.\n",
      "    Perform a weighted linear least squares regression.  Return the resulting slope and intercept\n",
      "    parameters of the best fit line with their uncertainties.\n",
      "\n",
      "    If the weights are all equal to one, the uncertainties on the parameters are calculated using the \n",
      "    non-weighted least squares equations.\"\"\"\n",
      "\n",
      "    #your code goes here...\n",
      "\n",
      "    return slope,slerr,intercept,interr\n",
      "\n",
      "Your function should test whether there are unequal weights on the data points and return the correctly calculated uncertainties for whichever case is requested.\n",
      "Use the features of numpy arrays rather than loops to take advantage of their superior computational speed."
     ]
    },
    {
     "cell_type": "code",
     "collapsed": false,
     "input": [
      "def WeightedLLSqFit(x,y,w):\n",
      "\n",
      "    \"\"\"Take in arrays representing (x,y) values for a set of linearly varying \n",
      "    data and an array of weights w. Perform a weighted linear least squares \n",
      "    regression.  Return the resulting slope and intercept parameters of the \n",
      "    best fit line with their uncertainties.\n",
      "\n",
      "    If the weights are all equal to one, the uncertainties on the parameters \n",
      "    are calculated using the non-weighted least squares equations.\"\"\"\n",
      "    \n",
      "    xave=x.mean() #average of xes\n",
      "    yave=y.mean() #average of ys\n",
      "    x2ave=(x**2).mean() #average of x^2\n",
      "    xyave=(x*y).mean() #average of x*y\n",
      "    denom=(x2ave-xave**2) #denomonator of equation\n",
      "    m=(xyave-xave*yave)/denom #slope\n",
      "    b=(x2ave*yave-xave*xyave)/denom #Intercept\n",
      "    \n",
      "\n",
      "\n",
      "return slope,slerr,intercept,interr"
     ],
     "language": "python",
     "metadata": {},
     "outputs": []
    }
   ],
   "metadata": {}
  }
 ]
}