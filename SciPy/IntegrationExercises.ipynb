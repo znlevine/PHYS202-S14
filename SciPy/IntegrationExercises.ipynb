{
 "metadata": {
  "name": "",
  "signature": "sha256:1734259b1e5895710d18a10ad85081c3b8a810b02f5801af59e6cfeaa9d64ad9"
 },
 "nbformat": 3,
 "nbformat_minor": 0,
 "worksheets": [
  {
   "cells": [
    {
     "cell_type": "heading",
     "level": 1,
     "metadata": {},
     "source": [
      "Integration Exercises"
     ]
    },
    {
     "cell_type": "code",
     "collapsed": false,
     "input": [
      "%pylab inline\n",
      "import numpy as np\n",
      "import matplotlib.pyplot as plt"
     ],
     "language": "python",
     "metadata": {},
     "outputs": [
      {
       "output_type": "stream",
       "stream": "stdout",
       "text": [
        "Populating the interactive namespace from numpy and matplotlib\n"
       ]
      }
     ],
     "prompt_number": 17
    },
    {
     "cell_type": "markdown",
     "metadata": {},
     "source": [
      "(a) Write two functions trapz(func,x) and simps(func,x) to compute the integral of the function func over the variable x using the trapezoidal rule and Simpson's rule to a file called Integrators.py. Do not use the scipy.integrate built-in functions. Include docstrings with each function that describe what they do. Then import the module and use the functions to answer the following questions."
     ]
    },
    {
     "cell_type": "code",
     "collapsed": false,
     "input": [
      "%%file Integrators.py\n",
      "\n",
      "import numpy as np\n",
      "import matplotlib.pyplot as plt\n",
      "\n",
      "def trapz(func,x,N):\n",
      "    \"\"\"Integrates using trapezoidal function\"\"\"\n",
      "    \n",
      "    a=0.0\n",
      "    b=x\n",
      "    h=(b-a)/N\n",
      "    \n",
      "    k=np.arange(1,N)\n",
      "    I=h*(0.5*func(a)+0.5*func(b)+func(a+k*h).sum())\n",
      "    \n",
      "    return I\n",
      "\n",
      "def simps(func,x,N):\n",
      "    \"\"\"Integrates using Simpson's rule\"\"\"\n",
      "    \n",
      "    a=0.0\n",
      "    b=x\n",
      "    h=(b-a)/N\n",
      "    k1=np.arange(1,N/2+1)\n",
      "    k2=np.arange(1,N/2)\n",
      "    I=(1./3.)*h*(func(a)+func(b)+4.*func(a+(2*k1-1)*h).sum()+2.*func(a+2*k2*h).sum())\n",
      "    return I"
     ],
     "language": "python",
     "metadata": {},
     "outputs": [
      {
       "output_type": "stream",
       "stream": "stdout",
       "text": [
        "Overwriting Integrators.py\n"
       ]
      }
     ],
     "prompt_number": 18
    },
    {
     "cell_type": "markdown",
     "metadata": {},
     "source": [
      "(b) Use your trapz and simps functions from part (a) to calculate the integral of x4\u22122x+1 from x = 0 to x = 2 with N = 10, N = 100, and N = 1000. Then compare your result to the known correct value of 4.4. What is the percent error in each case?"
     ]
    },
    {
     "cell_type": "code",
     "collapsed": false,
     "input": [
      "import Integrators as myint\n",
      "\n",
      "import numpy as np\n",
      "\n",
      "function = lambda x: x**4 - 2*x + 1\n",
      "\n",
      "print myint.trapz(function,2,10)\n",
      "print abs(myint.trapz(function,2,10)-4.4)/4.4*100,\"% error\"\n",
      "print myint.trapz(function,2,100)\n",
      "print abs(myint.trapz(function,2,100)-4.4)/4.4*100,\"% error\"\n",
      "print myint.trapz(function,2,1000)\n",
      "print abs(myint.trapz(function,2,1000)-4.4)/4.4*100,\"% error\"\n",
      "\n",
      "print myint.simps(function,2,10)\n",
      "print abs(myint.simps(function,2,10)-4.4)/4.4*100,\"% error\"\n",
      "print myint.simps(function,2,100)\n",
      "print abs(myint.simps(function,2,100)-4.4)/4.4*100,\"% error\"\n",
      "print myint.simps(function,2,1000)\n",
      "print abs(myint.simps(function,2,1000)-4.4)/4.4*100,\"% error\"\n",
      "\n"
     ],
     "language": "python",
     "metadata": {},
     "outputs": [
      {
       "output_type": "stream",
       "stream": "stdout",
       "text": [
        "4.50656\n",
        "2.42181818182 % error\n",
        "4.401066656\n",
        "0.0242421818182 % error\n",
        "4.40001066667\n",
        "0.000242424218175 % error\n",
        "4.40042666667\n",
        "0.00969696969697 % error\n",
        "4.40000004267\n",
        "9.69696969187e-07 % error\n",
        "4.4\n",
        "9.69729347327e-11 % error\n"
       ]
      }
     ],
     "prompt_number": 19
    },
    {
     "cell_type": "markdown",
     "metadata": {},
     "source": [
      "Consider the integral\n",
      "\n",
      "E(x)=\u222be\u2212t2dt\n",
      "\n",
      "This is the error function, commonly seen in probability and statistics. There is no known way to perform this particular integral analytically, although the integrand can be expanded in a Taylor series and terms computed to arbitrary order. For most applications, numerical approaches are the only way forward.\n",
      "\n",
      "(a) Use scipy.integrate.cumtrapz to calculate E(x) for values of x from 0 to 3 in steps of 0.1. Print the result."
     ]
    },
    {
     "cell_type": "code",
     "collapsed": false,
     "input": [
      "import scipy.integrate as integrate\n",
      "\n",
      "def func(x):\n",
      "    return np.exp(-(x**2))\n",
      "t=np.arange(0,3.1,0.1)\n",
      "y=t\n",
      "I=integrate.cumtrapz(func(t),t,initial=0)\n",
      "print I"
     ],
     "language": "python",
     "metadata": {},
     "outputs": [
      {
       "output_type": "stream",
       "stream": "stdout",
       "text": [
        "[ 0.          0.09950249  0.19704446  0.29078049  0.37908424  0.46063146\n",
        "  0.53445532  0.59997046  0.6569664   0.70557392  0.7462108   0.77951463\n",
        "  0.80627088  0.82734325  0.84361215  0.85592503  0.86506023  0.87170427\n",
        "  0.87644128  0.87975207  0.88202044  0.88354398  0.88454709  0.88519453\n",
        "  0.88560418  0.88585826  0.88601274  0.88610482  0.88615862  0.88618943\n",
        "  0.88620673]\n"
       ]
      }
     ],
     "prompt_number": 20
    },
    {
     "cell_type": "markdown",
     "metadata": {},
     "source": [
      "(b) Plot the integrand as a function of t and E(x) as a function of x (both ranging from 0 to 3) on the same graph."
     ]
    },
    {
     "cell_type": "code",
     "collapsed": false,
     "input": [
      "import scipy.integrate as integrate\n",
      "\n",
      "def func(x):\n",
      "    return np.exp(-(t**2))\n",
      "t=np.arange(0,3.1,0.1)\n",
      "y=t\n",
      "I=integrate.cumtrapz(func(t),t,initial=0)\n",
      "plt.plot(t,func(t),t,I)\n",
      "plt.show()"
     ],
     "language": "python",
     "metadata": {},
     "outputs": [
      {
       "metadata": {},
       "output_type": "display_data",
       "png": "[encoded data removed]",
       "text": [
        "<matplotlib.figure.Figure at 0x1068b6050>"
       ]
      }
     ],
     "prompt_number": 21
    },
    {
     "cell_type": "markdown",
     "metadata": {},
     "source": [
      "Question 3\n",
      "\n",
      "Consider a particle in a one-dimensional box of width L. The probability of finding the particle between a and b is given by\n",
      "\n",
      "P(a,b)=\u222b|\u03c8(x)|^2dx\n",
      "\n",
      "where\n",
      "\n",
      "\u03c8(x)=\u221a(2/L)sin(n\u03c0x/L)\n",
      "\n",
      "is the wavefunction.\n",
      "\n",
      "(a) What is the probability of finding the particle between L/3 and L/2 for the ground state (n = 1) and for the first excited state (n = 2)? Let L = 1. Perform the integral using both scipy.integrate.trapz and scipy.integrate.quad with an accuracy of 6 sig figs. How many slices did you need to use for scipy.integrate.trapz?"
     ]
    },
    {
     "cell_type": "code",
     "collapsed": false,
     "input": [
      "def phi(n,x):\n",
      "    return (((2./1.)**(1./2.))*np.sin(n*np.pi*x/1.))**2\n",
      "\n",
      "L=1\n",
      "intrange=np.arange(1./3.,1/2.+.01,.01)\n",
      "\n",
      "I1=integrate.trapz((phi(1.,intrange)),intrange)\n",
      "print I1\n",
      "I2=integrate.trapz((phi(2.,intrange)),intrange)\n",
      "print I2\n",
      "I3=integrate.quad(phi,1./3.,1./2.,1.)\n",
      "print I3\n",
      "I4=integrate.quad(phi,1./3.,1./2.,2.)\n",
      "print I4"
     ],
     "language": "python",
     "metadata": {},
     "outputs": [
      {
       "output_type": "stream",
       "stream": "stdout",
       "text": [
        "0.311118868918\n",
        "0.0978466296378\n",
        "(0.3044988905221147, 3.380616792304666e-15)\n",
        "(0.09775055473894276, 1.0852491654105595e-15)\n"
       ]
      }
     ],
     "prompt_number": 22
    },
    {
     "cell_type": "markdown",
     "metadata": {},
     "source": [
      "(b) Make a plot of |\u03c8(x)|2 vs. x for the first two excited states with L=1"
     ]
    },
    {
     "cell_type": "code",
     "collapsed": false,
     "input": [
      "plt.plot(intrange,phi(1.,intrange),intrange,phi(2.,intrange))\n",
      "plt.show()"
     ],
     "language": "python",
     "metadata": {},
     "outputs": [
      {
       "metadata": {},
       "output_type": "display_data",
       "png": "[encoded data removed]",
       "text": [
        "<matplotlib.figure.Figure at 0x1068b6c50>"
       ]
      }
     ],
     "prompt_number": 27
    },
    {
     "cell_type": "markdown",
     "metadata": {},
     "source": [
      "Integrals of mass density lead to three interesting quantities:\n",
      "\n",
      "M=\u222b\u03c1dV\n",
      "\n",
      "r\u20d7 cm=(xcm,ycm,zcm)=1/M\u222br\u20d7 \u03c1dV\n",
      "\n",
      "Icm=\u222b(r\u2212rcm)^2\u03c1dV\n",
      "\n",
      "where M is the total mass (a scalar), r\u20d7 cm is the center of mass position (a vector of 3 components), Icm are the moments of inertia about the center of mass (diagonals of a 3x3 matrix), and the mass density, \u03c1, may be a function of the spatial variables.\n",
      "\n",
      "Consider a rectangular box: length (in x) = 0.2 m, width (in y) = 0.2 m, and height (in z) = 1.0 m centered on the origin, (0,0,0) and with a mass density, \u03c1(x,y,z) = (100 kg/m4)(y + 0.1) + (100 kg/m5)z2 for x, y, and z in meters."
     ]
    },
    {
     "cell_type": "markdown",
     "metadata": {},
     "source": [
      "\n",
      "(a) Use numerical integration to find M, r\u20d7 cm, and Icm. Note that you need M to compute r\u20d7 cm and r\u20d7 cm to compute Icm. The moments of inertia Icm are Ixx, Iyy, and Izz, where e.g. Ixx=\u222b((y\u2212ycm)2+(z\u2212zcm)2)\u03c1dV, etc."
     ]
    },
    {
     "cell_type": "code",
     "collapsed": false,
     "input": [
      "x=0.2\n",
      "y=0.2\n",
      "z=1.0\n",
      "\n",
      "rho=lambda z,y,x:(100)*(y+0.1)+100*(z**2)\n",
      "\n",
      "xmin=-.1\n",
      "xmax=0.1\n",
      "\n",
      "ymin=lambda x:-.1\n",
      "ymax=lambda y:0.1\n",
      "\n",
      "zmin=lambda x,y:-.5\n",
      "zmax=lambda x,y:.5\n",
      "\n",
      "M,err=integrate.tplquad(rho,xmin,xmax,ymin,ymax,zmin,zmax)\n",
      "print M\n",
      "\n",
      "rhox=lambda z,y,x:x*((100)*(y+0.1)+100*(z**2))\n",
      "rhoy=lambda z,y,x:y*((100)*(y+0.1)+100*(z**2))\n",
      "rhoz=lambda z,y,x:z*((100)*(y+0.1)+100*(z**2))\n",
      "\n",
      "rvectx,err=integrate.tplquad(rhox,xmin,xmax,ymin,ymax,zmin,zmax)\n",
      "rvecty,err=integrate.tplquad(rhoy,xmin,xmax,ymin,ymax,zmin,zmax)\n",
      "rvectz,err=integrate.tplquad(rhoz,xmin,xmax,ymin,ymax,zmin,zmax)\n",
      "\n",
      "rvectx=rvectx/M\n",
      "rvecty=rvecty/M\n",
      "rvectz=rvectz/M\n",
      "\n",
      "print rvectx\n",
      "print rvecty\n",
      "print rvectz\n",
      "\n",
      "Ixx=lambda z,y,x:((y-rvecty)**2+(z-rvectz)**2)*((100)*(y+0.1)+100*(z**2))\n",
      "Iyy=lambda z,y,x:((x-rvectx)**2+(z-rvectz)**2)*((100)*(y+0.1)+100*(z**2))\n",
      "Izz=lambda z,y,x:((y-rvecty)**2+(x-rvectx)**2)*((100)*(y+0.1)+100*(z**2))\n",
      "\n",
      "Ix,err=integrate.tplquad(Ixx,xmin,xmax,ymin,ymax,zmin,zmax)\n",
      "Iy,err=integrate.tplquad(Iyy,xmin,xmax,ymin,ymax,zmin,zmax)\n",
      "Iz,err=integrate.tplquad(Izz,xmin,xmax,ymin,ymax,zmin,zmax)\n",
      "\n",
      "print Ix\n",
      "print Iy\n",
      "print Iz\n",
      "\n",
      "Itotal = Ix+Iy+Iz\n",
      "\n",
      "print Itotal"
     ],
     "language": "python",
     "metadata": {},
     "outputs": [
      {
       "output_type": "stream",
       "stream": "stdout",
       "text": [
        "0.733333333333\n",
        "0.0\n",
        "0.0181818181818\n",
        "0.0\n",
        "0.0855353535354"
       ]
      },
      {
       "output_type": "stream",
       "stream": "stdout",
       "text": [
        "\n",
        "0.0857777777778\n",
        "0.00464646464646\n",
        "0.17595959596\n"
       ]
      }
     ],
     "prompt_number": 46
    },
    {
     "cell_type": "markdown",
     "metadata": {},
     "source": [
      "(b) The mass, center of mass, and moments of inertia can be easily computed analytically for a rectangular box of uniform density. (Compute them yourself or look them up). Verify your algorithm from part (a) works by having it compute the result for this test case. How accurate (how many sig figs?) is the numerical result?"
     ]
    },
    {
     "cell_type": "code",
     "collapsed": false,
     "input": [
      "w=.2\n",
      "h=.2\n",
      "d=1.0\n",
      "\n",
      "Mv=w*h*d\n",
      "\n",
      "Ih=(1./12.)*Mv*(w**2+d**2)\n",
      "Iw=(1./12.)*Mv*(h**2+d**2)\n",
      "Id=(1./12.)*Mv*(w**2+h**2)\n",
      "\n",
      "\n",
      "print Ih\n",
      "print Iw\n",
      "print Id\n",
      "\n",
      "print Ih+Iw+Id\n",
      "\n",
      "rhoUniform=lambda z,y,x:1\n",
      "\n",
      "xmin=-.1\n",
      "xmax=0.1\n",
      "\n",
      "ymin=lambda x:-.1\n",
      "ymax=lambda y:0.1\n",
      "\n",
      "zmin=lambda x,y:-.5\n",
      "zmax=lambda x,y:.5\n",
      "\n",
      "MU,err=integrate.tplquad(rhoUniform,xmin,xmax,ymin,ymax,zmin,zmax)\n",
      "print MU\n",
      "\n",
      "rhoUx=lambda z,y,x:x*1\n",
      "rhoUy=lambda z,y,x:y*1\n",
      "rhoUz=lambda z,y,x:z*1\n",
      "\n",
      "rvectUx,err=integrate.tplquad(rhoUx,xmin,xmax,ymin,ymax,zmin,zmax)\n",
      "rvectUy,err=integrate.tplquad(rhoUy,xmin,xmax,ymin,ymax,zmin,zmax)\n",
      "rvectUz,err=integrate.tplquad(rhoUz,xmin,xmax,ymin,ymax,zmin,zmax)\n",
      "\n",
      "rvectUx=rvectUx/M\n",
      "rvectUy=rvectUy/M\n",
      "rvectUz=rvectUz/M\n",
      "\n",
      "print rvectUx\n",
      "print rvectUy\n",
      "print rvectUz\n",
      "\n",
      "IUxx=lambda z,y,x:((y-rvectUy)**2+(z-rvectUz)**2)*1\n",
      "IUyy=lambda z,y,x:((x-rvectUx)**2+(z-rvectUz)**2)*1\n",
      "IUzz=lambda z,y,x:((y-rvectUy)**2+(x-rvectUx)**2)*1\n",
      "\n",
      "IUx,err=integrate.tplquad(IUxx,xmin,xmax,ymin,ymax,zmin,zmax)\n",
      "IUy,err=integrate.tplquad(IUyy,xmin,xmax,ymin,ymax,zmin,zmax)\n",
      "IUz,err=integrate.tplquad(IUzz,xmin,xmax,ymin,ymax,zmin,zmax)\n",
      "\n",
      "print IUx\n",
      "print IUy\n",
      "print IUz\n",
      "\n",
      "IUtotal = IUx+IUy+IUz\n",
      "\n",
      "print IUtotal\n",
      "\n"
     ],
     "language": "python",
     "metadata": {},
     "outputs": [
      {
       "output_type": "stream",
       "stream": "stdout",
       "text": [
        "0.00346666666667\n",
        "0.00346666666667\n",
        "0.000266666666667\n",
        "0.0072\n",
        "0.04\n",
        "0.0\n",
        "0.0\n",
        "0.0\n",
        "0.00346666666667"
       ]
      },
      {
       "output_type": "stream",
       "stream": "stdout",
       "text": [
        "\n",
        "0.00346666666667\n",
        "0.000266666666667\n",
        "0.0072\n"
       ]
      }
     ],
     "prompt_number": 50
    },
    {
     "cell_type": "markdown",
     "metadata": {},
     "source": [
      "(c) Finally, change the density function to something of your choosing (different from that used in parts (a) and (b)) and recompute M, r\u20d7 cm and Icm for that case."
     ]
    },
    {
     "cell_type": "code",
     "collapsed": false,
     "input": [
      "rho=lambda z,y,x:(50+2*y+3*z)\n",
      "\n",
      "xmin=-.1\n",
      "xmax=0.1\n",
      "\n",
      "ymin=lambda x:-.1\n",
      "ymax=lambda y:0.1\n",
      "\n",
      "zmin=lambda x,y:-.5\n",
      "zmax=lambda x,y:.5\n",
      "\n",
      "M,err=integrate.tplquad(rho,xmin,xmax,ymin,ymax,zmin,zmax)\n",
      "print M\n",
      "\n",
      "rhox=lambda z,y,x:x*(50+2*y+3*z)\n",
      "rhoy=lambda z,y,x:y*(50+2*y+3*z)\n",
      "rhoz=lambda z,y,x:z*(50+2*y+3*z)\n",
      "\n",
      "rvectx,err=integrate.tplquad(rhox,xmin,xmax,ymin,ymax,zmin,zmax)\n",
      "rvecty,err=integrate.tplquad(rhoy,xmin,xmax,ymin,ymax,zmin,zmax)\n",
      "rvectz,err=integrate.tplquad(rhoz,xmin,xmax,ymin,ymax,zmin,zmax)\n",
      "\n",
      "rvectx=rvectx/M\n",
      "rvecty=rvecty/M\n",
      "rvectz=rvectz/M\n",
      "\n",
      "print rvectx\n",
      "print rvecty\n",
      "print rvectz\n",
      "\n",
      "Ixx=lambda z,y,x:((y-rvecty)**2+(z-rvectz)**2)*(50+2*y+3*z)\n",
      "Iyy=lambda z,y,x:((x-rvectx)**2+(z-rvectz)**2)*(50+2*y+3*z)\n",
      "Izz=lambda z,y,x:((y-rvecty)**2+(x-rvectx)**2)*(50+2*y+3*z)\n",
      "\n",
      "Ix,err=integrate.tplquad(Ixx,xmin,xmax,ymin,ymax,zmin,zmax)\n",
      "Iy,err=integrate.tplquad(Iyy,xmin,xmax,ymin,ymax,zmin,zmax)\n",
      "Iz,err=integrate.tplquad(Izz,xmin,xmax,ymin,ymax,zmin,zmax)\n",
      "\n",
      "print Ix\n",
      "print Iy\n",
      "print Iz\n",
      "\n",
      "Itotal = Ix+Iy+Iz\n",
      "\n",
      "print Itotal"
     ],
     "language": "python",
     "metadata": {},
     "outputs": [
      {
       "output_type": "stream",
       "stream": "stdout",
       "text": [
        "2.0\n",
        "0.0\n",
        "0.000133333333333\n",
        "0.005\n",
        "0.173283297778"
       ]
      },
      {
       "output_type": "stream",
       "stream": "stdout",
       "text": [
        "\n",
        "0.173283333333\n",
        "0.0133332977778\n",
        "0.359899928889\n"
       ]
      }
     ],
     "prompt_number": 53
    },
    {
     "cell_type": "code",
     "collapsed": false,
     "input": [],
     "language": "python",
     "metadata": {},
     "outputs": []
    }
   ],
   "metadata": {}
  }
 ]
}